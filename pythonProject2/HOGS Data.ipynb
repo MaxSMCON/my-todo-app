{
 "cells": [
  {
   "cell_type": "code",
   "execution_count": 1,
   "metadata": {
    "collapsed": true
   },
   "outputs": [],
   "source": [
    "import pandas as pd\n",
    "import numpy as np\n",
    "\n",
    "import pyodbc as odbc\n",
    "# import sqlalchemy"
   ]
  },
  {
   "cell_type": "code",
   "execution_count": 2,
   "outputs": [
    {
     "name": "stdout",
     "output_type": "stream",
     "text": [
      "<pyodbc.Cursor object at 0x000001A3B9476D30>\n",
      "('PiecesByDay', )\n",
      "('CarlisleUpperLowerTreshhold', )\n",
      "('Giveaway', )\n",
      "('HogGradingDataGrouped', )\n",
      "('ProductionByHour', )\n",
      "('HotDressScaleData', )\n",
      "('CutSheetSnapshot', )\n",
      "('HogGradingData', )\n",
      "('CutSheetChanges', )\n",
      "('AutoFomData', )\n",
      "('Genetics', )\n"
     ]
    }
   ],
   "source": [
    "server = 'conapp02'\n",
    "database = 'CSBInventoryDW'\n",
    "username = 'CONESTOGAMEATS\\msmetanin'\n",
    "password = open('mydata.txt', 'r').read()\n",
    "cnxn = odbc.connect('DRIVER={SQL Server}; SERVER='+server+';DATABASE='+database+';UID='+username+';PWD='+ password, trusted_connection='yes')\n",
    "cursor = cnxn.cursor()\n",
    "print(cursor)\n",
    "\n",
    "cursor.execute(\"SELECT table_name FROM information_schema.tables\")\n",
    "for table_name in cursor:\n",
    "   print(table_name)"
   ],
   "metadata": {
    "collapsed": false
   }
  },
  {
   "cell_type": "markdown",
   "source": [
    "## Hogs Grading"
   ],
   "metadata": {
    "collapsed": false
   }
  },
  {
   "cell_type": "code",
   "execution_count": 5,
   "outputs": [
    {
     "name": "stderr",
     "output_type": "stream",
     "text": [
      "C:\\Users\\msmetanin\\AppData\\Local\\Temp\\ipykernel_22688\\3756423147.py:19: UserWarning: pandas only supports SQLAlchemy connectable (engine/connection) or database string URI or sqlite3 DBAPI2 connection. Other DBAPI2 objects are not tested. Please consider using SQLAlchemy.\n",
      "  hogs_count = pd.read_sql(query, cnxn, params = query_params)\n"
     ]
    },
    {
     "data": {
      "text/plain": "                        Tattoo                         Qualificationcode  \\\n0    10165                      No Grade                                   \n1    10165                      0                                          \n2    10185                      No Grade                                   \n3    10185                      0                                          \n4    10255                      No Grade                                   \n..                         ...                                       ...   \n181  89907                      No Grade                                   \n182  89907                      0                                          \n183  92257                      No Grade                                   \n184  92257                      0                                          \n185  XXX                        0                                          \n\n     Hogs_Count     AVG_HDW  \n0            17  116.129411  \n1           243  114.004938  \n2            13  109.338461  \n3            27  114.496296  \n4            17  111.711764  \n..          ...         ...  \n181          11  103.036363  \n182          99  106.158585  \n183           9  110.455555  \n184          56  109.537500  \n185          15  108.200000  \n\n[186 rows x 4 columns]",
      "text/html": "<div>\n<style scoped>\n    .dataframe tbody tr th:only-of-type {\n        vertical-align: middle;\n    }\n\n    .dataframe tbody tr th {\n        vertical-align: top;\n    }\n\n    .dataframe thead th {\n        text-align: right;\n    }\n</style>\n<table border=\"1\" class=\"dataframe\">\n  <thead>\n    <tr style=\"text-align: right;\">\n      <th></th>\n      <th>Tattoo</th>\n      <th>Qualificationcode</th>\n      <th>Hogs_Count</th>\n      <th>AVG_HDW</th>\n    </tr>\n  </thead>\n  <tbody>\n    <tr>\n      <th>0</th>\n      <td>10165</td>\n      <td>No Grade</td>\n      <td>17</td>\n      <td>116.129411</td>\n    </tr>\n    <tr>\n      <th>1</th>\n      <td>10165</td>\n      <td>0</td>\n      <td>243</td>\n      <td>114.004938</td>\n    </tr>\n    <tr>\n      <th>2</th>\n      <td>10185</td>\n      <td>No Grade</td>\n      <td>13</td>\n      <td>109.338461</td>\n    </tr>\n    <tr>\n      <th>3</th>\n      <td>10185</td>\n      <td>0</td>\n      <td>27</td>\n      <td>114.496296</td>\n    </tr>\n    <tr>\n      <th>4</th>\n      <td>10255</td>\n      <td>No Grade</td>\n      <td>17</td>\n      <td>111.711764</td>\n    </tr>\n    <tr>\n      <th>...</th>\n      <td>...</td>\n      <td>...</td>\n      <td>...</td>\n      <td>...</td>\n    </tr>\n    <tr>\n      <th>181</th>\n      <td>89907</td>\n      <td>No Grade</td>\n      <td>11</td>\n      <td>103.036363</td>\n    </tr>\n    <tr>\n      <th>182</th>\n      <td>89907</td>\n      <td>0</td>\n      <td>99</td>\n      <td>106.158585</td>\n    </tr>\n    <tr>\n      <th>183</th>\n      <td>92257</td>\n      <td>No Grade</td>\n      <td>9</td>\n      <td>110.455555</td>\n    </tr>\n    <tr>\n      <th>184</th>\n      <td>92257</td>\n      <td>0</td>\n      <td>56</td>\n      <td>109.537500</td>\n    </tr>\n    <tr>\n      <th>185</th>\n      <td>XXX</td>\n      <td>0</td>\n      <td>15</td>\n      <td>108.200000</td>\n    </tr>\n  </tbody>\n</table>\n<p>186 rows × 4 columns</p>\n</div>"
     },
     "execution_count": 5,
     "metadata": {},
     "output_type": "execute_result"
    }
   ],
   "source": [
    "query = '''\n",
    "SELECT\n",
    "--KillDate,\n",
    "Tattoo,\n",
    "Qualificationcode,\n",
    "COUNT(MuscleDepth) as Hogs_Count,\n",
    "AVG(HotWeightKg) as AVG_HDW\n",
    "\n",
    "\n",
    "From HogGradingData\n",
    "\n",
    "where Killdate between ? and ?\n",
    "\n",
    "GROUP BY Tattoo, Qualificationcode\n",
    "\n",
    "ORDER BY Tattoo, Qualificationcode DESC\n",
    "'''\n",
    "query_params = ['20230420', '20230421']\n",
    "hogs_count = pd.read_sql(query, cnxn, params = query_params)\n",
    "hogs_count"
   ],
   "metadata": {
    "collapsed": false
   }
  },
  {
   "cell_type": "code",
   "execution_count": 14,
   "outputs": [
    {
     "name": "stderr",
     "output_type": "stream",
     "text": [
      "C:\\Users\\msmetanin\\AppData\\Local\\Temp\\ipykernel_22688\\2517852221.py:13: UserWarning: pandas only supports SQLAlchemy connectable (engine/connection) or database string URI or sqlite3 DBAPI2 connection. Other DBAPI2 objects are not tested. Please consider using SQLAlchemy.\n",
      "  hogs_count = pd.read_sql(query, cnxn, params = query_params)\n"
     ]
    },
    {
     "name": "stdout",
     "output_type": "stream",
     "text": [
      "columns List:  Index(['KillDate', 'Count_Hogs', 'AVG_HDW'], dtype='object')\n"
     ]
    },
    {
     "data": {
      "text/plain": "     KillDate  Count_Hogs     AVG_HDW\n0  2023-04-20        8558  109.191399\n1  2023-04-21        8414  110.870929\n2  2023-04-22        4708  111.941567",
      "text/html": "<div>\n<style scoped>\n    .dataframe tbody tr th:only-of-type {\n        vertical-align: middle;\n    }\n\n    .dataframe tbody tr th {\n        vertical-align: top;\n    }\n\n    .dataframe thead th {\n        text-align: right;\n    }\n</style>\n<table border=\"1\" class=\"dataframe\">\n  <thead>\n    <tr style=\"text-align: right;\">\n      <th></th>\n      <th>KillDate</th>\n      <th>Count_Hogs</th>\n      <th>AVG_HDW</th>\n    </tr>\n  </thead>\n  <tbody>\n    <tr>\n      <th>0</th>\n      <td>2023-04-20</td>\n      <td>8558</td>\n      <td>109.191399</td>\n    </tr>\n    <tr>\n      <th>1</th>\n      <td>2023-04-21</td>\n      <td>8414</td>\n      <td>110.870929</td>\n    </tr>\n    <tr>\n      <th>2</th>\n      <td>2023-04-22</td>\n      <td>4708</td>\n      <td>111.941567</td>\n    </tr>\n  </tbody>\n</table>\n</div>"
     },
     "execution_count": 14,
     "metadata": {},
     "output_type": "execute_result"
    }
   ],
   "source": [
    "query = '''\n",
    "SELECT\n",
    "KillDate,\n",
    "Count(KillDate) as Count_Hogs,\n",
    "AVG(HotWeightKg) as AVG_HDW\n",
    "From HogGradingData\n",
    "\n",
    "where Killdate between ? and ?\n",
    "\n",
    "GROUP BY KillDate\n",
    "'''\n",
    "query_params = ['20230420', '20230422']\n",
    "hogs_count = pd.read_sql(query, cnxn, params = query_params)\n",
    "print(\"columns List: \", hogs_count.columns)\n",
    "# print(\"Imputed count: \", hogs_count.loc['KillTime' == \"0:00:00 AM\"])\n",
    "# print('Hogs Killed: ', hogs_count.QualificationCode.count())\n",
    "hogs_count\n"
   ],
   "metadata": {
    "collapsed": false
   }
  },
  {
   "cell_type": "code",
   "execution_count": 43,
   "outputs": [
    {
     "name": "stderr",
     "output_type": "stream",
     "text": [
      "C:\\Users\\msmetanin\\AppData\\Local\\Temp\\ipykernel_29320\\942109085.py:16: UserWarning: pandas only supports SQLAlchemy connectable (engine/connection) or database string URI or sqlite3 DBAPI2 connection. Other DBAPI2 objects are not tested. Please consider using SQLAlchemy.\n",
      "  hogs_count = pd.read_sql(query, cnxn, params = query_params)\n"
     ]
    },
    {
     "data": {
      "text/plain": "        KillDate         stationtime                     Tattoo  HotWeightkg  \\\n0     2023-04-10 2023-04-10 10:48:03  20855                            102.7   \n1     2023-04-10 2023-04-10 10:48:08  20855                             98.7   \n2     2023-04-10 2023-04-10 10:48:14  20855                             82.1   \n3     2023-04-10 2023-04-10 10:48:19  20855                             91.1   \n4     2023-04-10 2023-04-10 10:48:23  20855                             95.0   \n...          ...                 ...                        ...          ...   \n8568  2023-04-10 2023-04-10 00:00:00  57575                            116.1   \n8569  2023-04-10 2023-04-10 00:00:00  57575                            116.1   \n8570  2023-04-10 2023-04-10 00:00:00  57575                            116.1   \n8571  2023-04-10 2023-04-10 00:00:00  57575                            116.1   \n8572  2023-04-10 2023-04-10 00:00:00  57575                            116.1   \n\n                             Qualificationcode  \n0     0                                         \n1     0                                         \n2     0                                         \n3     0                                         \n4     0                                         \n...                                        ...  \n8568  No Grade                                  \n8569  No Grade                                  \n8570  No Grade                                  \n8571  No Grade                                  \n8572  No Grade                                  \n\n[8573 rows x 5 columns]",
      "text/html": "<div>\n<style scoped>\n    .dataframe tbody tr th:only-of-type {\n        vertical-align: middle;\n    }\n\n    .dataframe tbody tr th {\n        vertical-align: top;\n    }\n\n    .dataframe thead th {\n        text-align: right;\n    }\n</style>\n<table border=\"1\" class=\"dataframe\">\n  <thead>\n    <tr style=\"text-align: right;\">\n      <th></th>\n      <th>KillDate</th>\n      <th>stationtime</th>\n      <th>Tattoo</th>\n      <th>HotWeightkg</th>\n      <th>Qualificationcode</th>\n    </tr>\n  </thead>\n  <tbody>\n    <tr>\n      <th>0</th>\n      <td>2023-04-10</td>\n      <td>2023-04-10 10:48:03</td>\n      <td>20855</td>\n      <td>102.7</td>\n      <td>0</td>\n    </tr>\n    <tr>\n      <th>1</th>\n      <td>2023-04-10</td>\n      <td>2023-04-10 10:48:08</td>\n      <td>20855</td>\n      <td>98.7</td>\n      <td>0</td>\n    </tr>\n    <tr>\n      <th>2</th>\n      <td>2023-04-10</td>\n      <td>2023-04-10 10:48:14</td>\n      <td>20855</td>\n      <td>82.1</td>\n      <td>0</td>\n    </tr>\n    <tr>\n      <th>3</th>\n      <td>2023-04-10</td>\n      <td>2023-04-10 10:48:19</td>\n      <td>20855</td>\n      <td>91.1</td>\n      <td>0</td>\n    </tr>\n    <tr>\n      <th>4</th>\n      <td>2023-04-10</td>\n      <td>2023-04-10 10:48:23</td>\n      <td>20855</td>\n      <td>95.0</td>\n      <td>0</td>\n    </tr>\n    <tr>\n      <th>...</th>\n      <td>...</td>\n      <td>...</td>\n      <td>...</td>\n      <td>...</td>\n      <td>...</td>\n    </tr>\n    <tr>\n      <th>8568</th>\n      <td>2023-04-10</td>\n      <td>2023-04-10 00:00:00</td>\n      <td>57575</td>\n      <td>116.1</td>\n      <td>No Grade</td>\n    </tr>\n    <tr>\n      <th>8569</th>\n      <td>2023-04-10</td>\n      <td>2023-04-10 00:00:00</td>\n      <td>57575</td>\n      <td>116.1</td>\n      <td>No Grade</td>\n    </tr>\n    <tr>\n      <th>8570</th>\n      <td>2023-04-10</td>\n      <td>2023-04-10 00:00:00</td>\n      <td>57575</td>\n      <td>116.1</td>\n      <td>No Grade</td>\n    </tr>\n    <tr>\n      <th>8571</th>\n      <td>2023-04-10</td>\n      <td>2023-04-10 00:00:00</td>\n      <td>57575</td>\n      <td>116.1</td>\n      <td>No Grade</td>\n    </tr>\n    <tr>\n      <th>8572</th>\n      <td>2023-04-10</td>\n      <td>2023-04-10 00:00:00</td>\n      <td>57575</td>\n      <td>116.1</td>\n      <td>No Grade</td>\n    </tr>\n  </tbody>\n</table>\n<p>8573 rows × 5 columns</p>\n</div>"
     },
     "execution_count": 43,
     "metadata": {},
     "output_type": "execute_result"
    }
   ],
   "source": [
    "query = '''\n",
    "SELECT\n",
    "KillDate,\n",
    "KillTime as stationtime,\n",
    "Tattoo,\n",
    "HotWeightkg,\n",
    "Qualificationcode\n",
    "\n",
    "From HogGradingData\n",
    "\n",
    "where Killdate between ? and ?\n",
    "\n",
    "--GROUP BY KillDate\n",
    "'''\n",
    "query_params = ['20230410', '20230410']\n",
    "hogs_count = pd.read_sql(query, cnxn, params = query_params)\n",
    "hogs_count"
   ],
   "metadata": {
    "collapsed": false
   }
  },
  {
   "cell_type": "markdown",
   "source": [],
   "metadata": {
    "collapsed": false
   }
  },
  {
   "cell_type": "markdown",
   "source": [
    "## Autofom Import"
   ],
   "metadata": {
    "collapsed": false
   }
  },
  {
   "cell_type": "code",
   "execution_count": 4,
   "outputs": [
    {
     "name": "stderr",
     "output_type": "stream",
     "text": [
      "C:\\Users\\msmetanin\\AppData\\Local\\Temp\\ipykernel_24336\\201702377.py:9: UserWarning: pandas only supports SQLAlchemy connectable (engine/connection) or database string URI or sqlite3 DBAPI2 connection. Other DBAPI2 objects are not tested. Please consider using SQLAlchemy.\n",
      "  df_atfm = pd.read_sql(query, cnxn, params = ['20230420', '20230430'])\n"
     ]
    },
    {
     "data": {
      "text/plain": "   KillDate      \n0  20230420  8558\n1  20230421  8570\n2  20230422  4782\n3  20230424  8567\n4  20230425  8560\n5  20230426  8571",
      "text/html": "<div>\n<style scoped>\n    .dataframe tbody tr th:only-of-type {\n        vertical-align: middle;\n    }\n\n    .dataframe tbody tr th {\n        vertical-align: top;\n    }\n\n    .dataframe thead th {\n        text-align: right;\n    }\n</style>\n<table border=\"1\" class=\"dataframe\">\n  <thead>\n    <tr style=\"text-align: right;\">\n      <th></th>\n      <th>KillDate</th>\n      <th></th>\n    </tr>\n  </thead>\n  <tbody>\n    <tr>\n      <th>0</th>\n      <td>20230420</td>\n      <td>8558</td>\n    </tr>\n    <tr>\n      <th>1</th>\n      <td>20230421</td>\n      <td>8570</td>\n    </tr>\n    <tr>\n      <th>2</th>\n      <td>20230422</td>\n      <td>4782</td>\n    </tr>\n    <tr>\n      <th>3</th>\n      <td>20230424</td>\n      <td>8567</td>\n    </tr>\n    <tr>\n      <th>4</th>\n      <td>20230425</td>\n      <td>8560</td>\n    </tr>\n    <tr>\n      <th>5</th>\n      <td>20230426</td>\n      <td>8571</td>\n    </tr>\n  </tbody>\n</table>\n</div>"
     },
     "execution_count": 4,
     "metadata": {},
     "output_type": "execute_result"
    }
   ],
   "source": [
    "query = '''SELECT\n",
    "            KillDate,\n",
    "            COUNT(VendorKey)\n",
    "            FROM AutoFomData\n",
    "            WHERE KillDate between ? and ?\n",
    "            GROUP BY KillDate\n",
    "            '''\n",
    "\n",
    "df_atfm = pd.read_sql(query, cnxn, params = ['20230420', '20230430'])\n",
    "df_atfm"
   ],
   "metadata": {
    "collapsed": false
   }
  },
  {
   "cell_type": "markdown",
   "source": [
    "## Join Atutofom and Genetic table"
   ],
   "metadata": {
    "collapsed": false
   }
  },
  {
   "cell_type": "code",
   "execution_count": null,
   "outputs": [],
   "source": [
    "query = '''\n",
    "Select '''"
   ],
   "metadata": {
    "collapsed": false
   }
  },
  {
   "cell_type": "markdown",
   "source": [
    "## Genetics"
   ],
   "metadata": {
    "collapsed": false
   }
  },
  {
   "cell_type": "code",
   "execution_count": 5,
   "outputs": [
    {
     "name": "stderr",
     "output_type": "stream",
     "text": [
      "C:\\Users\\msmetanin\\AppData\\Local\\Temp\\ipykernel_24336\\2176209790.py:5: UserWarning: pandas only supports SQLAlchemy connectable (engine/connection) or database string URI or sqlite3 DBAPI2 connection. Other DBAPI2 objects are not tested. Please consider using SQLAlchemy.\n",
      "  df_gen = pd.read_sql(query, cnxn)\n"
     ]
    },
    {
     "data": {
      "text/plain": "      MemberID               MemberName  PPPNumber            ProducerName  \\\n0            1           Test Member #1       1112                    None   \n1          403            BASBARN FARMS       8002           Basbarn Farms   \n2          404        VAN ROOIJEN, JOHN       8005  Van Rooijen Farms Ltd.   \n3          405  J.M.S. BOERE FARMS LTD.       8006    JMS Boere Farms Ltd.   \n4          406               BEN ZEGERS       8011    1551870 Ontario Inc.   \n...        ...                      ...        ...                     ...   \n8719       697            Milagre Farms       5003           Milagre Farms   \n8720       697            Milagre Farms       5003           Milagre Farms   \n8721       697            Milagre Farms       5003           Milagre Farms   \n8722       697            Milagre Farms       5003           Milagre Farms   \n8723       700            Milagre Farms       9072                    None   \n\n     Tattoo                DamLine        SireLine  \n0      None                   None            None  \n1      None                   None            None  \n2      None                   None            None  \n3      None                   None            None  \n4      None                   None            None  \n...     ...                    ...             ...  \n8719  37367  Topigs Norsvin - TN70  Hypor - Magnus  \n8720  51875  Topigs Norsvin - TN70  Hypor - Magnus  \n8721  58057  Topigs Norsvin - TN70  Hypor - Magnus  \n8722  73555  Topigs Norsvin - TN70  Hypor - Magnus  \n8723   None  Topigs Norsvin - TN70  Hypor - Magnus  \n\n[8724 rows x 7 columns]",
      "text/html": "<div>\n<style scoped>\n    .dataframe tbody tr th:only-of-type {\n        vertical-align: middle;\n    }\n\n    .dataframe tbody tr th {\n        vertical-align: top;\n    }\n\n    .dataframe thead th {\n        text-align: right;\n    }\n</style>\n<table border=\"1\" class=\"dataframe\">\n  <thead>\n    <tr style=\"text-align: right;\">\n      <th></th>\n      <th>MemberID</th>\n      <th>MemberName</th>\n      <th>PPPNumber</th>\n      <th>ProducerName</th>\n      <th>Tattoo</th>\n      <th>DamLine</th>\n      <th>SireLine</th>\n    </tr>\n  </thead>\n  <tbody>\n    <tr>\n      <th>0</th>\n      <td>1</td>\n      <td>Test Member #1</td>\n      <td>1112</td>\n      <td>None</td>\n      <td>None</td>\n      <td>None</td>\n      <td>None</td>\n    </tr>\n    <tr>\n      <th>1</th>\n      <td>403</td>\n      <td>BASBARN FARMS</td>\n      <td>8002</td>\n      <td>Basbarn Farms</td>\n      <td>None</td>\n      <td>None</td>\n      <td>None</td>\n    </tr>\n    <tr>\n      <th>2</th>\n      <td>404</td>\n      <td>VAN ROOIJEN, JOHN</td>\n      <td>8005</td>\n      <td>Van Rooijen Farms Ltd.</td>\n      <td>None</td>\n      <td>None</td>\n      <td>None</td>\n    </tr>\n    <tr>\n      <th>3</th>\n      <td>405</td>\n      <td>J.M.S. BOERE FARMS LTD.</td>\n      <td>8006</td>\n      <td>JMS Boere Farms Ltd.</td>\n      <td>None</td>\n      <td>None</td>\n      <td>None</td>\n    </tr>\n    <tr>\n      <th>4</th>\n      <td>406</td>\n      <td>BEN ZEGERS</td>\n      <td>8011</td>\n      <td>1551870 Ontario Inc.</td>\n      <td>None</td>\n      <td>None</td>\n      <td>None</td>\n    </tr>\n    <tr>\n      <th>...</th>\n      <td>...</td>\n      <td>...</td>\n      <td>...</td>\n      <td>...</td>\n      <td>...</td>\n      <td>...</td>\n      <td>...</td>\n    </tr>\n    <tr>\n      <th>8719</th>\n      <td>697</td>\n      <td>Milagre Farms</td>\n      <td>5003</td>\n      <td>Milagre Farms</td>\n      <td>37367</td>\n      <td>Topigs Norsvin - TN70</td>\n      <td>Hypor - Magnus</td>\n    </tr>\n    <tr>\n      <th>8720</th>\n      <td>697</td>\n      <td>Milagre Farms</td>\n      <td>5003</td>\n      <td>Milagre Farms</td>\n      <td>51875</td>\n      <td>Topigs Norsvin - TN70</td>\n      <td>Hypor - Magnus</td>\n    </tr>\n    <tr>\n      <th>8721</th>\n      <td>697</td>\n      <td>Milagre Farms</td>\n      <td>5003</td>\n      <td>Milagre Farms</td>\n      <td>58057</td>\n      <td>Topigs Norsvin - TN70</td>\n      <td>Hypor - Magnus</td>\n    </tr>\n    <tr>\n      <th>8722</th>\n      <td>697</td>\n      <td>Milagre Farms</td>\n      <td>5003</td>\n      <td>Milagre Farms</td>\n      <td>73555</td>\n      <td>Topigs Norsvin - TN70</td>\n      <td>Hypor - Magnus</td>\n    </tr>\n    <tr>\n      <th>8723</th>\n      <td>700</td>\n      <td>Milagre Farms</td>\n      <td>9072</td>\n      <td>None</td>\n      <td>None</td>\n      <td>Topigs Norsvin - TN70</td>\n      <td>Hypor - Magnus</td>\n    </tr>\n  </tbody>\n</table>\n<p>8724 rows × 7 columns</p>\n</div>"
     },
     "execution_count": 5,
     "metadata": {},
     "output_type": "execute_result"
    }
   ],
   "source": [
    "query = '''\n",
    "select *\n",
    "from Genetics\n",
    "'''\n",
    "df_gen = pd.read_sql(query, cnxn)\n",
    "df_gen"
   ],
   "metadata": {
    "collapsed": false
   }
  }
 ],
 "metadata": {
  "kernelspec": {
   "display_name": "Python 3",
   "language": "python",
   "name": "python3"
  },
  "language_info": {
   "codemirror_mode": {
    "name": "ipython",
    "version": 2
   },
   "file_extension": ".py",
   "mimetype": "text/x-python",
   "name": "python",
   "nbconvert_exporter": "python",
   "pygments_lexer": "ipython2",
   "version": "2.7.6"
  }
 },
 "nbformat": 4,
 "nbformat_minor": 0
}
