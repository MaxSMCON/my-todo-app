{
 "cells": [
  {
   "cell_type": "code",
   "execution_count": 8,
   "metadata": {
    "collapsed": true
   },
   "outputs": [],
   "source": [
    "import pandas as pd\n",
    "import pyodbc as odbc\n"
   ]
  },
  {
   "cell_type": "code",
   "execution_count": 7,
   "outputs": [
    {
     "name": "stdout",
     "output_type": "stream",
     "text": [
      "<pyodbc.Cursor object at 0x0000027FD489CFB0>\n"
     ]
    }
   ],
   "source": [
    "server = 'cmpcsb01'\n",
    "database = 'conestoga'\n",
    "username = 'remotequery'\n",
    "password = 'excel'\n",
    "cnxn = odbc.connect('DRIVER={SQL Server}; SERVER='+server+';DATABASE='+database+';UID='+username+';PWD='+ password, trusted_connection='no')\n",
    "cursor = cnxn.cursor()\n",
    "print(cursor)\n"
   ],
   "metadata": {
    "collapsed": false
   }
  },
  {
   "cell_type": "markdown",
   "source": [
    "## Call Program 52"
   ],
   "metadata": {
    "collapsed": false
   }
  },
  {
   "cell_type": "code",
   "execution_count": 9,
   "outputs": [
    {
     "name": "stderr",
     "output_type": "stream",
     "text": [
      "C:\\Users\\msmetanin\\AppData\\Local\\Temp\\ipykernel_19964\\1590895568.py:13: UserWarning: pandas only supports SQLAlchemy connectable (engine/connection) or database string URI or sqlite3 DBAPI2 connection. Other DBAPI2 objects are not tested. Please consider using SQLAlchemy.\n",
      "  df = pd.read_sql(query, cnxn)\n"
     ]
    },
    {
     "data": {
      "text/plain": "  MovementDate  MovementDateFloat ReferenceNumber  ItemKey MovementType  \\\n0   2023-05-17         20230517.0    133136254277    602.0         Exit   \n1   2023-05-17         20230517.0    133136254259    111.0         Exit   \n2   2023-05-17         20230517.0    133136254178    309.0         Exit   \n3   2023-05-17         20230517.0    133136254167    309.0         Exit   \n4   2023-05-17         20230517.0    163136178461    103.0         Exit   \n\n     PostingType  CostCenterKey1  NLotNo1    LotDate1  CostCenterKey2  \\\n0  Data Transfer           600.0      2.0  2023-05-16           451.0   \n1  Data Transfer           600.0      2.0  2023-05-16           416.0   \n2  Data Transfer           620.0      2.0  2023-05-16           481.0   \n3  Data Transfer           620.0      2.0  2023-05-16           482.0   \n4  Data Transfer           600.0      1.0  2023-05-16           416.0   \n\n   CaseQty     Kgs  UserKey    TransactDateTime  OrderKey  AddressKey  \\\n0      0.0   585.0    593.0 2023-05-17 05:16:08       0.0         0.0   \n1      1.0   889.0    514.0 2023-05-17 05:36:10       0.0         0.0   \n2      1.0  1089.2    645.0 2023-05-17 05:43:48       0.0         0.0   \n3      1.0   995.6    645.0 2023-05-17 05:44:04       0.0         0.0   \n4      1.0   500.5    593.0 2023-05-17 05:59:45       0.0         0.0   \n\n                 SSCC PalletNumber         TimeOfDay  \n0  382928880512953247            0  05:16:08.0000000  \n1  382928880512950307            0  05:36:10.0000000  \n2  382928880512895776            0  05:43:48.0000000  \n3   82928880512886827            0  05:44:04.0000000  \n4   82928880512856820            0  05:59:45.0000000  ",
      "text/html": "<div>\n<style scoped>\n    .dataframe tbody tr th:only-of-type {\n        vertical-align: middle;\n    }\n\n    .dataframe tbody tr th {\n        vertical-align: top;\n    }\n\n    .dataframe thead th {\n        text-align: right;\n    }\n</style>\n<table border=\"1\" class=\"dataframe\">\n  <thead>\n    <tr style=\"text-align: right;\">\n      <th></th>\n      <th>MovementDate</th>\n      <th>MovementDateFloat</th>\n      <th>ReferenceNumber</th>\n      <th>ItemKey</th>\n      <th>MovementType</th>\n      <th>PostingType</th>\n      <th>CostCenterKey1</th>\n      <th>NLotNo1</th>\n      <th>LotDate1</th>\n      <th>CostCenterKey2</th>\n      <th>CaseQty</th>\n      <th>Kgs</th>\n      <th>UserKey</th>\n      <th>TransactDateTime</th>\n      <th>OrderKey</th>\n      <th>AddressKey</th>\n      <th>SSCC</th>\n      <th>PalletNumber</th>\n      <th>TimeOfDay</th>\n    </tr>\n  </thead>\n  <tbody>\n    <tr>\n      <th>0</th>\n      <td>2023-05-17</td>\n      <td>20230517.0</td>\n      <td>133136254277</td>\n      <td>602.0</td>\n      <td>Exit</td>\n      <td>Data Transfer</td>\n      <td>600.0</td>\n      <td>2.0</td>\n      <td>2023-05-16</td>\n      <td>451.0</td>\n      <td>0.0</td>\n      <td>585.0</td>\n      <td>593.0</td>\n      <td>2023-05-17 05:16:08</td>\n      <td>0.0</td>\n      <td>0.0</td>\n      <td>382928880512953247</td>\n      <td>0</td>\n      <td>05:16:08.0000000</td>\n    </tr>\n    <tr>\n      <th>1</th>\n      <td>2023-05-17</td>\n      <td>20230517.0</td>\n      <td>133136254259</td>\n      <td>111.0</td>\n      <td>Exit</td>\n      <td>Data Transfer</td>\n      <td>600.0</td>\n      <td>2.0</td>\n      <td>2023-05-16</td>\n      <td>416.0</td>\n      <td>1.0</td>\n      <td>889.0</td>\n      <td>514.0</td>\n      <td>2023-05-17 05:36:10</td>\n      <td>0.0</td>\n      <td>0.0</td>\n      <td>382928880512950307</td>\n      <td>0</td>\n      <td>05:36:10.0000000</td>\n    </tr>\n    <tr>\n      <th>2</th>\n      <td>2023-05-17</td>\n      <td>20230517.0</td>\n      <td>133136254178</td>\n      <td>309.0</td>\n      <td>Exit</td>\n      <td>Data Transfer</td>\n      <td>620.0</td>\n      <td>2.0</td>\n      <td>2023-05-16</td>\n      <td>481.0</td>\n      <td>1.0</td>\n      <td>1089.2</td>\n      <td>645.0</td>\n      <td>2023-05-17 05:43:48</td>\n      <td>0.0</td>\n      <td>0.0</td>\n      <td>382928880512895776</td>\n      <td>0</td>\n      <td>05:43:48.0000000</td>\n    </tr>\n    <tr>\n      <th>3</th>\n      <td>2023-05-17</td>\n      <td>20230517.0</td>\n      <td>133136254167</td>\n      <td>309.0</td>\n      <td>Exit</td>\n      <td>Data Transfer</td>\n      <td>620.0</td>\n      <td>2.0</td>\n      <td>2023-05-16</td>\n      <td>482.0</td>\n      <td>1.0</td>\n      <td>995.6</td>\n      <td>645.0</td>\n      <td>2023-05-17 05:44:04</td>\n      <td>0.0</td>\n      <td>0.0</td>\n      <td>82928880512886827</td>\n      <td>0</td>\n      <td>05:44:04.0000000</td>\n    </tr>\n    <tr>\n      <th>4</th>\n      <td>2023-05-17</td>\n      <td>20230517.0</td>\n      <td>163136178461</td>\n      <td>103.0</td>\n      <td>Exit</td>\n      <td>Data Transfer</td>\n      <td>600.0</td>\n      <td>1.0</td>\n      <td>2023-05-16</td>\n      <td>416.0</td>\n      <td>1.0</td>\n      <td>500.5</td>\n      <td>593.0</td>\n      <td>2023-05-17 05:59:45</td>\n      <td>0.0</td>\n      <td>0.0</td>\n      <td>82928880512856820</td>\n      <td>0</td>\n      <td>05:59:45.0000000</td>\n    </tr>\n  </tbody>\n</table>\n</div>"
     },
     "execution_count": 9,
     "metadata": {},
     "output_type": "execute_result"
    }
   ],
   "source": [
    "query = '''\n",
    "            execute spMovementAnalysis '20230517','20230517',\n",
    "            -- meat Item Range:\n",
    "            '100','999',\n",
    "            -- Cost Center Start range:\n",
    "            '500','1999',\n",
    "            -- cost center end range:\n",
    "            '400','499',\n",
    "            -- Shift\n",
    "            '1','2'\n",
    "'''\n",
    "\n",
    "df = pd.read_sql(query, cnxn)\n",
    "\n",
    "df.head()"
   ],
   "metadata": {
    "collapsed": false
   }
  },
  {
   "cell_type": "code",
   "execution_count": 10,
   "outputs": [
    {
     "data": {
      "text/plain": "     ItemKey     Kgs\n3      309.0   995.6\n4      103.0   500.5\n9      501.0   981.6\n30     603.0   762.0\n45     811.0   569.8\n..       ...     ...\n634    603.0   736.0\n636    808.0   630.6\n640    815.0   681.2\n641    766.0  1147.2\n643    603.0   776.5\n\n[198 rows x 2 columns]",
      "text/html": "<div>\n<style scoped>\n    .dataframe tbody tr th:only-of-type {\n        vertical-align: middle;\n    }\n\n    .dataframe tbody tr th {\n        vertical-align: top;\n    }\n\n    .dataframe thead th {\n        text-align: right;\n    }\n</style>\n<table border=\"1\" class=\"dataframe\">\n  <thead>\n    <tr style=\"text-align: right;\">\n      <th></th>\n      <th>ItemKey</th>\n      <th>Kgs</th>\n    </tr>\n  </thead>\n  <tbody>\n    <tr>\n      <th>3</th>\n      <td>309.0</td>\n      <td>995.6</td>\n    </tr>\n    <tr>\n      <th>4</th>\n      <td>103.0</td>\n      <td>500.5</td>\n    </tr>\n    <tr>\n      <th>9</th>\n      <td>501.0</td>\n      <td>981.6</td>\n    </tr>\n    <tr>\n      <th>30</th>\n      <td>603.0</td>\n      <td>762.0</td>\n    </tr>\n    <tr>\n      <th>45</th>\n      <td>811.0</td>\n      <td>569.8</td>\n    </tr>\n    <tr>\n      <th>...</th>\n      <td>...</td>\n      <td>...</td>\n    </tr>\n    <tr>\n      <th>634</th>\n      <td>603.0</td>\n      <td>736.0</td>\n    </tr>\n    <tr>\n      <th>636</th>\n      <td>808.0</td>\n      <td>630.6</td>\n    </tr>\n    <tr>\n      <th>640</th>\n      <td>815.0</td>\n      <td>681.2</td>\n    </tr>\n    <tr>\n      <th>641</th>\n      <td>766.0</td>\n      <td>1147.2</td>\n    </tr>\n    <tr>\n      <th>643</th>\n      <td>603.0</td>\n      <td>776.5</td>\n    </tr>\n  </tbody>\n</table>\n<p>198 rows × 2 columns</p>\n</div>"
     },
     "execution_count": 10,
     "metadata": {},
     "output_type": "execute_result"
    }
   ],
   "source": [
    "column_name = 'Kgs'\n",
    "duplicates = df[df.duplicated(subset=column_name, keep=False)][['ItemKey', column_name]]\n",
    "duplicates"
   ],
   "metadata": {
    "collapsed": false
   }
  },
  {
   "cell_type": "code",
   "execution_count": 12,
   "outputs": [
    {
     "name": "stdout",
     "output_type": "stream",
     "text": [
      " (811.0, 15.0): 7 times duplicated\n",
      " (418.0, 12.0): 6 times duplicated\n",
      " (985.0, 0.0001): 2 times duplicated\n",
      " (715.0, 71.0): 2 times duplicated\n",
      " (715.0, 0.0001): 2 times duplicated\n",
      " (903.0, 0.0001): 2 times duplicated\n",
      " (904.0, 0.0001): 2 times duplicated\n",
      " (906.0, 0.0001): 2 times duplicated\n",
      " (907.0, 0.0001): 2 times duplicated\n",
      " (701.0, 0.0001): 2 times duplicated\n",
      " (901.0, 0.0001): 2 times duplicated\n",
      " (908.0, 0.0001): 2 times duplicated\n",
      " (603.0, 776.5): 2 times duplicated\n",
      " (603.0, 762.0): 2 times duplicated\n",
      " (912.0, 0.0001): 2 times duplicated\n",
      " (913.0, 0.0001): 2 times duplicated\n",
      " (828.0, 51.6): 2 times duplicated\n",
      " (902.0, 0.0001): 2 times duplicated\n",
      " (871.0, 323.2): 2 times duplicated\n",
      " (915.0, 0.0001): 2 times duplicated\n",
      " (766.0, 81.2): 2 times duplicated\n",
      " (766.0, 1147.2): 2 times duplicated\n",
      " (834.0, 309.1): 2 times duplicated\n",
      " (808.0, 630.6): 2 times duplicated\n",
      " (833.0, 294.2): 2 times duplicated\n",
      " (810.0, 896.2): 2 times duplicated\n",
      " (811.0, 569.8): 2 times duplicated\n",
      " (811.0, 947.6): 2 times duplicated\n",
      " (831.0, 493.2): 2 times duplicated\n",
      " (819.0, 451.0): 2 times duplicated\n",
      " (829.0, 106.0): 2 times duplicated\n",
      " (822.0, 974.5): 2 times duplicated\n",
      " (822.0, 1058.0): 2 times duplicated\n",
      " (823.0, 664.5): 2 times duplicated\n",
      " (518.0, 0.0001): 2 times duplicated\n",
      " (914.0, 0.0001): 2 times duplicated\n",
      " (916.0, 0.0001): 2 times duplicated\n",
      " (154.0, 861.4): 2 times duplicated\n",
      " (309.0, 0.0001): 2 times duplicated\n",
      " (928.0, 0.0001): 2 times duplicated\n",
      " (929.0, 0.0001): 2 times duplicated\n",
      " (154.0, 987.0): 2 times duplicated\n",
      " (931.0, 0.0001): 2 times duplicated\n",
      " (154.0, 914.0): 2 times duplicated\n",
      " (154.0, 868.2): 2 times duplicated\n",
      " (154.0, 804.2): 2 times duplicated\n",
      " (926.0, 0.0001): 2 times duplicated\n",
      " (932.0, 0.0001): 2 times duplicated\n",
      " (960.0, 0.0001): 2 times duplicated\n",
      " (961.0, 0.0001): 2 times duplicated\n",
      " (962.0, 0.0001): 2 times duplicated\n",
      " (104.0, 0.0001): 2 times duplicated\n",
      " (963.0, 0.0001): 2 times duplicated\n",
      " (103.0, 500.5): 2 times duplicated\n",
      " (917.0, 0.0001): 2 times duplicated\n",
      " (927.0, 0.0001): 2 times duplicated\n",
      " (921.0, 0.0001): 2 times duplicated\n",
      " (501.0, 999.0): 2 times duplicated\n",
      " (920.0, 0.0001): 2 times duplicated\n",
      " (919.0, 0.0001): 2 times duplicated\n",
      " (501.0, 0.0001): 2 times duplicated\n",
      " (412.0, 442.0): 2 times duplicated\n",
      " (923.0, 0.0001): 2 times duplicated\n",
      " (918.0, 0.0001): 2 times duplicated\n",
      " (421.0, 10.0): 2 times duplicated\n",
      " (924.0, 5.0): 1 times duplicated\n",
      " (908.0, 1.0): 1 times duplicated\n",
      " (917.0, 5.0): 1 times duplicated\n",
      " (912.0, 1.0): 1 times duplicated\n",
      " (908.0, 12.0): 1 times duplicated\n",
      " (907.0, 15.0): 1 times duplicated\n",
      " (917.0, 12.0): 1 times duplicated\n",
      " (907.0, 10.0): 1 times duplicated\n",
      " (833.0, 441.8): 1 times duplicated\n",
      " (841.0, 15.0): 1 times duplicated\n",
      " (928.0, 12.0): 1 times duplicated\n",
      " (829.0, 30.0): 1 times duplicated\n",
      " (101.0, 0.0001): 1 times duplicated\n",
      " (824.0, 15.0): 1 times duplicated\n",
      " (313.0, 0.0001): 1 times duplicated\n",
      " (504.0, 0.0001): 1 times duplicated\n",
      " (501.0, 981.6): 1 times duplicated\n",
      " (422.0, 10.0): 1 times duplicated\n",
      " (416.0, 679.0): 1 times duplicated\n",
      " (412.0, 441.8): 1 times duplicated\n",
      " (407.0, 995.6): 1 times duplicated\n",
      " (407.0, 932.2): 1 times duplicated\n",
      " (353.0, 0.0001): 1 times duplicated\n",
      " (320.0, 0.0001): 1 times duplicated\n",
      " (309.0, 995.6): 1 times duplicated\n",
      " (822.0, 736.0): 1 times duplicated\n",
      " (307.0, 0.0001): 1 times duplicated\n",
      " (223.0, 679.0): 1 times duplicated\n",
      " (207.0, 10.0): 1 times duplicated\n",
      " (154.0, 932.2): 1 times duplicated\n",
      " (147.0, 0.0001): 1 times duplicated\n",
      " (143.0, 0.0001): 1 times duplicated\n",
      " (141.0, 0.0001): 1 times duplicated\n",
      " (116.0, 0.0001): 1 times duplicated\n",
      " (103.0, 981.6): 1 times duplicated\n",
      " (510.0, 0.0001): 1 times duplicated\n",
      " (511.0, 0.0001): 1 times duplicated\n",
      " (525.0, 0.0001): 1 times duplicated\n",
      " (562.0, 0.0001): 1 times duplicated\n",
      " (815.0, 681.2): 1 times duplicated\n",
      " (810.0, 15.0): 1 times duplicated\n",
      " (784.0, 0.0001): 1 times duplicated\n",
      " (103.0, 0.0001): 1 times duplicated\n",
      " (773.0, 442.0): 1 times duplicated\n",
      " (766.0, 0.0001): 1 times duplicated\n",
      " (760.0, 0.0001): 1 times duplicated\n",
      " (716.0, 0.0001): 1 times duplicated\n",
      " (710.0, 0.0001): 1 times duplicated\n",
      " (706.0, 0.0001): 1 times duplicated\n",
      " (705.0, 0.0001): 1 times duplicated\n",
      " (703.0, 0.0001): 1 times duplicated\n",
      " (702.0, 0.0001): 1 times duplicated\n",
      " (618.0, 720.5): 1 times duplicated\n",
      " (618.0, 681.2): 1 times duplicated\n",
      " (603.0, 736.0): 1 times duplicated\n",
      " (603.0, 720.5): 1 times duplicated\n",
      " (603.0, 30.0): 1 times duplicated\n",
      " (603.0, 15.0): 1 times duplicated\n",
      " (775.0, 0.0001): 1 times duplicated\n"
     ]
    }
   ],
   "source": [
    "duplicates_count = duplicates.value_counts()\n",
    "\n",
    "for value, count in duplicates_count.items():\n",
    "    print(f\" {value}: {count} times duplicated\")"
   ],
   "metadata": {
    "collapsed": false
   }
  },
  {
   "cell_type": "code",
   "execution_count": 20,
   "outputs": [
    {
     "data": {
      "text/plain": "     ItemKey     Kgs  Count\n10     103.0   500.5      2\n27     154.0   804.2      2\n28     154.0   861.4      2\n30     154.0   868.2      2\n34     154.0   914.0      2\n37     154.0   987.0      2\n123    412.0   442.0      2\n164    418.0    12.0      6\n172    421.0    10.0      2\n204    501.0   999.0      2\n238    603.0   762.0      2\n239    603.0   776.5      2\n289    715.0    71.0      2\n298    766.0    81.2      2\n300    766.0  1147.2      2\n345    808.0   630.6      2\n368    810.0   896.2      2\n371    811.0    15.0      7\n374    811.0   569.8      2\n401    811.0   947.6      2\n416    819.0   451.0      2\n439    822.0   974.5      2\n443    822.0  1058.0      2\n448    823.0   664.5      2\n457    828.0    51.6      2\n464    829.0   106.0      2\n471    831.0   493.2      2\n472    833.0   294.2      2\n477    834.0   309.1      2\n487    871.0   323.2      2",
      "text/html": "<div>\n<style scoped>\n    .dataframe tbody tr th:only-of-type {\n        vertical-align: middle;\n    }\n\n    .dataframe tbody tr th {\n        vertical-align: top;\n    }\n\n    .dataframe thead th {\n        text-align: right;\n    }\n</style>\n<table border=\"1\" class=\"dataframe\">\n  <thead>\n    <tr style=\"text-align: right;\">\n      <th></th>\n      <th>ItemKey</th>\n      <th>Kgs</th>\n      <th>Count</th>\n    </tr>\n  </thead>\n  <tbody>\n    <tr>\n      <th>10</th>\n      <td>103.0</td>\n      <td>500.5</td>\n      <td>2</td>\n    </tr>\n    <tr>\n      <th>27</th>\n      <td>154.0</td>\n      <td>804.2</td>\n      <td>2</td>\n    </tr>\n    <tr>\n      <th>28</th>\n      <td>154.0</td>\n      <td>861.4</td>\n      <td>2</td>\n    </tr>\n    <tr>\n      <th>30</th>\n      <td>154.0</td>\n      <td>868.2</td>\n      <td>2</td>\n    </tr>\n    <tr>\n      <th>34</th>\n      <td>154.0</td>\n      <td>914.0</td>\n      <td>2</td>\n    </tr>\n    <tr>\n      <th>37</th>\n      <td>154.0</td>\n      <td>987.0</td>\n      <td>2</td>\n    </tr>\n    <tr>\n      <th>123</th>\n      <td>412.0</td>\n      <td>442.0</td>\n      <td>2</td>\n    </tr>\n    <tr>\n      <th>164</th>\n      <td>418.0</td>\n      <td>12.0</td>\n      <td>6</td>\n    </tr>\n    <tr>\n      <th>172</th>\n      <td>421.0</td>\n      <td>10.0</td>\n      <td>2</td>\n    </tr>\n    <tr>\n      <th>204</th>\n      <td>501.0</td>\n      <td>999.0</td>\n      <td>2</td>\n    </tr>\n    <tr>\n      <th>238</th>\n      <td>603.0</td>\n      <td>762.0</td>\n      <td>2</td>\n    </tr>\n    <tr>\n      <th>239</th>\n      <td>603.0</td>\n      <td>776.5</td>\n      <td>2</td>\n    </tr>\n    <tr>\n      <th>289</th>\n      <td>715.0</td>\n      <td>71.0</td>\n      <td>2</td>\n    </tr>\n    <tr>\n      <th>298</th>\n      <td>766.0</td>\n      <td>81.2</td>\n      <td>2</td>\n    </tr>\n    <tr>\n      <th>300</th>\n      <td>766.0</td>\n      <td>1147.2</td>\n      <td>2</td>\n    </tr>\n    <tr>\n      <th>345</th>\n      <td>808.0</td>\n      <td>630.6</td>\n      <td>2</td>\n    </tr>\n    <tr>\n      <th>368</th>\n      <td>810.0</td>\n      <td>896.2</td>\n      <td>2</td>\n    </tr>\n    <tr>\n      <th>371</th>\n      <td>811.0</td>\n      <td>15.0</td>\n      <td>7</td>\n    </tr>\n    <tr>\n      <th>374</th>\n      <td>811.0</td>\n      <td>569.8</td>\n      <td>2</td>\n    </tr>\n    <tr>\n      <th>401</th>\n      <td>811.0</td>\n      <td>947.6</td>\n      <td>2</td>\n    </tr>\n    <tr>\n      <th>416</th>\n      <td>819.0</td>\n      <td>451.0</td>\n      <td>2</td>\n    </tr>\n    <tr>\n      <th>439</th>\n      <td>822.0</td>\n      <td>974.5</td>\n      <td>2</td>\n    </tr>\n    <tr>\n      <th>443</th>\n      <td>822.0</td>\n      <td>1058.0</td>\n      <td>2</td>\n    </tr>\n    <tr>\n      <th>448</th>\n      <td>823.0</td>\n      <td>664.5</td>\n      <td>2</td>\n    </tr>\n    <tr>\n      <th>457</th>\n      <td>828.0</td>\n      <td>51.6</td>\n      <td>2</td>\n    </tr>\n    <tr>\n      <th>464</th>\n      <td>829.0</td>\n      <td>106.0</td>\n      <td>2</td>\n    </tr>\n    <tr>\n      <th>471</th>\n      <td>831.0</td>\n      <td>493.2</td>\n      <td>2</td>\n    </tr>\n    <tr>\n      <th>472</th>\n      <td>833.0</td>\n      <td>294.2</td>\n      <td>2</td>\n    </tr>\n    <tr>\n      <th>477</th>\n      <td>834.0</td>\n      <td>309.1</td>\n      <td>2</td>\n    </tr>\n    <tr>\n      <th>487</th>\n      <td>871.0</td>\n      <td>323.2</td>\n      <td>2</td>\n    </tr>\n  </tbody>\n</table>\n</div>"
     },
     "execution_count": 20,
     "metadata": {},
     "output_type": "execute_result"
    }
   ],
   "source": [
    "duplicate_counts = df.groupby(['ItemKey', 'Kgs']).size().reset_index(name='Count')\n",
    "\n",
    "duplicate_counts[(duplicate_counts['Count'] > 1) & (duplicate_counts['Kgs'] > 1)]\n"
   ],
   "metadata": {
    "collapsed": false
   }
  },
  {
   "cell_type": "code",
   "execution_count": 26,
   "outputs": [
    {
     "data": {
      "text/plain": "ItemKey\n101.0     9955.5001\n103.0     4579.4001\n104.0     2431.4002\n111.0     2769.9000\n116.0        0.0001\n            ...    \n960.0     7200.0002\n961.0     1336.0002\n962.0    13024.9462\n963.0     4595.4602\n985.0        0.0002\nName: Kgs, Length: 123, dtype: float64"
     },
     "execution_count": 26,
     "metadata": {},
     "output_type": "execute_result"
    }
   ],
   "source": [
    "df_grouped = df.groupby('ItemKey')['Kgs'].sum()\n",
    "\n",
    "df_grouped.to_csv('Q:\\Operations\\Reports\\summary.csv', header=True)\n",
    "df_grouped"
   ],
   "metadata": {
    "collapsed": false
   }
  }
 ],
 "metadata": {
  "kernelspec": {
   "display_name": "Python 3",
   "language": "python",
   "name": "python3"
  },
  "language_info": {
   "codemirror_mode": {
    "name": "ipython",
    "version": 2
   },
   "file_extension": ".py",
   "mimetype": "text/x-python",
   "name": "python",
   "nbconvert_exporter": "python",
   "pygments_lexer": "ipython2",
   "version": "2.7.6"
  }
 },
 "nbformat": 4,
 "nbformat_minor": 0
}
