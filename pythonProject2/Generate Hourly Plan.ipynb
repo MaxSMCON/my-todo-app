{
 "cells": [
  {
   "cell_type": "markdown",
   "id": "9432c7a8",
   "metadata": {},
   "source": [
    "# NEW Version\n"
   ]
  },
  {
   "cell_type": "markdown",
   "id": "b91010e9",
   "metadata": {},
   "source": [
    "# Packages Unloading\n"
   ]
  },
  {
   "cell_type": "code",
   "execution_count": 1,
   "id": "6e54fa4d",
   "metadata": {},
   "outputs": [],
   "source": [
    "import pandas as pd"
   ]
  },
  {
   "cell_type": "code",
   "execution_count": 1,
   "outputs": [],
   "source": [],
   "metadata": {
    "collapsed": false
   }
  },
  {
   "cell_type": "code",
   "execution_count": 2,
   "id": "a5d1e47e",
   "metadata": {},
   "outputs": [],
   "source": [
    "import numpy as np"
   ]
  },
  {
   "cell_type": "code",
   "execution_count": 3,
   "outputs": [],
   "source": [
    "from Pacakging_prime import activity_time_check, hourly_activity_time_check, meat_pieces_check, get_best_plan, hourly_total_position_stdev, one_meat_checking\n"
   ],
   "metadata": {
    "collapsed": false
   }
  },
  {
   "cell_type": "code",
   "execution_count": 1,
   "id": "e382ca23",
   "metadata": {},
   "outputs": [],
   "source": [
    "import pandas as pd\n",
    "import math\n",
    "names = locals()\n",
    "import matplotlib.pyplot as plt\n",
    "from matplotlib.ticker import MaxNLocator\n",
    "import statistics\n",
    "# from PackagingToll import *\n",
    "import pyodbc as odbc"
   ]
  },
  {
   "cell_type": "markdown",
   "id": "6a7d8b56",
   "metadata": {},
   "source": [
    "# Reading the Files\n"
   ]
  },
  {
   "cell_type": "markdown",
   "id": "c08dec1c",
   "metadata": {},
   "source": [
    "#### Assumptions:\n",
    "\n",
    "- Excluding byproducts\n",
    "\n",
    "- Excluded offa\n",
    "\n",
    "- Excluded the following activities:\n",
    "\n",
    "  -- 6718, Box Room\n",
    "\n",
    "  -- 3-digit activity codes\n",
    "\n",
    "- Assuming the duration is for boxes not by pieces\n",
    "\n",
    "- Products need to be completed by priority\n"
   ]
  },
  {
   "cell_type": "code",
   "execution_count": 86,
   "id": "baeb73b5",
   "metadata": {},
   "outputs": [
    {
     "name": "stderr",
     "output_type": "stream",
     "text": [
      "C:\\Users\\msmetanin\\AppData\\Local\\Temp\\ipykernel_11988\\3047029218.py:22: UserWarning: pandas only supports SQLAlchemy connectable (engine/connection) or database string URI or sqlite3 DBAPI2 connection. Other DBAPI2 objects are not tested. Please consider using SQLAlchemy.\n",
      "  seq = pd.read_sql(query, cnxn)\n",
      "C:\\Users\\msmetanin\\AppData\\Local\\Temp\\ipykernel_11988\\3047029218.py:54: UserWarning: pandas only supports SQLAlchemy connectable (engine/connection) or database string URI or sqlite3 DBAPI2 connection. Other DBAPI2 objects are not tested. Please consider using SQLAlchemy.\n",
      "  ProdMeat = pd.read_sql(query, cnxn,\n",
      "C:\\Users\\msmetanin\\AppData\\Local\\Temp\\ipykernel_11988\\3047029218.py:94: UserWarning: pandas only supports SQLAlchemy connectable (engine/connection) or database string URI or sqlite3 DBAPI2 connection. Other DBAPI2 objects are not tested. Please consider using SQLAlchemy.\n",
      "  meat = pd.read_sql(query, cnxn,\n"
     ]
    },
    {
     "name": "stdout",
     "output_type": "stream",
     "text": [
      "<pyodbc.Cursor object at 0x0000021006357C30>\n"
     ]
    }
   ],
   "source": [
    "# Sequence table\n",
    "# seq=pd.read_excel(\"Files/Activities.xlsx\", sheet_name='Product Seqeunce')\n",
    "server = 'cmpcsb01'\n",
    "database = 'conestoga'\n",
    "username = 'remotequery'\n",
    "password = \"excel\"\n",
    "cnxn = odbc.connect('DRIVER={SQL Server}; SERVER='+server+';DATABASE='+database+';UID='+username+';PWD='+ password, \n",
    "                    trusted_connection='no'\n",
    "                    )\n",
    "cursor = cnxn.cursor()\n",
    "\n",
    "query = '''select \n",
    "        convert(INT, bomkey) as bomkey,\n",
    "        CONVERT(INT, sequenceno) as SeQuenceno,\n",
    "         CONVERT(INT, ActivityFunctionKey) as ActivityFunctionKey,\n",
    "         CONVERT(INT, DurationMinutes) as DurationSeconds\n",
    "         \n",
    "FROM [conestoga].[dbo].[DimBOMActivitiesFunctions]\n",
    " where BomKey>10001\n",
    " '''\n",
    " \n",
    "seq = pd.read_sql(query, cnxn)\n",
    "seq\n",
    "\n",
    "# Maximum Capacity\n",
    "# cap=pd.read_excel(\"ActiviActivity Cap Modties.xlsx\", sheet_name='Activity Cap')\n",
    "# cap=pd.read_excel(\"Files/Activities_adjust.xlsx\", sheet_name='Activity Cap')\n",
    "cap=pd.read_excel(\"Q:\\Operations\\Industrial Engineering\\Maxim\\Packaging tool\\Activities_adjust.xlsx\", sheet_name='Activity Cap Mod')\n",
    "\n",
    "# Products and Meat Relationship Table\n",
    "# ProdMeat=pd.read_excel(\"Files/Activities.xlsx\", \n",
    "#                     #    sheet_name='Products and Meat'\n",
    "#                     sheet_name='dataProdMeat'\n",
    "#                        )\n",
    "# print(ProdMeat.shape)\n",
    "\n",
    "server = 'cmpcsb01'\n",
    "database = 'conestoga'\n",
    "username = 'remotequery'\n",
    "password = \"excel\"\n",
    "cnxn = odbc.connect('DRIVER={SQL Server}; SERVER='+server+';DATABASE='+database+';UID='+username+';PWD='+ password, \n",
    "                    # trusted_connection='yes'\n",
    "                    )\n",
    "cursor = cnxn.cursor()\n",
    "# print(cursor)\n",
    "query = '''SELECT \n",
    "           CAST(Itemkey as int) as FinishedGoodProductCode, \n",
    "           --Pieces, \n",
    "           Cast(ItemSort4Key as INT) as MeatItem\n",
    "            FROM dimitem\n",
    "            WHERE Itemkey >  ? and Itemkey < ?\n",
    "            --and ItemSort4Key > 0\n",
    "            '''\n",
    "ProdMeat = pd.read_sql(query, cnxn, \n",
    "                   params=['10000', '39999']\n",
    "                )\n",
    "\n",
    "# ProdMeat.head()\n",
    "# print(\"ss\", ProdMeat.shape)\n",
    "\n",
    "\n",
    "# Four Priority Requirement\n",
    "# req = pd.read_excel(\"Files/req wihtout byproducts.xlsx\")\n",
    "req = pd.read_excel(\"Q:\\Operations\\Industrial Engineering\\Maxim\\Packaging tool\\Files/req wihtout byproducts.xlsx\", sheet_name='data (2)')\n",
    "# req = pd.read_excel(\"Files/Cut Sheet 20221024\", sheet_name='Sheet2' )\n",
    "\n",
    "# Priority Meat Input\n",
    "# meat=pd.read_excel(\"Files/Meats.xlsx\",  sheet_name ='Priority Meat Input') #delected the byproduct,\n",
    "# meat=pd.read_excel(\"Files/Meats_adjust_v3.xlsx\",  sheet_name ='Priority Meat Input') #delected the byproduct,\n",
    "# meat=pd.read_excel(\"Files/Meats_adjust_v3.xlsx\",  sheet_name ='meat prior') #delected the byproduct,\n",
    "\n",
    "import pyodbc as odbc\n",
    "import pandas as pd\n",
    "server = 'cmpcsb01'\n",
    "database = 'packagingplanner'\n",
    "username = 'remotequery'\n",
    "password = \"excel\"\n",
    "cnxn = odbc.connect('DRIVER={SQL Server}; SERVER='+server+';DATABASE='+database+';UID='+username+';PWD='+ password, \n",
    "                    trusted_connection='no'\n",
    "                    )\n",
    "cursor = cnxn.cursor()\n",
    "print(cursor)\n",
    "\n",
    "query = '''SELECT \n",
    "\n",
    "cast(MeatItem as INT) as Meat, \n",
    "SUM(P1) AS 'Priority 1', \n",
    "SUM(P2) AS 'Priority 2', \n",
    "SUM(P3) AS 'Priority 3', \n",
    "SUM(P4) AS 'Priority 4'\n",
    "FROM     vwPrepForCutInputPriorities\n",
    "where productiondate= ? and MeatItem < ?\n",
    "GROUP BY MeatItem'''\n",
    "meat = pd.read_sql(query, cnxn, \n",
    "                   params=['20221021', 800]\n",
    "                )\n",
    "\n",
    "\n",
    "# Cool\n",
    "\n",
    "\n",
    "# Hourly Meat Input\n",
    "# meat_hourly = pd.read_excel(\"Files/hourly_meat_input.xlsx\",index_col = 0)\n",
    "\n",
    "meat_hourly = pd.read_excel(\n",
    "# \"Files/hourly_meat_input_adjustment_v3.xlsx\",index_col = 0, sheet_name='Sheet1'\n",
    "\"Q:\\Operations\\Industrial Engineering\\Maxim\\Packaging tool\\Files/PackagingSimulationInputs v4.xlsx\", index_col = 0, sheet_name='Summ'\n",
    " )\n",
    "\n",
    "\n",
    "# relationship between hour and priority\n",
    "## key represents hour, value represents priority\n",
    "hour_priority={\n",
    "    6:1,\n",
    "    7:1,\n",
    "    8:1,\n",
    "    9:1,\n",
    "    10:1,\n",
    "    11:1,\n",
    "    12:1,\n",
    "    13:1,\n",
    "    14:1,\n",
    "    15:2,\n",
    "    16:2,\n",
    "    17:3,\n",
    "    18:3,\n",
    "    19:4,\n",
    "    20:4,\n",
    "    21:4,\n",
    "    22:4\n",
    "    }\n"
   ]
  },
  {
   "cell_type": "code",
   "execution_count": 87,
   "outputs": [
    {
     "data": {
      "text/plain": "45"
     },
     "execution_count": 87,
     "metadata": {},
     "output_type": "execute_result"
    }
   ],
   "source": [
    "meat.Meat.nunique()"
   ],
   "metadata": {
    "collapsed": false
   }
  },
  {
   "cell_type": "code",
   "execution_count": 89,
   "outputs": [
    {
     "name": "stdout",
     "output_type": "stream",
     "text": [
      "<pyodbc.Cursor object at 0x000002100E6E7830>\n",
      "46\n"
     ]
    },
    {
     "name": "stderr",
     "output_type": "stream",
     "text": [
      "C:\\Users\\msmetanin\\AppData\\Local\\Temp\\ipykernel_11988\\2001958394.py:29: UserWarning: pandas only supports SQLAlchemy connectable (engine/connection) or database string URI or sqlite3 DBAPI2 connection. Other DBAPI2 objects are not tested. Please consider using SQLAlchemy.\n",
      "  meat1 = pd.read_sql(query, cnxn,\n"
     ]
    },
    {
     "data": {
      "text/plain": "    MeatItem  ProductionDate    P1    P2   P3    P4  Total\n0      101.0        20221021     0     0    6     0      6\n1      103.0        20221021     0   930    0  1860   2790\n2      103.0        20221021     0  8680    0     0   8680\n3      104.0        20221021     0     0    4    12     16\n4      104.0        20221021     0     0   50    24     74\n..       ...             ...   ...   ...  ...   ...    ...\n77     762.0        20221021  2500     0    0     0   2500\n78     775.0        20221021     0     0  584   808   1392\n79     786.0        20221021     0     0    0   460    460\n80     787.0        20221021     0     0    0   200    200\n81     808.0        20221021     0     0  450     0    450\n\n[82 rows x 7 columns]",
      "text/html": "<div>\n<style scoped>\n    .dataframe tbody tr th:only-of-type {\n        vertical-align: middle;\n    }\n\n    .dataframe tbody tr th {\n        vertical-align: top;\n    }\n\n    .dataframe thead th {\n        text-align: right;\n    }\n</style>\n<table border=\"1\" class=\"dataframe\">\n  <thead>\n    <tr style=\"text-align: right;\">\n      <th></th>\n      <th>MeatItem</th>\n      <th>ProductionDate</th>\n      <th>P1</th>\n      <th>P2</th>\n      <th>P3</th>\n      <th>P4</th>\n      <th>Total</th>\n    </tr>\n  </thead>\n  <tbody>\n    <tr>\n      <th>0</th>\n      <td>101.0</td>\n      <td>20221021</td>\n      <td>0</td>\n      <td>0</td>\n      <td>6</td>\n      <td>0</td>\n      <td>6</td>\n    </tr>\n    <tr>\n      <th>1</th>\n      <td>103.0</td>\n      <td>20221021</td>\n      <td>0</td>\n      <td>930</td>\n      <td>0</td>\n      <td>1860</td>\n      <td>2790</td>\n    </tr>\n    <tr>\n      <th>2</th>\n      <td>103.0</td>\n      <td>20221021</td>\n      <td>0</td>\n      <td>8680</td>\n      <td>0</td>\n      <td>0</td>\n      <td>8680</td>\n    </tr>\n    <tr>\n      <th>3</th>\n      <td>104.0</td>\n      <td>20221021</td>\n      <td>0</td>\n      <td>0</td>\n      <td>4</td>\n      <td>12</td>\n      <td>16</td>\n    </tr>\n    <tr>\n      <th>4</th>\n      <td>104.0</td>\n      <td>20221021</td>\n      <td>0</td>\n      <td>0</td>\n      <td>50</td>\n      <td>24</td>\n      <td>74</td>\n    </tr>\n    <tr>\n      <th>...</th>\n      <td>...</td>\n      <td>...</td>\n      <td>...</td>\n      <td>...</td>\n      <td>...</td>\n      <td>...</td>\n      <td>...</td>\n    </tr>\n    <tr>\n      <th>77</th>\n      <td>762.0</td>\n      <td>20221021</td>\n      <td>2500</td>\n      <td>0</td>\n      <td>0</td>\n      <td>0</td>\n      <td>2500</td>\n    </tr>\n    <tr>\n      <th>78</th>\n      <td>775.0</td>\n      <td>20221021</td>\n      <td>0</td>\n      <td>0</td>\n      <td>584</td>\n      <td>808</td>\n      <td>1392</td>\n    </tr>\n    <tr>\n      <th>79</th>\n      <td>786.0</td>\n      <td>20221021</td>\n      <td>0</td>\n      <td>0</td>\n      <td>0</td>\n      <td>460</td>\n      <td>460</td>\n    </tr>\n    <tr>\n      <th>80</th>\n      <td>787.0</td>\n      <td>20221021</td>\n      <td>0</td>\n      <td>0</td>\n      <td>0</td>\n      <td>200</td>\n      <td>200</td>\n    </tr>\n    <tr>\n      <th>81</th>\n      <td>808.0</td>\n      <td>20221021</td>\n      <td>0</td>\n      <td>0</td>\n      <td>450</td>\n      <td>0</td>\n      <td>450</td>\n    </tr>\n  </tbody>\n</table>\n<p>82 rows × 7 columns</p>\n</div>"
     },
     "execution_count": 89,
     "metadata": {},
     "output_type": "execute_result"
    }
   ],
   "source": [
    "server = 'cmpcsb01'\n",
    "database = 'packagingplanner'\n",
    "username = 'remotequery'\n",
    "password = \"excel\"\n",
    "cnxn = odbc.connect('DRIVER={SQL Server}; SERVER='+server+';DATABASE='+database+';UID='+username+';PWD='+ password,\n",
    "                    trusted_connection='no'\n",
    "                    )\n",
    "cursor = cnxn.cursor()\n",
    "print(cursor)\n",
    "\n",
    "query = '''SELECT\n",
    "\n",
    "MeatItem,\n",
    "--ItemKey,\n",
    "ProductionDate,\n",
    "P1,\n",
    "P2,\n",
    "P3,\n",
    "P4,\n",
    "COALESCE(P1,0)\n",
    "         + COALESCE(P2,0)\n",
    "         + COALESCE(P3,0)\n",
    "         + COALESCE(P4,0)\n",
    " as Total\n",
    "FROM     vwPrepForCutInputPriorities\n",
    "where productiondate= ? and MeatItem < ?\n",
    "--GROUP BY MeatItem\n",
    "'''\n",
    "meat1 = pd.read_sql(query, cnxn,\n",
    "                   params=['20221021', 899]\n",
    "                )\n",
    "print(meat1.MeatItem.nunique())\n",
    "meat1.sort_values(by = 'MeatItem')"
   ],
   "metadata": {
    "collapsed": false
   }
  },
  {
   "cell_type": "code",
   "execution_count": 88,
   "outputs": [
    {
     "data": {
      "text/plain": "[]"
     },
     "execution_count": 88,
     "metadata": {},
     "output_type": "execute_result"
    }
   ],
   "source": [
    "m1 = set(meat['Meat'])\n",
    "m2 = set(meat1.MeatItem)\n",
    "\n",
    "diff = [x for x in m1 if x not in m2]\n",
    "diff"
   ],
   "metadata": {
    "collapsed": false
   }
  },
  {
   "cell_type": "code",
   "execution_count": 8,
   "id": "afcb3f16",
   "metadata": {},
   "outputs": [
    {
     "data": {
      "text/plain": "      bomkey  SeQuenceno  ActivityFunctionKey  DurationSeconds\n120    10033           1                 6789               17\n251    10133           1                 6789               44\n364    10333           1                 6789               17\n437    10443           1                 6789               42\n664    11025           1                 6789               17\n...      ...         ...                  ...              ...\n4219   31032           1                 6789              129\n4228   31048           1                 6789               84\n4285   32043           1                 6789               84\n4607   50016           1                 6789               17\n4611   50017           1                 6789               17\n\n[65 rows x 4 columns]",
      "text/html": "<div>\n<style scoped>\n    .dataframe tbody tr th:only-of-type {\n        vertical-align: middle;\n    }\n\n    .dataframe tbody tr th {\n        vertical-align: top;\n    }\n\n    .dataframe thead th {\n        text-align: right;\n    }\n</style>\n<table border=\"1\" class=\"dataframe\">\n  <thead>\n    <tr style=\"text-align: right;\">\n      <th></th>\n      <th>bomkey</th>\n      <th>SeQuenceno</th>\n      <th>ActivityFunctionKey</th>\n      <th>DurationSeconds</th>\n    </tr>\n  </thead>\n  <tbody>\n    <tr>\n      <th>120</th>\n      <td>10033</td>\n      <td>1</td>\n      <td>6789</td>\n      <td>17</td>\n    </tr>\n    <tr>\n      <th>251</th>\n      <td>10133</td>\n      <td>1</td>\n      <td>6789</td>\n      <td>44</td>\n    </tr>\n    <tr>\n      <th>364</th>\n      <td>10333</td>\n      <td>1</td>\n      <td>6789</td>\n      <td>17</td>\n    </tr>\n    <tr>\n      <th>437</th>\n      <td>10443</td>\n      <td>1</td>\n      <td>6789</td>\n      <td>42</td>\n    </tr>\n    <tr>\n      <th>664</th>\n      <td>11025</td>\n      <td>1</td>\n      <td>6789</td>\n      <td>17</td>\n    </tr>\n    <tr>\n      <th>...</th>\n      <td>...</td>\n      <td>...</td>\n      <td>...</td>\n      <td>...</td>\n    </tr>\n    <tr>\n      <th>4219</th>\n      <td>31032</td>\n      <td>1</td>\n      <td>6789</td>\n      <td>129</td>\n    </tr>\n    <tr>\n      <th>4228</th>\n      <td>31048</td>\n      <td>1</td>\n      <td>6789</td>\n      <td>84</td>\n    </tr>\n    <tr>\n      <th>4285</th>\n      <td>32043</td>\n      <td>1</td>\n      <td>6789</td>\n      <td>84</td>\n    </tr>\n    <tr>\n      <th>4607</th>\n      <td>50016</td>\n      <td>1</td>\n      <td>6789</td>\n      <td>17</td>\n    </tr>\n    <tr>\n      <th>4611</th>\n      <td>50017</td>\n      <td>1</td>\n      <td>6789</td>\n      <td>17</td>\n    </tr>\n  </tbody>\n</table>\n<p>65 rows × 4 columns</p>\n</div>"
     },
     "execution_count": 8,
     "metadata": {},
     "output_type": "execute_result"
    }
   ],
   "source": [
    "seq.loc[seq.ActivityFunctionKey == 6789]"
   ]
  },
  {
   "cell_type": "code",
   "execution_count": 6,
   "id": "37b83691",
   "metadata": {},
   "outputs": [
    {
     "data": {
      "text/plain": "      bomkey  SeQuenceno  ActivityFunctionKey  DurationSeconds\n0      10002           1                 6718               24\n1      10002           2                 6770              171\n2      10002           3                 6753               86\n3      10002           4                 4753               85\n4      10002           5                 6705               10\n...      ...         ...                  ...              ...\n4782   80069           3                 6716               80\n4783   80069           4                 6721               18\n4784   80069           5                 6705               10\n4785   80069           6                 6722               55\n4786   80091           1                 6711               84\n\n[4787 rows x 4 columns]",
      "text/html": "<div>\n<style scoped>\n    .dataframe tbody tr th:only-of-type {\n        vertical-align: middle;\n    }\n\n    .dataframe tbody tr th {\n        vertical-align: top;\n    }\n\n    .dataframe thead th {\n        text-align: right;\n    }\n</style>\n<table border=\"1\" class=\"dataframe\">\n  <thead>\n    <tr style=\"text-align: right;\">\n      <th></th>\n      <th>bomkey</th>\n      <th>SeQuenceno</th>\n      <th>ActivityFunctionKey</th>\n      <th>DurationSeconds</th>\n    </tr>\n  </thead>\n  <tbody>\n    <tr>\n      <th>0</th>\n      <td>10002</td>\n      <td>1</td>\n      <td>6718</td>\n      <td>24</td>\n    </tr>\n    <tr>\n      <th>1</th>\n      <td>10002</td>\n      <td>2</td>\n      <td>6770</td>\n      <td>171</td>\n    </tr>\n    <tr>\n      <th>2</th>\n      <td>10002</td>\n      <td>3</td>\n      <td>6753</td>\n      <td>86</td>\n    </tr>\n    <tr>\n      <th>3</th>\n      <td>10002</td>\n      <td>4</td>\n      <td>4753</td>\n      <td>85</td>\n    </tr>\n    <tr>\n      <th>4</th>\n      <td>10002</td>\n      <td>5</td>\n      <td>6705</td>\n      <td>10</td>\n    </tr>\n    <tr>\n      <th>...</th>\n      <td>...</td>\n      <td>...</td>\n      <td>...</td>\n      <td>...</td>\n    </tr>\n    <tr>\n      <th>4782</th>\n      <td>80069</td>\n      <td>3</td>\n      <td>6716</td>\n      <td>80</td>\n    </tr>\n    <tr>\n      <th>4783</th>\n      <td>80069</td>\n      <td>4</td>\n      <td>6721</td>\n      <td>18</td>\n    </tr>\n    <tr>\n      <th>4784</th>\n      <td>80069</td>\n      <td>5</td>\n      <td>6705</td>\n      <td>10</td>\n    </tr>\n    <tr>\n      <th>4785</th>\n      <td>80069</td>\n      <td>6</td>\n      <td>6722</td>\n      <td>55</td>\n    </tr>\n    <tr>\n      <th>4786</th>\n      <td>80091</td>\n      <td>1</td>\n      <td>6711</td>\n      <td>84</td>\n    </tr>\n  </tbody>\n</table>\n<p>4787 rows × 4 columns</p>\n</div>"
     },
     "execution_count": 6,
     "metadata": {},
     "output_type": "execute_result"
    }
   ],
   "source": [
    "seq"
   ]
  },
  {
   "cell_type": "code",
   "execution_count": 7,
   "id": "5e032316",
   "metadata": {},
   "outputs": [
    {
     "data": {
      "text/plain": "dict_keys([6, 7, 8, 9, 10, 11, 12, 13, 14, 15, 16, 17, 18, 19, 20, 21, 22])"
     },
     "execution_count": 7,
     "metadata": {},
     "output_type": "execute_result"
    }
   ],
   "source": [
    "hour_priority.keys()"
   ]
  },
  {
   "cell_type": "code",
   "execution_count": 8,
   "id": "dfdd25e2",
   "metadata": {},
   "outputs": [
    {
     "data": {
      "text/plain": "   bomkey  SeQuenceno  ActivityFunctionKey  DurationSeconds\n0   10002           1                 6718               24\n1   10002           2                 6770              171",
      "text/html": "<div>\n<style scoped>\n    .dataframe tbody tr th:only-of-type {\n        vertical-align: middle;\n    }\n\n    .dataframe tbody tr th {\n        vertical-align: top;\n    }\n\n    .dataframe thead th {\n        text-align: right;\n    }\n</style>\n<table border=\"1\" class=\"dataframe\">\n  <thead>\n    <tr style=\"text-align: right;\">\n      <th></th>\n      <th>bomkey</th>\n      <th>SeQuenceno</th>\n      <th>ActivityFunctionKey</th>\n      <th>DurationSeconds</th>\n    </tr>\n  </thead>\n  <tbody>\n    <tr>\n      <th>0</th>\n      <td>10002</td>\n      <td>1</td>\n      <td>6718</td>\n      <td>24</td>\n    </tr>\n    <tr>\n      <th>1</th>\n      <td>10002</td>\n      <td>2</td>\n      <td>6770</td>\n      <td>171</td>\n    </tr>\n  </tbody>\n</table>\n</div>"
     },
     "execution_count": 8,
     "metadata": {},
     "output_type": "execute_result"
    }
   ],
   "source": [
    "seq.head(2)"
   ]
  },
  {
   "cell_type": "code",
   "execution_count": 9,
   "id": "793f9866",
   "metadata": {},
   "outputs": [
    {
     "data": {
      "text/plain": "   Activity_Num                   Activity_Desc  Max_Dom  Chilled pork  Max\n0          6701  Pkg - Box Backribs CC                 6             0    6\n1          6703  Pkg - C105 Ham - Open Bags            0             0    1",
      "text/html": "<div>\n<style scoped>\n    .dataframe tbody tr th:only-of-type {\n        vertical-align: middle;\n    }\n\n    .dataframe tbody tr th {\n        vertical-align: top;\n    }\n\n    .dataframe thead th {\n        text-align: right;\n    }\n</style>\n<table border=\"1\" class=\"dataframe\">\n  <thead>\n    <tr style=\"text-align: right;\">\n      <th></th>\n      <th>Activity_Num</th>\n      <th>Activity_Desc</th>\n      <th>Max_Dom</th>\n      <th>Chilled pork</th>\n      <th>Max</th>\n    </tr>\n  </thead>\n  <tbody>\n    <tr>\n      <th>0</th>\n      <td>6701</td>\n      <td>Pkg - Box Backribs CC</td>\n      <td>6</td>\n      <td>0</td>\n      <td>6</td>\n    </tr>\n    <tr>\n      <th>1</th>\n      <td>6703</td>\n      <td>Pkg - C105 Ham - Open Bags</td>\n      <td>0</td>\n      <td>0</td>\n      <td>1</td>\n    </tr>\n  </tbody>\n</table>\n</div>"
     },
     "execution_count": 9,
     "metadata": {},
     "output_type": "execute_result"
    }
   ],
   "source": [
    "cap.head(2\n",
    "         )"
   ]
  },
  {
   "cell_type": "code",
   "execution_count": 10,
   "id": "869b0a00",
   "metadata": {},
   "outputs": [
    {
     "data": {
      "text/plain": "   FinishedGoodProductCode  MeatItem\n0                    10001       324\n1                    10002       307",
      "text/html": "<div>\n<style scoped>\n    .dataframe tbody tr th:only-of-type {\n        vertical-align: middle;\n    }\n\n    .dataframe tbody tr th {\n        vertical-align: top;\n    }\n\n    .dataframe thead th {\n        text-align: right;\n    }\n</style>\n<table border=\"1\" class=\"dataframe\">\n  <thead>\n    <tr style=\"text-align: right;\">\n      <th></th>\n      <th>FinishedGoodProductCode</th>\n      <th>MeatItem</th>\n    </tr>\n  </thead>\n  <tbody>\n    <tr>\n      <th>0</th>\n      <td>10001</td>\n      <td>324</td>\n    </tr>\n    <tr>\n      <th>1</th>\n      <td>10002</td>\n      <td>307</td>\n    </tr>\n  </tbody>\n</table>\n</div>"
     },
     "execution_count": 10,
     "metadata": {},
     "output_type": "execute_result"
    }
   ],
   "source": [
    "ProdMeat.head(2)"
   ]
  },
  {
   "cell_type": "code",
   "execution_count": 11,
   "id": "f2dc35ff",
   "metadata": {},
   "outputs": [
    {
     "data": {
      "text/plain": "   itemkey                                itemdesc  PiecesInBox  Priority1Qty  \\\n0    34019  Fresh Pork Ham Boneless Inside Denuded          450             0   \n1    34119     Fresh Pork Hams Bnls Inside Denuded          450             0   \n\n   Priority2Qty  Priority3Qty  Priority4Qty  \n0             0             4             2  \n1             6             0             0  ",
      "text/html": "<div>\n<style scoped>\n    .dataframe tbody tr th:only-of-type {\n        vertical-align: middle;\n    }\n\n    .dataframe tbody tr th {\n        vertical-align: top;\n    }\n\n    .dataframe thead th {\n        text-align: right;\n    }\n</style>\n<table border=\"1\" class=\"dataframe\">\n  <thead>\n    <tr style=\"text-align: right;\">\n      <th></th>\n      <th>itemkey</th>\n      <th>itemdesc</th>\n      <th>PiecesInBox</th>\n      <th>Priority1Qty</th>\n      <th>Priority2Qty</th>\n      <th>Priority3Qty</th>\n      <th>Priority4Qty</th>\n    </tr>\n  </thead>\n  <tbody>\n    <tr>\n      <th>0</th>\n      <td>34019</td>\n      <td>Fresh Pork Ham Boneless Inside Denuded</td>\n      <td>450</td>\n      <td>0</td>\n      <td>0</td>\n      <td>4</td>\n      <td>2</td>\n    </tr>\n    <tr>\n      <th>1</th>\n      <td>34119</td>\n      <td>Fresh Pork Hams Bnls Inside Denuded</td>\n      <td>450</td>\n      <td>0</td>\n      <td>6</td>\n      <td>0</td>\n      <td>0</td>\n    </tr>\n  </tbody>\n</table>\n</div>"
     },
     "execution_count": 11,
     "metadata": {},
     "output_type": "execute_result"
    }
   ],
   "source": [
    "new_var = req.head(2)\n",
    "new_var"
   ]
  },
  {
   "cell_type": "code",
   "execution_count": 12,
   "id": "398dbbee",
   "metadata": {},
   "outputs": [
    {
     "data": {
      "text/plain": "   Meat  Priority 1  Priority 2  Priority 3  Priority 4\n0   101           0           0           6           0\n1   103           0        9610           0        1860",
      "text/html": "<div>\n<style scoped>\n    .dataframe tbody tr th:only-of-type {\n        vertical-align: middle;\n    }\n\n    .dataframe tbody tr th {\n        vertical-align: top;\n    }\n\n    .dataframe thead th {\n        text-align: right;\n    }\n</style>\n<table border=\"1\" class=\"dataframe\">\n  <thead>\n    <tr style=\"text-align: right;\">\n      <th></th>\n      <th>Meat</th>\n      <th>Priority 1</th>\n      <th>Priority 2</th>\n      <th>Priority 3</th>\n      <th>Priority 4</th>\n    </tr>\n  </thead>\n  <tbody>\n    <tr>\n      <th>0</th>\n      <td>101</td>\n      <td>0</td>\n      <td>0</td>\n      <td>6</td>\n      <td>0</td>\n    </tr>\n    <tr>\n      <th>1</th>\n      <td>103</td>\n      <td>0</td>\n      <td>9610</td>\n      <td>0</td>\n      <td>1860</td>\n    </tr>\n  </tbody>\n</table>\n</div>"
     },
     "execution_count": 12,
     "metadata": {},
     "output_type": "execute_result"
    }
   ],
   "source": [
    "meat.head(2)"
   ]
  },
  {
   "cell_type": "code",
   "execution_count": 13,
   "id": "b513d723",
   "metadata": {},
   "outputs": [
    {
     "data": {
      "text/plain": "   701  705  706  767  702  710  712  714  719  760  ...  341  313  320  352  \\\nt                                                    ...                       \n6    0  400    0    0  300    0    0  400    0   28  ...    0    0    0    0   \n7    0  400    0    0  300    0    0  400    0    0  ...    0    0    0    0   \n\n   348  309  401  405  403  402  \nt                                \n6  770    0  770  770  770    0  \n7  770    0  770  770  770    0  \n\n[2 rows x 53 columns]",
      "text/html": "<div>\n<style scoped>\n    .dataframe tbody tr th:only-of-type {\n        vertical-align: middle;\n    }\n\n    .dataframe tbody tr th {\n        vertical-align: top;\n    }\n\n    .dataframe thead th {\n        text-align: right;\n    }\n</style>\n<table border=\"1\" class=\"dataframe\">\n  <thead>\n    <tr style=\"text-align: right;\">\n      <th></th>\n      <th>701</th>\n      <th>705</th>\n      <th>706</th>\n      <th>767</th>\n      <th>702</th>\n      <th>710</th>\n      <th>712</th>\n      <th>714</th>\n      <th>719</th>\n      <th>760</th>\n      <th>...</th>\n      <th>341</th>\n      <th>313</th>\n      <th>320</th>\n      <th>352</th>\n      <th>348</th>\n      <th>309</th>\n      <th>401</th>\n      <th>405</th>\n      <th>403</th>\n      <th>402</th>\n    </tr>\n    <tr>\n      <th>t</th>\n      <th></th>\n      <th></th>\n      <th></th>\n      <th></th>\n      <th></th>\n      <th></th>\n      <th></th>\n      <th></th>\n      <th></th>\n      <th></th>\n      <th></th>\n      <th></th>\n      <th></th>\n      <th></th>\n      <th></th>\n      <th></th>\n      <th></th>\n      <th></th>\n      <th></th>\n      <th></th>\n      <th></th>\n    </tr>\n  </thead>\n  <tbody>\n    <tr>\n      <th>6</th>\n      <td>0</td>\n      <td>400</td>\n      <td>0</td>\n      <td>0</td>\n      <td>300</td>\n      <td>0</td>\n      <td>0</td>\n      <td>400</td>\n      <td>0</td>\n      <td>28</td>\n      <td>...</td>\n      <td>0</td>\n      <td>0</td>\n      <td>0</td>\n      <td>0</td>\n      <td>770</td>\n      <td>0</td>\n      <td>770</td>\n      <td>770</td>\n      <td>770</td>\n      <td>0</td>\n    </tr>\n    <tr>\n      <th>7</th>\n      <td>0</td>\n      <td>400</td>\n      <td>0</td>\n      <td>0</td>\n      <td>300</td>\n      <td>0</td>\n      <td>0</td>\n      <td>400</td>\n      <td>0</td>\n      <td>0</td>\n      <td>...</td>\n      <td>0</td>\n      <td>0</td>\n      <td>0</td>\n      <td>0</td>\n      <td>770</td>\n      <td>0</td>\n      <td>770</td>\n      <td>770</td>\n      <td>770</td>\n      <td>0</td>\n    </tr>\n  </tbody>\n</table>\n<p>2 rows × 53 columns</p>\n</div>"
     },
     "execution_count": 13,
     "metadata": {},
     "output_type": "execute_result"
    }
   ],
   "source": [
    "meat_hourly.fillna(0, inplace = True)\n",
    "meat_hourly.head(2)"
   ]
  },
  {
   "cell_type": "code",
   "execution_count": null,
   "outputs": [],
   "source": [],
   "metadata": {
    "collapsed": false
   }
  },
  {
   "cell_type": "code",
   "execution_count": 4,
   "id": "e714f83f",
   "metadata": {},
   "outputs": [
    {
     "data": {
      "text/plain": "   itemkey                                itemdesc  PiecesInBox  Priority1Qty  \\\n0    34019  Fresh Pork Ham Boneless Inside Denuded          450             0   \n1    34119     Fresh Pork Hams Bnls Inside Denuded          450             0   \n2    30016                     Fresh Pork Side Rib          415             0   \n3    30008     Fresh Pork Shoulder Picnic Boneless          270             0   \n4    31508     Fresh Pork Shoulder Picnic Boneless          270             0   \n\n   Priority2Qty  Priority3Qty  Priority4Qty  \n0             0             4             2  \n1             6             0             0  \n2            15             1            19  \n3             0             0             4  \n4             9             0            12  ",
      "text/html": "<div>\n<style scoped>\n    .dataframe tbody tr th:only-of-type {\n        vertical-align: middle;\n    }\n\n    .dataframe tbody tr th {\n        vertical-align: top;\n    }\n\n    .dataframe thead th {\n        text-align: right;\n    }\n</style>\n<table border=\"1\" class=\"dataframe\">\n  <thead>\n    <tr style=\"text-align: right;\">\n      <th></th>\n      <th>itemkey</th>\n      <th>itemdesc</th>\n      <th>PiecesInBox</th>\n      <th>Priority1Qty</th>\n      <th>Priority2Qty</th>\n      <th>Priority3Qty</th>\n      <th>Priority4Qty</th>\n    </tr>\n  </thead>\n  <tbody>\n    <tr>\n      <th>0</th>\n      <td>34019</td>\n      <td>Fresh Pork Ham Boneless Inside Denuded</td>\n      <td>450</td>\n      <td>0</td>\n      <td>0</td>\n      <td>4</td>\n      <td>2</td>\n    </tr>\n    <tr>\n      <th>1</th>\n      <td>34119</td>\n      <td>Fresh Pork Hams Bnls Inside Denuded</td>\n      <td>450</td>\n      <td>0</td>\n      <td>6</td>\n      <td>0</td>\n      <td>0</td>\n    </tr>\n    <tr>\n      <th>2</th>\n      <td>30016</td>\n      <td>Fresh Pork Side Rib</td>\n      <td>415</td>\n      <td>0</td>\n      <td>15</td>\n      <td>1</td>\n      <td>19</td>\n    </tr>\n    <tr>\n      <th>3</th>\n      <td>30008</td>\n      <td>Fresh Pork Shoulder Picnic Boneless</td>\n      <td>270</td>\n      <td>0</td>\n      <td>0</td>\n      <td>0</td>\n      <td>4</td>\n    </tr>\n    <tr>\n      <th>4</th>\n      <td>31508</td>\n      <td>Fresh Pork Shoulder Picnic Boneless</td>\n      <td>270</td>\n      <td>0</td>\n      <td>9</td>\n      <td>0</td>\n      <td>12</td>\n    </tr>\n  </tbody>\n</table>\n</div>"
     },
     "execution_count": 4,
     "metadata": {},
     "output_type": "execute_result"
    }
   ],
   "source": [
    "req.head()"
   ]
  },
  {
   "cell_type": "code",
   "execution_count": 15,
   "id": "69c2b661",
   "metadata": {},
   "outputs": [
    {
     "data": {
      "text/plain": "   itemkey                                itemdesc  PiecesInBox  Priority1Qty  \\\n0    34019  Fresh Pork Ham Boneless Inside Denuded          450             0   \n1    34119     Fresh Pork Hams Bnls Inside Denuded          450             0   \n2    30016                     Fresh Pork Side Rib          415             0   \n\n   Priority2Qty  Priority3Qty  Priority4Qty  \n0             0             4             2  \n1             6             0             0  \n2            15             1            19  ",
      "text/html": "<div>\n<style scoped>\n    .dataframe tbody tr th:only-of-type {\n        vertical-align: middle;\n    }\n\n    .dataframe tbody tr th {\n        vertical-align: top;\n    }\n\n    .dataframe thead th {\n        text-align: right;\n    }\n</style>\n<table border=\"1\" class=\"dataframe\">\n  <thead>\n    <tr style=\"text-align: right;\">\n      <th></th>\n      <th>itemkey</th>\n      <th>itemdesc</th>\n      <th>PiecesInBox</th>\n      <th>Priority1Qty</th>\n      <th>Priority2Qty</th>\n      <th>Priority3Qty</th>\n      <th>Priority4Qty</th>\n    </tr>\n  </thead>\n  <tbody>\n    <tr>\n      <th>0</th>\n      <td>34019</td>\n      <td>Fresh Pork Ham Boneless Inside Denuded</td>\n      <td>450</td>\n      <td>0</td>\n      <td>0</td>\n      <td>4</td>\n      <td>2</td>\n    </tr>\n    <tr>\n      <th>1</th>\n      <td>34119</td>\n      <td>Fresh Pork Hams Bnls Inside Denuded</td>\n      <td>450</td>\n      <td>0</td>\n      <td>6</td>\n      <td>0</td>\n      <td>0</td>\n    </tr>\n    <tr>\n      <th>2</th>\n      <td>30016</td>\n      <td>Fresh Pork Side Rib</td>\n      <td>415</td>\n      <td>0</td>\n      <td>15</td>\n      <td>1</td>\n      <td>19</td>\n    </tr>\n  </tbody>\n</table>\n</div>"
     },
     "execution_count": 15,
     "metadata": {},
     "output_type": "execute_result"
    }
   ],
   "source": [
    "\n",
    "req = req.loc[req[\"PiecesInBox\"]!=0,:]\n",
    "req.head(3)"
   ]
  },
  {
   "cell_type": "code",
   "execution_count": 15,
   "id": "5a886440",
   "metadata": {},
   "outputs": [],
   "source": []
  },
  {
   "cell_type": "code",
   "execution_count": 16,
   "id": "e2d66bf3",
   "metadata": {},
   "outputs": [
    {
     "data": {
      "text/plain": "array([101, 103, 104, 111, 141, 144, 147, 148, 149, 303, 309, 313, 324,\n       341, 348, 401, 402, 403, 405, 501, 502, 506, 510, 511, 518, 545,\n       553, 583, 701, 702, 703, 705, 706, 710, 712, 714, 715, 716, 719,\n       739, 760, 762, 775, 786, 787], dtype=int64)"
     },
     "execution_count": 16,
     "metadata": {},
     "output_type": "execute_result"
    }
   ],
   "source": [
    "meat.Meat.values"
   ]
  },
  {
   "cell_type": "code",
   "execution_count": 17,
   "id": "d38dee0a",
   "metadata": {},
   "outputs": [
    {
     "data": {
      "text/plain": "(17, 53)"
     },
     "execution_count": 17,
     "metadata": {},
     "output_type": "execute_result"
    }
   ],
   "source": [
    "meat_hourly.shape"
   ]
  },
  {
   "cell_type": "code",
   "execution_count": 18,
   "id": "fdbdec11",
   "metadata": {},
   "outputs": [
    {
     "data": {
      "text/plain": "   701  705  706  767  702  710  712  714  719  760  ...  341  313  320  352  \\\nt                                                    ...                       \n6    0  400    0    0  300    0    0  400    0   28  ...    0    0    0    0   \n7    0  400    0    0  300    0    0  400    0    0  ...    0    0    0    0   \n\n   348  309  401  405  403  402  \nt                                \n6  770    0  770  770  770    0  \n7  770    0  770  770  770    0  \n\n[2 rows x 53 columns]",
      "text/html": "<div>\n<style scoped>\n    .dataframe tbody tr th:only-of-type {\n        vertical-align: middle;\n    }\n\n    .dataframe tbody tr th {\n        vertical-align: top;\n    }\n\n    .dataframe thead th {\n        text-align: right;\n    }\n</style>\n<table border=\"1\" class=\"dataframe\">\n  <thead>\n    <tr style=\"text-align: right;\">\n      <th></th>\n      <th>701</th>\n      <th>705</th>\n      <th>706</th>\n      <th>767</th>\n      <th>702</th>\n      <th>710</th>\n      <th>712</th>\n      <th>714</th>\n      <th>719</th>\n      <th>760</th>\n      <th>...</th>\n      <th>341</th>\n      <th>313</th>\n      <th>320</th>\n      <th>352</th>\n      <th>348</th>\n      <th>309</th>\n      <th>401</th>\n      <th>405</th>\n      <th>403</th>\n      <th>402</th>\n    </tr>\n    <tr>\n      <th>t</th>\n      <th></th>\n      <th></th>\n      <th></th>\n      <th></th>\n      <th></th>\n      <th></th>\n      <th></th>\n      <th></th>\n      <th></th>\n      <th></th>\n      <th></th>\n      <th></th>\n      <th></th>\n      <th></th>\n      <th></th>\n      <th></th>\n      <th></th>\n      <th></th>\n      <th></th>\n      <th></th>\n      <th></th>\n    </tr>\n  </thead>\n  <tbody>\n    <tr>\n      <th>6</th>\n      <td>0</td>\n      <td>400</td>\n      <td>0</td>\n      <td>0</td>\n      <td>300</td>\n      <td>0</td>\n      <td>0</td>\n      <td>400</td>\n      <td>0</td>\n      <td>28</td>\n      <td>...</td>\n      <td>0</td>\n      <td>0</td>\n      <td>0</td>\n      <td>0</td>\n      <td>770</td>\n      <td>0</td>\n      <td>770</td>\n      <td>770</td>\n      <td>770</td>\n      <td>0</td>\n    </tr>\n    <tr>\n      <th>7</th>\n      <td>0</td>\n      <td>400</td>\n      <td>0</td>\n      <td>0</td>\n      <td>300</td>\n      <td>0</td>\n      <td>0</td>\n      <td>400</td>\n      <td>0</td>\n      <td>0</td>\n      <td>...</td>\n      <td>0</td>\n      <td>0</td>\n      <td>0</td>\n      <td>0</td>\n      <td>770</td>\n      <td>0</td>\n      <td>770</td>\n      <td>770</td>\n      <td>770</td>\n      <td>0</td>\n    </tr>\n  </tbody>\n</table>\n<p>2 rows × 53 columns</p>\n</div>"
     },
     "execution_count": 18,
     "metadata": {},
     "output_type": "execute_result"
    }
   ],
   "source": [
    "import numpy as np\n",
    "# meat_hourly.count(axis= 1)\n",
    "meat_hourly.columns = np.dtype('int64').type(meat_hourly.columns)\n",
    "meat_hourly.head(2)"
   ]
  },
  {
   "cell_type": "code",
   "execution_count": 19,
   "id": "e5fd7284",
   "metadata": {},
   "outputs": [],
   "source": [
    "# meat_hourly = meat_hourly.loc[:,list(meat.Meat.values)]\n",
    "# meat_hourly.head(2)"
   ]
  },
  {
   "cell_type": "code",
   "execution_count": 20,
   "id": "c3f356c3",
   "metadata": {},
   "outputs": [
    {
     "data": {
      "text/plain": "    701  705  706  767  702  710  712  714  719  760  ...  341  313  320  352  \\\nt                                                     ...                       \n6     0  400    0    0  300    0    0  400    0   28  ...    0    0    0    0   \n7     0  400    0    0  300    0    0  400    0    0  ...    0    0    0    0   \n8     0  400    0    0  300    0    0  400    0    0  ...    0  370    0    0   \n9     0  400    0    0  300    0    0  400    0    0  ...    0  770    0    0   \n10    4  400    0    0  260    0  140  400    0    0  ...    0  770    0    0   \n11    4  400    0    0    0    0  400  400    0    0  ...    0  732    0    0   \n12    4  400    0    0    0    0  800    0    0    0  ...    0    0    0    0   \n13    0  281  300    0    0    0  800    0    0    0  ...    0    0    0    0   \n14    0    0  150    0    0    0  200    0    0    0  ...    0    0    0    0   \n15    0    0    0    0    0  960  140    0    0    0  ...    0    0    0    0   \n16    0    0    0    0    0    0  916  184    0    0  ...    0    0    0    0   \n17    0    0  186    0    0    0    0  770  264    0  ...  338    0    0    0   \n18    0  318  404    0    0    0    0    0   96    0  ...  770    0    0    0   \n19    0  158  342    0    0    0    0    0    0    0  ...  220    0    0    0   \n20    0  379  300    0    0    0    0    0    0    0  ...   32    0    0    0   \n21    0    0  300    0    0    0    0    0    0  300  ...  400    0    0    0   \n22    0    0    0    0    0    0    0    0    0  111  ...    0    0    0    0   \n\n    348  309  401  405  403  402  \nt                                 \n6   770    0  770  770  770    0  \n7   770    0  770  770  770    0  \n8   400    0  770  770  260  510  \n9     0    0  770  770    0  770  \n10    0    0  770  770    0  770  \n11    0   38  770  770    0  770  \n12    0  770  770  770    0  770  \n13    0  770  770  770    0  770  \n14    0  770  770  770    0  770  \n15    0  300  300  300    0  300  \n16    0  600  600  600    0  600  \n17    0  432  770  770    0  264  \n18    0    0  770  770    0  770  \n19    0  550  770  770    0  770  \n20    0   90  122  122    0  122  \n21    0    0  400  400    0  400  \n22    0    0  162    0    0    0  \n\n[17 rows x 53 columns]",
      "text/html": "<div>\n<style scoped>\n    .dataframe tbody tr th:only-of-type {\n        vertical-align: middle;\n    }\n\n    .dataframe tbody tr th {\n        vertical-align: top;\n    }\n\n    .dataframe thead th {\n        text-align: right;\n    }\n</style>\n<table border=\"1\" class=\"dataframe\">\n  <thead>\n    <tr style=\"text-align: right;\">\n      <th></th>\n      <th>701</th>\n      <th>705</th>\n      <th>706</th>\n      <th>767</th>\n      <th>702</th>\n      <th>710</th>\n      <th>712</th>\n      <th>714</th>\n      <th>719</th>\n      <th>760</th>\n      <th>...</th>\n      <th>341</th>\n      <th>313</th>\n      <th>320</th>\n      <th>352</th>\n      <th>348</th>\n      <th>309</th>\n      <th>401</th>\n      <th>405</th>\n      <th>403</th>\n      <th>402</th>\n    </tr>\n    <tr>\n      <th>t</th>\n      <th></th>\n      <th></th>\n      <th></th>\n      <th></th>\n      <th></th>\n      <th></th>\n      <th></th>\n      <th></th>\n      <th></th>\n      <th></th>\n      <th></th>\n      <th></th>\n      <th></th>\n      <th></th>\n      <th></th>\n      <th></th>\n      <th></th>\n      <th></th>\n      <th></th>\n      <th></th>\n      <th></th>\n    </tr>\n  </thead>\n  <tbody>\n    <tr>\n      <th>6</th>\n      <td>0</td>\n      <td>400</td>\n      <td>0</td>\n      <td>0</td>\n      <td>300</td>\n      <td>0</td>\n      <td>0</td>\n      <td>400</td>\n      <td>0</td>\n      <td>28</td>\n      <td>...</td>\n      <td>0</td>\n      <td>0</td>\n      <td>0</td>\n      <td>0</td>\n      <td>770</td>\n      <td>0</td>\n      <td>770</td>\n      <td>770</td>\n      <td>770</td>\n      <td>0</td>\n    </tr>\n    <tr>\n      <th>7</th>\n      <td>0</td>\n      <td>400</td>\n      <td>0</td>\n      <td>0</td>\n      <td>300</td>\n      <td>0</td>\n      <td>0</td>\n      <td>400</td>\n      <td>0</td>\n      <td>0</td>\n      <td>...</td>\n      <td>0</td>\n      <td>0</td>\n      <td>0</td>\n      <td>0</td>\n      <td>770</td>\n      <td>0</td>\n      <td>770</td>\n      <td>770</td>\n      <td>770</td>\n      <td>0</td>\n    </tr>\n    <tr>\n      <th>8</th>\n      <td>0</td>\n      <td>400</td>\n      <td>0</td>\n      <td>0</td>\n      <td>300</td>\n      <td>0</td>\n      <td>0</td>\n      <td>400</td>\n      <td>0</td>\n      <td>0</td>\n      <td>...</td>\n      <td>0</td>\n      <td>370</td>\n      <td>0</td>\n      <td>0</td>\n      <td>400</td>\n      <td>0</td>\n      <td>770</td>\n      <td>770</td>\n      <td>260</td>\n      <td>510</td>\n    </tr>\n    <tr>\n      <th>9</th>\n      <td>0</td>\n      <td>400</td>\n      <td>0</td>\n      <td>0</td>\n      <td>300</td>\n      <td>0</td>\n      <td>0</td>\n      <td>400</td>\n      <td>0</td>\n      <td>0</td>\n      <td>...</td>\n      <td>0</td>\n      <td>770</td>\n      <td>0</td>\n      <td>0</td>\n      <td>0</td>\n      <td>0</td>\n      <td>770</td>\n      <td>770</td>\n      <td>0</td>\n      <td>770</td>\n    </tr>\n    <tr>\n      <th>10</th>\n      <td>4</td>\n      <td>400</td>\n      <td>0</td>\n      <td>0</td>\n      <td>260</td>\n      <td>0</td>\n      <td>140</td>\n      <td>400</td>\n      <td>0</td>\n      <td>0</td>\n      <td>...</td>\n      <td>0</td>\n      <td>770</td>\n      <td>0</td>\n      <td>0</td>\n      <td>0</td>\n      <td>0</td>\n      <td>770</td>\n      <td>770</td>\n      <td>0</td>\n      <td>770</td>\n    </tr>\n    <tr>\n      <th>11</th>\n      <td>4</td>\n      <td>400</td>\n      <td>0</td>\n      <td>0</td>\n      <td>0</td>\n      <td>0</td>\n      <td>400</td>\n      <td>400</td>\n      <td>0</td>\n      <td>0</td>\n      <td>...</td>\n      <td>0</td>\n      <td>732</td>\n      <td>0</td>\n      <td>0</td>\n      <td>0</td>\n      <td>38</td>\n      <td>770</td>\n      <td>770</td>\n      <td>0</td>\n      <td>770</td>\n    </tr>\n    <tr>\n      <th>12</th>\n      <td>4</td>\n      <td>400</td>\n      <td>0</td>\n      <td>0</td>\n      <td>0</td>\n      <td>0</td>\n      <td>800</td>\n      <td>0</td>\n      <td>0</td>\n      <td>0</td>\n      <td>...</td>\n      <td>0</td>\n      <td>0</td>\n      <td>0</td>\n      <td>0</td>\n      <td>0</td>\n      <td>770</td>\n      <td>770</td>\n      <td>770</td>\n      <td>0</td>\n      <td>770</td>\n    </tr>\n    <tr>\n      <th>13</th>\n      <td>0</td>\n      <td>281</td>\n      <td>300</td>\n      <td>0</td>\n      <td>0</td>\n      <td>0</td>\n      <td>800</td>\n      <td>0</td>\n      <td>0</td>\n      <td>0</td>\n      <td>...</td>\n      <td>0</td>\n      <td>0</td>\n      <td>0</td>\n      <td>0</td>\n      <td>0</td>\n      <td>770</td>\n      <td>770</td>\n      <td>770</td>\n      <td>0</td>\n      <td>770</td>\n    </tr>\n    <tr>\n      <th>14</th>\n      <td>0</td>\n      <td>0</td>\n      <td>150</td>\n      <td>0</td>\n      <td>0</td>\n      <td>0</td>\n      <td>200</td>\n      <td>0</td>\n      <td>0</td>\n      <td>0</td>\n      <td>...</td>\n      <td>0</td>\n      <td>0</td>\n      <td>0</td>\n      <td>0</td>\n      <td>0</td>\n      <td>770</td>\n      <td>770</td>\n      <td>770</td>\n      <td>0</td>\n      <td>770</td>\n    </tr>\n    <tr>\n      <th>15</th>\n      <td>0</td>\n      <td>0</td>\n      <td>0</td>\n      <td>0</td>\n      <td>0</td>\n      <td>960</td>\n      <td>140</td>\n      <td>0</td>\n      <td>0</td>\n      <td>0</td>\n      <td>...</td>\n      <td>0</td>\n      <td>0</td>\n      <td>0</td>\n      <td>0</td>\n      <td>0</td>\n      <td>300</td>\n      <td>300</td>\n      <td>300</td>\n      <td>0</td>\n      <td>300</td>\n    </tr>\n    <tr>\n      <th>16</th>\n      <td>0</td>\n      <td>0</td>\n      <td>0</td>\n      <td>0</td>\n      <td>0</td>\n      <td>0</td>\n      <td>916</td>\n      <td>184</td>\n      <td>0</td>\n      <td>0</td>\n      <td>...</td>\n      <td>0</td>\n      <td>0</td>\n      <td>0</td>\n      <td>0</td>\n      <td>0</td>\n      <td>600</td>\n      <td>600</td>\n      <td>600</td>\n      <td>0</td>\n      <td>600</td>\n    </tr>\n    <tr>\n      <th>17</th>\n      <td>0</td>\n      <td>0</td>\n      <td>186</td>\n      <td>0</td>\n      <td>0</td>\n      <td>0</td>\n      <td>0</td>\n      <td>770</td>\n      <td>264</td>\n      <td>0</td>\n      <td>...</td>\n      <td>338</td>\n      <td>0</td>\n      <td>0</td>\n      <td>0</td>\n      <td>0</td>\n      <td>432</td>\n      <td>770</td>\n      <td>770</td>\n      <td>0</td>\n      <td>264</td>\n    </tr>\n    <tr>\n      <th>18</th>\n      <td>0</td>\n      <td>318</td>\n      <td>404</td>\n      <td>0</td>\n      <td>0</td>\n      <td>0</td>\n      <td>0</td>\n      <td>0</td>\n      <td>96</td>\n      <td>0</td>\n      <td>...</td>\n      <td>770</td>\n      <td>0</td>\n      <td>0</td>\n      <td>0</td>\n      <td>0</td>\n      <td>0</td>\n      <td>770</td>\n      <td>770</td>\n      <td>0</td>\n      <td>770</td>\n    </tr>\n    <tr>\n      <th>19</th>\n      <td>0</td>\n      <td>158</td>\n      <td>342</td>\n      <td>0</td>\n      <td>0</td>\n      <td>0</td>\n      <td>0</td>\n      <td>0</td>\n      <td>0</td>\n      <td>0</td>\n      <td>...</td>\n      <td>220</td>\n      <td>0</td>\n      <td>0</td>\n      <td>0</td>\n      <td>0</td>\n      <td>550</td>\n      <td>770</td>\n      <td>770</td>\n      <td>0</td>\n      <td>770</td>\n    </tr>\n    <tr>\n      <th>20</th>\n      <td>0</td>\n      <td>379</td>\n      <td>300</td>\n      <td>0</td>\n      <td>0</td>\n      <td>0</td>\n      <td>0</td>\n      <td>0</td>\n      <td>0</td>\n      <td>0</td>\n      <td>...</td>\n      <td>32</td>\n      <td>0</td>\n      <td>0</td>\n      <td>0</td>\n      <td>0</td>\n      <td>90</td>\n      <td>122</td>\n      <td>122</td>\n      <td>0</td>\n      <td>122</td>\n    </tr>\n    <tr>\n      <th>21</th>\n      <td>0</td>\n      <td>0</td>\n      <td>300</td>\n      <td>0</td>\n      <td>0</td>\n      <td>0</td>\n      <td>0</td>\n      <td>0</td>\n      <td>0</td>\n      <td>300</td>\n      <td>...</td>\n      <td>400</td>\n      <td>0</td>\n      <td>0</td>\n      <td>0</td>\n      <td>0</td>\n      <td>0</td>\n      <td>400</td>\n      <td>400</td>\n      <td>0</td>\n      <td>400</td>\n    </tr>\n    <tr>\n      <th>22</th>\n      <td>0</td>\n      <td>0</td>\n      <td>0</td>\n      <td>0</td>\n      <td>0</td>\n      <td>0</td>\n      <td>0</td>\n      <td>0</td>\n      <td>0</td>\n      <td>111</td>\n      <td>...</td>\n      <td>0</td>\n      <td>0</td>\n      <td>0</td>\n      <td>0</td>\n      <td>0</td>\n      <td>0</td>\n      <td>162</td>\n      <td>0</td>\n      <td>0</td>\n      <td>0</td>\n    </tr>\n  </tbody>\n</table>\n<p>17 rows × 53 columns</p>\n</div>"
     },
     "execution_count": 20,
     "metadata": {},
     "output_type": "execute_result"
    }
   ],
   "source": [
    "meat_hourly"
   ]
  },
  {
   "cell_type": "code",
   "execution_count": 21,
   "id": "a4e84452",
   "metadata": {},
   "outputs": [
    {
     "data": {
      "text/plain": "array([101, 103, 104, 111, 141, 144, 147, 148, 149, 303, 309, 313, 324,\n       341, 348, 401, 402, 403, 405, 501, 502, 506, 510, 511, 518, 545,\n       553, 583, 701, 702, 703, 705, 706, 710, 712, 714, 715, 716, 719,\n       739, 760, 762, 775, 786, 787], dtype=int64)"
     },
     "execution_count": 21,
     "metadata": {},
     "output_type": "execute_result"
    }
   ],
   "source": [
    "meat.Meat.values"
   ]
  },
  {
   "cell_type": "markdown",
   "id": "c7bb913c",
   "metadata": {},
   "source": [
    "# Data Cleaning\n"
   ]
  },
  {
   "cell_type": "code",
   "execution_count": 22,
   "id": "4ecb87f8",
   "metadata": {},
   "outputs": [],
   "source": [
    "# Check capitalization of the columns naem\n",
    "seq.columns=['BomKey' if x=='bomkey' else x for x in seq.columns]\n",
    "\n",
    "#Some products have 0 PiecesInBox, these skus are also excluded\n",
    "req = req.loc[req[\"PiecesInBox\"]!=0,:]\n",
    "\n",
    "# exclude byproduct(just include meat_id in Meat table)\n",
    "meat_hourly = meat_hourly.loc[:,list(meat.Meat.values)]\n",
    "\n",
    "#combine meat inputs and requirements\n",
    "meat_and_req = req.merge(ProdMeat, left_on='itemkey',  right_on='FinishedGoodProductCode', how='left')"
   ]
  },
  {
   "cell_type": "code",
   "execution_count": 23,
   "id": "bb660f41",
   "metadata": {},
   "outputs": [
    {
     "data": {
      "text/plain": "   itemkey                                itemdesc  PiecesInBox  Priority1Qty  \\\n0    34019  Fresh Pork Ham Boneless Inside Denuded          450             0   \n1    34119     Fresh Pork Hams Bnls Inside Denuded          450             0   \n2    30016                     Fresh Pork Side Rib          415             0   \n3    30008     Fresh Pork Shoulder Picnic Boneless          270             0   \n4    31508     Fresh Pork Shoulder Picnic Boneless          270             0   \n\n   Priority2Qty  Priority3Qty  Priority4Qty  FinishedGoodProductCode  MeatItem  \n0             0             4             2                    34019       553  \n1             6             0             0                    34119       553  \n2            15             1            19                    30016       111  \n3             0             0             4                    30008       715  \n4             9             0            12                    31508       715  ",
      "text/html": "<div>\n<style scoped>\n    .dataframe tbody tr th:only-of-type {\n        vertical-align: middle;\n    }\n\n    .dataframe tbody tr th {\n        vertical-align: top;\n    }\n\n    .dataframe thead th {\n        text-align: right;\n    }\n</style>\n<table border=\"1\" class=\"dataframe\">\n  <thead>\n    <tr style=\"text-align: right;\">\n      <th></th>\n      <th>itemkey</th>\n      <th>itemdesc</th>\n      <th>PiecesInBox</th>\n      <th>Priority1Qty</th>\n      <th>Priority2Qty</th>\n      <th>Priority3Qty</th>\n      <th>Priority4Qty</th>\n      <th>FinishedGoodProductCode</th>\n      <th>MeatItem</th>\n    </tr>\n  </thead>\n  <tbody>\n    <tr>\n      <th>0</th>\n      <td>34019</td>\n      <td>Fresh Pork Ham Boneless Inside Denuded</td>\n      <td>450</td>\n      <td>0</td>\n      <td>0</td>\n      <td>4</td>\n      <td>2</td>\n      <td>34019</td>\n      <td>553</td>\n    </tr>\n    <tr>\n      <th>1</th>\n      <td>34119</td>\n      <td>Fresh Pork Hams Bnls Inside Denuded</td>\n      <td>450</td>\n      <td>0</td>\n      <td>6</td>\n      <td>0</td>\n      <td>0</td>\n      <td>34119</td>\n      <td>553</td>\n    </tr>\n    <tr>\n      <th>2</th>\n      <td>30016</td>\n      <td>Fresh Pork Side Rib</td>\n      <td>415</td>\n      <td>0</td>\n      <td>15</td>\n      <td>1</td>\n      <td>19</td>\n      <td>30016</td>\n      <td>111</td>\n    </tr>\n    <tr>\n      <th>3</th>\n      <td>30008</td>\n      <td>Fresh Pork Shoulder Picnic Boneless</td>\n      <td>270</td>\n      <td>0</td>\n      <td>0</td>\n      <td>0</td>\n      <td>4</td>\n      <td>30008</td>\n      <td>715</td>\n    </tr>\n    <tr>\n      <th>4</th>\n      <td>31508</td>\n      <td>Fresh Pork Shoulder Picnic Boneless</td>\n      <td>270</td>\n      <td>0</td>\n      <td>9</td>\n      <td>0</td>\n      <td>12</td>\n      <td>31508</td>\n      <td>715</td>\n    </tr>\n  </tbody>\n</table>\n</div>"
     },
     "execution_count": 23,
     "metadata": {},
     "output_type": "execute_result"
    }
   ],
   "source": [
    "# sales.drop(sales.CustomerID.isin(badcu))\n",
    "chilled_pork = [148, 152, 348, 352, 353, 460, 461, 702, 762, 784, 786, 787]\n",
    "meat_and_req[~meat_and_req['MeatItem'].isin(chilled_pork)].head()"
   ]
  },
  {
   "cell_type": "code",
   "execution_count": 24,
   "id": "3a2c5fd7",
   "metadata": {},
   "outputs": [
    {
     "data": {
      "text/plain": "    101   103  104   111  141  144  147  149  303  309  ...  706  710  712  \\\nt                                                       ...                  \n6     6   900    0   940    0    0    0  150  330    0  ...    0    0    0   \n7     0   900    0   940    0    0    0  150  330    0  ...    0    0    0   \n8     0   900    0   940    0    0    0  150  330    0  ...    0    0    0   \n9     0   860    0   940    0    0    0  190  330    0  ...    0    0    0   \n10    0   850    0   940    0    0    0  300  330    0  ...    0    0  140   \n11    0   850    0   940    0    0    0  300  330   38  ...    0    0  400   \n12    0   850    0   940    0    0    0  600  330  770  ...    0    0  800   \n13    0   850    0   940    0    0    0  600  330  770  ...  300    0  800   \n14    0   900    0   487    0    0    0    0  330  770  ...  150    0  200   \n15    0   900   54  1100   40  175  110    0  250  300  ...    0  960  140   \n16    0   850    0  1100    0  175  110  600  500  600  ...    0    0  916   \n17    0   500    0  1100    0    0  100  600  330  432  ...  186    0    0   \n18    0   500    0  1100   20  250    0    0  330    0  ...  404    0    0   \n19    0   900   90  1100   60  250    0    0  330  550  ...  342    0    0   \n20    0  1000    0  1100    0  196    0    0  950   90  ...  300    0    0   \n21    0  1000    0  1100    0    0    0    0  458    0  ...  300    0    0   \n22    0   970    0   900    0    0    0    0    0    0  ...    0    0    0   \n\n    714   715  716  719  739  760  775  \nt                                       \n6   400   165    0    0    0   28    0  \n7   400   265    0    0    0    0    0  \n8   400   473    0    0    0    0    0  \n9   400   700    0    0    0    0    0  \n10  400   700    0    0    0    0    0  \n11  400   700    0    0    0    0    0  \n12    0  1100    0    0    0    0    0  \n13    0  1100    0    0    0    0    0  \n14    0   457   60    0    0    0    0  \n15    0  1100    0    0    0    0    0  \n16  184  1100    0    0    0    0    0  \n17  770  1100    0  264  120    0   66  \n18    0  1100    0   96  120    0  600  \n19    0  1100    0    0    0    0  600  \n20    0  1100    0    0    0    0  126  \n21    0  1100    0    0    0  300    0  \n22    0   580    0    0    0  111    0  \n\n[17 rows x 39 columns]",
      "text/html": "<div>\n<style scoped>\n    .dataframe tbody tr th:only-of-type {\n        vertical-align: middle;\n    }\n\n    .dataframe tbody tr th {\n        vertical-align: top;\n    }\n\n    .dataframe thead th {\n        text-align: right;\n    }\n</style>\n<table border=\"1\" class=\"dataframe\">\n  <thead>\n    <tr style=\"text-align: right;\">\n      <th></th>\n      <th>101</th>\n      <th>103</th>\n      <th>104</th>\n      <th>111</th>\n      <th>141</th>\n      <th>144</th>\n      <th>147</th>\n      <th>149</th>\n      <th>303</th>\n      <th>309</th>\n      <th>...</th>\n      <th>706</th>\n      <th>710</th>\n      <th>712</th>\n      <th>714</th>\n      <th>715</th>\n      <th>716</th>\n      <th>719</th>\n      <th>739</th>\n      <th>760</th>\n      <th>775</th>\n    </tr>\n    <tr>\n      <th>t</th>\n      <th></th>\n      <th></th>\n      <th></th>\n      <th></th>\n      <th></th>\n      <th></th>\n      <th></th>\n      <th></th>\n      <th></th>\n      <th></th>\n      <th></th>\n      <th></th>\n      <th></th>\n      <th></th>\n      <th></th>\n      <th></th>\n      <th></th>\n      <th></th>\n      <th></th>\n      <th></th>\n      <th></th>\n    </tr>\n  </thead>\n  <tbody>\n    <tr>\n      <th>6</th>\n      <td>6</td>\n      <td>900</td>\n      <td>0</td>\n      <td>940</td>\n      <td>0</td>\n      <td>0</td>\n      <td>0</td>\n      <td>150</td>\n      <td>330</td>\n      <td>0</td>\n      <td>...</td>\n      <td>0</td>\n      <td>0</td>\n      <td>0</td>\n      <td>400</td>\n      <td>165</td>\n      <td>0</td>\n      <td>0</td>\n      <td>0</td>\n      <td>28</td>\n      <td>0</td>\n    </tr>\n    <tr>\n      <th>7</th>\n      <td>0</td>\n      <td>900</td>\n      <td>0</td>\n      <td>940</td>\n      <td>0</td>\n      <td>0</td>\n      <td>0</td>\n      <td>150</td>\n      <td>330</td>\n      <td>0</td>\n      <td>...</td>\n      <td>0</td>\n      <td>0</td>\n      <td>0</td>\n      <td>400</td>\n      <td>265</td>\n      <td>0</td>\n      <td>0</td>\n      <td>0</td>\n      <td>0</td>\n      <td>0</td>\n    </tr>\n    <tr>\n      <th>8</th>\n      <td>0</td>\n      <td>900</td>\n      <td>0</td>\n      <td>940</td>\n      <td>0</td>\n      <td>0</td>\n      <td>0</td>\n      <td>150</td>\n      <td>330</td>\n      <td>0</td>\n      <td>...</td>\n      <td>0</td>\n      <td>0</td>\n      <td>0</td>\n      <td>400</td>\n      <td>473</td>\n      <td>0</td>\n      <td>0</td>\n      <td>0</td>\n      <td>0</td>\n      <td>0</td>\n    </tr>\n    <tr>\n      <th>9</th>\n      <td>0</td>\n      <td>860</td>\n      <td>0</td>\n      <td>940</td>\n      <td>0</td>\n      <td>0</td>\n      <td>0</td>\n      <td>190</td>\n      <td>330</td>\n      <td>0</td>\n      <td>...</td>\n      <td>0</td>\n      <td>0</td>\n      <td>0</td>\n      <td>400</td>\n      <td>700</td>\n      <td>0</td>\n      <td>0</td>\n      <td>0</td>\n      <td>0</td>\n      <td>0</td>\n    </tr>\n    <tr>\n      <th>10</th>\n      <td>0</td>\n      <td>850</td>\n      <td>0</td>\n      <td>940</td>\n      <td>0</td>\n      <td>0</td>\n      <td>0</td>\n      <td>300</td>\n      <td>330</td>\n      <td>0</td>\n      <td>...</td>\n      <td>0</td>\n      <td>0</td>\n      <td>140</td>\n      <td>400</td>\n      <td>700</td>\n      <td>0</td>\n      <td>0</td>\n      <td>0</td>\n      <td>0</td>\n      <td>0</td>\n    </tr>\n    <tr>\n      <th>11</th>\n      <td>0</td>\n      <td>850</td>\n      <td>0</td>\n      <td>940</td>\n      <td>0</td>\n      <td>0</td>\n      <td>0</td>\n      <td>300</td>\n      <td>330</td>\n      <td>38</td>\n      <td>...</td>\n      <td>0</td>\n      <td>0</td>\n      <td>400</td>\n      <td>400</td>\n      <td>700</td>\n      <td>0</td>\n      <td>0</td>\n      <td>0</td>\n      <td>0</td>\n      <td>0</td>\n    </tr>\n    <tr>\n      <th>12</th>\n      <td>0</td>\n      <td>850</td>\n      <td>0</td>\n      <td>940</td>\n      <td>0</td>\n      <td>0</td>\n      <td>0</td>\n      <td>600</td>\n      <td>330</td>\n      <td>770</td>\n      <td>...</td>\n      <td>0</td>\n      <td>0</td>\n      <td>800</td>\n      <td>0</td>\n      <td>1100</td>\n      <td>0</td>\n      <td>0</td>\n      <td>0</td>\n      <td>0</td>\n      <td>0</td>\n    </tr>\n    <tr>\n      <th>13</th>\n      <td>0</td>\n      <td>850</td>\n      <td>0</td>\n      <td>940</td>\n      <td>0</td>\n      <td>0</td>\n      <td>0</td>\n      <td>600</td>\n      <td>330</td>\n      <td>770</td>\n      <td>...</td>\n      <td>300</td>\n      <td>0</td>\n      <td>800</td>\n      <td>0</td>\n      <td>1100</td>\n      <td>0</td>\n      <td>0</td>\n      <td>0</td>\n      <td>0</td>\n      <td>0</td>\n    </tr>\n    <tr>\n      <th>14</th>\n      <td>0</td>\n      <td>900</td>\n      <td>0</td>\n      <td>487</td>\n      <td>0</td>\n      <td>0</td>\n      <td>0</td>\n      <td>0</td>\n      <td>330</td>\n      <td>770</td>\n      <td>...</td>\n      <td>150</td>\n      <td>0</td>\n      <td>200</td>\n      <td>0</td>\n      <td>457</td>\n      <td>60</td>\n      <td>0</td>\n      <td>0</td>\n      <td>0</td>\n      <td>0</td>\n    </tr>\n    <tr>\n      <th>15</th>\n      <td>0</td>\n      <td>900</td>\n      <td>54</td>\n      <td>1100</td>\n      <td>40</td>\n      <td>175</td>\n      <td>110</td>\n      <td>0</td>\n      <td>250</td>\n      <td>300</td>\n      <td>...</td>\n      <td>0</td>\n      <td>960</td>\n      <td>140</td>\n      <td>0</td>\n      <td>1100</td>\n      <td>0</td>\n      <td>0</td>\n      <td>0</td>\n      <td>0</td>\n      <td>0</td>\n    </tr>\n    <tr>\n      <th>16</th>\n      <td>0</td>\n      <td>850</td>\n      <td>0</td>\n      <td>1100</td>\n      <td>0</td>\n      <td>175</td>\n      <td>110</td>\n      <td>600</td>\n      <td>500</td>\n      <td>600</td>\n      <td>...</td>\n      <td>0</td>\n      <td>0</td>\n      <td>916</td>\n      <td>184</td>\n      <td>1100</td>\n      <td>0</td>\n      <td>0</td>\n      <td>0</td>\n      <td>0</td>\n      <td>0</td>\n    </tr>\n    <tr>\n      <th>17</th>\n      <td>0</td>\n      <td>500</td>\n      <td>0</td>\n      <td>1100</td>\n      <td>0</td>\n      <td>0</td>\n      <td>100</td>\n      <td>600</td>\n      <td>330</td>\n      <td>432</td>\n      <td>...</td>\n      <td>186</td>\n      <td>0</td>\n      <td>0</td>\n      <td>770</td>\n      <td>1100</td>\n      <td>0</td>\n      <td>264</td>\n      <td>120</td>\n      <td>0</td>\n      <td>66</td>\n    </tr>\n    <tr>\n      <th>18</th>\n      <td>0</td>\n      <td>500</td>\n      <td>0</td>\n      <td>1100</td>\n      <td>20</td>\n      <td>250</td>\n      <td>0</td>\n      <td>0</td>\n      <td>330</td>\n      <td>0</td>\n      <td>...</td>\n      <td>404</td>\n      <td>0</td>\n      <td>0</td>\n      <td>0</td>\n      <td>1100</td>\n      <td>0</td>\n      <td>96</td>\n      <td>120</td>\n      <td>0</td>\n      <td>600</td>\n    </tr>\n    <tr>\n      <th>19</th>\n      <td>0</td>\n      <td>900</td>\n      <td>90</td>\n      <td>1100</td>\n      <td>60</td>\n      <td>250</td>\n      <td>0</td>\n      <td>0</td>\n      <td>330</td>\n      <td>550</td>\n      <td>...</td>\n      <td>342</td>\n      <td>0</td>\n      <td>0</td>\n      <td>0</td>\n      <td>1100</td>\n      <td>0</td>\n      <td>0</td>\n      <td>0</td>\n      <td>0</td>\n      <td>600</td>\n    </tr>\n    <tr>\n      <th>20</th>\n      <td>0</td>\n      <td>1000</td>\n      <td>0</td>\n      <td>1100</td>\n      <td>0</td>\n      <td>196</td>\n      <td>0</td>\n      <td>0</td>\n      <td>950</td>\n      <td>90</td>\n      <td>...</td>\n      <td>300</td>\n      <td>0</td>\n      <td>0</td>\n      <td>0</td>\n      <td>1100</td>\n      <td>0</td>\n      <td>0</td>\n      <td>0</td>\n      <td>0</td>\n      <td>126</td>\n    </tr>\n    <tr>\n      <th>21</th>\n      <td>0</td>\n      <td>1000</td>\n      <td>0</td>\n      <td>1100</td>\n      <td>0</td>\n      <td>0</td>\n      <td>0</td>\n      <td>0</td>\n      <td>458</td>\n      <td>0</td>\n      <td>...</td>\n      <td>300</td>\n      <td>0</td>\n      <td>0</td>\n      <td>0</td>\n      <td>1100</td>\n      <td>0</td>\n      <td>0</td>\n      <td>0</td>\n      <td>300</td>\n      <td>0</td>\n    </tr>\n    <tr>\n      <th>22</th>\n      <td>0</td>\n      <td>970</td>\n      <td>0</td>\n      <td>900</td>\n      <td>0</td>\n      <td>0</td>\n      <td>0</td>\n      <td>0</td>\n      <td>0</td>\n      <td>0</td>\n      <td>...</td>\n      <td>0</td>\n      <td>0</td>\n      <td>0</td>\n      <td>0</td>\n      <td>580</td>\n      <td>0</td>\n      <td>0</td>\n      <td>0</td>\n      <td>111</td>\n      <td>0</td>\n    </tr>\n  </tbody>\n</table>\n<p>17 rows × 39 columns</p>\n</div>"
     },
     "execution_count": 24,
     "metadata": {},
     "output_type": "execute_result"
    }
   ],
   "source": [
    "meat_hourly[meat_hourly.columns[~meat_hourly.columns.isin(chilled_pork)]]"
   ]
  },
  {
   "cell_type": "code",
   "execution_count": 24,
   "id": "44e84601",
   "metadata": {},
   "outputs": [],
   "source": []
  },
  {
   "cell_type": "code",
   "execution_count": 25,
   "id": "c19c6cc6",
   "metadata": {},
   "outputs": [
    {
     "data": {
      "text/plain": "    101   103  104   111  141  144  147  148  149  303  ...  714   715  716  \\\nt                                                       ...                   \n6     6   900    0   940    0    0    0  250  150  330  ...  400   165    0   \n7     0   900    0   940    0    0    0  250  150  330  ...  400   265    0   \n8     0   900    0   940    0    0    0  250  150  330  ...  400   473    0   \n9     0   860    0   940    0    0    0  251  190  330  ...  400   700    0   \n10    0   850    0   940    0    0    0  251  300  330  ...  400   700    0   \n11    0   850    0   940    0    0    0  251  300  330  ...  400   700    0   \n12    0   850    0   940    0    0    0  251  600  330  ...    0  1100    0   \n13    0   850    0   940    0    0    0  246  600  330  ...    0  1100    0   \n14    0   900    0   487    0    0    0    0    0  330  ...    0   457   60   \n15    0   900   54  1100   40  175  110    0    0  250  ...    0  1100    0   \n16    0   850    0  1100    0  175  110    0  600  500  ...  184  1100    0   \n17    0   500    0  1100    0    0  100    0  600  330  ...  770  1100    0   \n18    0   500    0  1100   20  250    0    0    0  330  ...    0  1100    0   \n19    0   900   90  1100   60  250    0    5    0  330  ...    0  1100    0   \n20    0  1000    0  1100    0  196    0    0    0  950  ...    0  1100    0   \n21    0  1000    0  1100    0    0    0    0    0  458  ...    0  1100    0   \n22    0   970    0   900    0    0    0    0    0    0  ...    0   580    0   \n\n    719  739  760  762  775  786  787  \nt                                      \n6     0    0   28  500    0    0    0  \n7     0    0    0  400    0    0    0  \n8     0    0    0  400    0    0    0  \n9     0    0    0  400    0    0    0  \n10    0    0    0  400    0    0    0  \n11    0    0    0  400    0    0    0  \n12    0    0    0    0    0    0    0  \n13    0    0    0    0    0    0    0  \n14    0    0    0    0    0    0    0  \n15    0    0    0    0    0    0    0  \n16    0    0    0    0    0    0    0  \n17  264  120    0    0   66    0    0  \n18   96  120    0    0  600    0    0  \n19    0    0    0    0  600    0    0  \n20    0    0    0    0  126  200    0  \n21    0    0  300    0    0  260  200  \n22    0    0  111    0    0    0    0  \n\n[17 rows x 45 columns]",
      "text/html": "<div>\n<style scoped>\n    .dataframe tbody tr th:only-of-type {\n        vertical-align: middle;\n    }\n\n    .dataframe tbody tr th {\n        vertical-align: top;\n    }\n\n    .dataframe thead th {\n        text-align: right;\n    }\n</style>\n<table border=\"1\" class=\"dataframe\">\n  <thead>\n    <tr style=\"text-align: right;\">\n      <th></th>\n      <th>101</th>\n      <th>103</th>\n      <th>104</th>\n      <th>111</th>\n      <th>141</th>\n      <th>144</th>\n      <th>147</th>\n      <th>148</th>\n      <th>149</th>\n      <th>303</th>\n      <th>...</th>\n      <th>714</th>\n      <th>715</th>\n      <th>716</th>\n      <th>719</th>\n      <th>739</th>\n      <th>760</th>\n      <th>762</th>\n      <th>775</th>\n      <th>786</th>\n      <th>787</th>\n    </tr>\n    <tr>\n      <th>t</th>\n      <th></th>\n      <th></th>\n      <th></th>\n      <th></th>\n      <th></th>\n      <th></th>\n      <th></th>\n      <th></th>\n      <th></th>\n      <th></th>\n      <th></th>\n      <th></th>\n      <th></th>\n      <th></th>\n      <th></th>\n      <th></th>\n      <th></th>\n      <th></th>\n      <th></th>\n      <th></th>\n      <th></th>\n    </tr>\n  </thead>\n  <tbody>\n    <tr>\n      <th>6</th>\n      <td>6</td>\n      <td>900</td>\n      <td>0</td>\n      <td>940</td>\n      <td>0</td>\n      <td>0</td>\n      <td>0</td>\n      <td>250</td>\n      <td>150</td>\n      <td>330</td>\n      <td>...</td>\n      <td>400</td>\n      <td>165</td>\n      <td>0</td>\n      <td>0</td>\n      <td>0</td>\n      <td>28</td>\n      <td>500</td>\n      <td>0</td>\n      <td>0</td>\n      <td>0</td>\n    </tr>\n    <tr>\n      <th>7</th>\n      <td>0</td>\n      <td>900</td>\n      <td>0</td>\n      <td>940</td>\n      <td>0</td>\n      <td>0</td>\n      <td>0</td>\n      <td>250</td>\n      <td>150</td>\n      <td>330</td>\n      <td>...</td>\n      <td>400</td>\n      <td>265</td>\n      <td>0</td>\n      <td>0</td>\n      <td>0</td>\n      <td>0</td>\n      <td>400</td>\n      <td>0</td>\n      <td>0</td>\n      <td>0</td>\n    </tr>\n    <tr>\n      <th>8</th>\n      <td>0</td>\n      <td>900</td>\n      <td>0</td>\n      <td>940</td>\n      <td>0</td>\n      <td>0</td>\n      <td>0</td>\n      <td>250</td>\n      <td>150</td>\n      <td>330</td>\n      <td>...</td>\n      <td>400</td>\n      <td>473</td>\n      <td>0</td>\n      <td>0</td>\n      <td>0</td>\n      <td>0</td>\n      <td>400</td>\n      <td>0</td>\n      <td>0</td>\n      <td>0</td>\n    </tr>\n    <tr>\n      <th>9</th>\n      <td>0</td>\n      <td>860</td>\n      <td>0</td>\n      <td>940</td>\n      <td>0</td>\n      <td>0</td>\n      <td>0</td>\n      <td>251</td>\n      <td>190</td>\n      <td>330</td>\n      <td>...</td>\n      <td>400</td>\n      <td>700</td>\n      <td>0</td>\n      <td>0</td>\n      <td>0</td>\n      <td>0</td>\n      <td>400</td>\n      <td>0</td>\n      <td>0</td>\n      <td>0</td>\n    </tr>\n    <tr>\n      <th>10</th>\n      <td>0</td>\n      <td>850</td>\n      <td>0</td>\n      <td>940</td>\n      <td>0</td>\n      <td>0</td>\n      <td>0</td>\n      <td>251</td>\n      <td>300</td>\n      <td>330</td>\n      <td>...</td>\n      <td>400</td>\n      <td>700</td>\n      <td>0</td>\n      <td>0</td>\n      <td>0</td>\n      <td>0</td>\n      <td>400</td>\n      <td>0</td>\n      <td>0</td>\n      <td>0</td>\n    </tr>\n    <tr>\n      <th>11</th>\n      <td>0</td>\n      <td>850</td>\n      <td>0</td>\n      <td>940</td>\n      <td>0</td>\n      <td>0</td>\n      <td>0</td>\n      <td>251</td>\n      <td>300</td>\n      <td>330</td>\n      <td>...</td>\n      <td>400</td>\n      <td>700</td>\n      <td>0</td>\n      <td>0</td>\n      <td>0</td>\n      <td>0</td>\n      <td>400</td>\n      <td>0</td>\n      <td>0</td>\n      <td>0</td>\n    </tr>\n    <tr>\n      <th>12</th>\n      <td>0</td>\n      <td>850</td>\n      <td>0</td>\n      <td>940</td>\n      <td>0</td>\n      <td>0</td>\n      <td>0</td>\n      <td>251</td>\n      <td>600</td>\n      <td>330</td>\n      <td>...</td>\n      <td>0</td>\n      <td>1100</td>\n      <td>0</td>\n      <td>0</td>\n      <td>0</td>\n      <td>0</td>\n      <td>0</td>\n      <td>0</td>\n      <td>0</td>\n      <td>0</td>\n    </tr>\n    <tr>\n      <th>13</th>\n      <td>0</td>\n      <td>850</td>\n      <td>0</td>\n      <td>940</td>\n      <td>0</td>\n      <td>0</td>\n      <td>0</td>\n      <td>246</td>\n      <td>600</td>\n      <td>330</td>\n      <td>...</td>\n      <td>0</td>\n      <td>1100</td>\n      <td>0</td>\n      <td>0</td>\n      <td>0</td>\n      <td>0</td>\n      <td>0</td>\n      <td>0</td>\n      <td>0</td>\n      <td>0</td>\n    </tr>\n    <tr>\n      <th>14</th>\n      <td>0</td>\n      <td>900</td>\n      <td>0</td>\n      <td>487</td>\n      <td>0</td>\n      <td>0</td>\n      <td>0</td>\n      <td>0</td>\n      <td>0</td>\n      <td>330</td>\n      <td>...</td>\n      <td>0</td>\n      <td>457</td>\n      <td>60</td>\n      <td>0</td>\n      <td>0</td>\n      <td>0</td>\n      <td>0</td>\n      <td>0</td>\n      <td>0</td>\n      <td>0</td>\n    </tr>\n    <tr>\n      <th>15</th>\n      <td>0</td>\n      <td>900</td>\n      <td>54</td>\n      <td>1100</td>\n      <td>40</td>\n      <td>175</td>\n      <td>110</td>\n      <td>0</td>\n      <td>0</td>\n      <td>250</td>\n      <td>...</td>\n      <td>0</td>\n      <td>1100</td>\n      <td>0</td>\n      <td>0</td>\n      <td>0</td>\n      <td>0</td>\n      <td>0</td>\n      <td>0</td>\n      <td>0</td>\n      <td>0</td>\n    </tr>\n    <tr>\n      <th>16</th>\n      <td>0</td>\n      <td>850</td>\n      <td>0</td>\n      <td>1100</td>\n      <td>0</td>\n      <td>175</td>\n      <td>110</td>\n      <td>0</td>\n      <td>600</td>\n      <td>500</td>\n      <td>...</td>\n      <td>184</td>\n      <td>1100</td>\n      <td>0</td>\n      <td>0</td>\n      <td>0</td>\n      <td>0</td>\n      <td>0</td>\n      <td>0</td>\n      <td>0</td>\n      <td>0</td>\n    </tr>\n    <tr>\n      <th>17</th>\n      <td>0</td>\n      <td>500</td>\n      <td>0</td>\n      <td>1100</td>\n      <td>0</td>\n      <td>0</td>\n      <td>100</td>\n      <td>0</td>\n      <td>600</td>\n      <td>330</td>\n      <td>...</td>\n      <td>770</td>\n      <td>1100</td>\n      <td>0</td>\n      <td>264</td>\n      <td>120</td>\n      <td>0</td>\n      <td>0</td>\n      <td>66</td>\n      <td>0</td>\n      <td>0</td>\n    </tr>\n    <tr>\n      <th>18</th>\n      <td>0</td>\n      <td>500</td>\n      <td>0</td>\n      <td>1100</td>\n      <td>20</td>\n      <td>250</td>\n      <td>0</td>\n      <td>0</td>\n      <td>0</td>\n      <td>330</td>\n      <td>...</td>\n      <td>0</td>\n      <td>1100</td>\n      <td>0</td>\n      <td>96</td>\n      <td>120</td>\n      <td>0</td>\n      <td>0</td>\n      <td>600</td>\n      <td>0</td>\n      <td>0</td>\n    </tr>\n    <tr>\n      <th>19</th>\n      <td>0</td>\n      <td>900</td>\n      <td>90</td>\n      <td>1100</td>\n      <td>60</td>\n      <td>250</td>\n      <td>0</td>\n      <td>5</td>\n      <td>0</td>\n      <td>330</td>\n      <td>...</td>\n      <td>0</td>\n      <td>1100</td>\n      <td>0</td>\n      <td>0</td>\n      <td>0</td>\n      <td>0</td>\n      <td>0</td>\n      <td>600</td>\n      <td>0</td>\n      <td>0</td>\n    </tr>\n    <tr>\n      <th>20</th>\n      <td>0</td>\n      <td>1000</td>\n      <td>0</td>\n      <td>1100</td>\n      <td>0</td>\n      <td>196</td>\n      <td>0</td>\n      <td>0</td>\n      <td>0</td>\n      <td>950</td>\n      <td>...</td>\n      <td>0</td>\n      <td>1100</td>\n      <td>0</td>\n      <td>0</td>\n      <td>0</td>\n      <td>0</td>\n      <td>0</td>\n      <td>126</td>\n      <td>200</td>\n      <td>0</td>\n    </tr>\n    <tr>\n      <th>21</th>\n      <td>0</td>\n      <td>1000</td>\n      <td>0</td>\n      <td>1100</td>\n      <td>0</td>\n      <td>0</td>\n      <td>0</td>\n      <td>0</td>\n      <td>0</td>\n      <td>458</td>\n      <td>...</td>\n      <td>0</td>\n      <td>1100</td>\n      <td>0</td>\n      <td>0</td>\n      <td>0</td>\n      <td>300</td>\n      <td>0</td>\n      <td>0</td>\n      <td>260</td>\n      <td>200</td>\n    </tr>\n    <tr>\n      <th>22</th>\n      <td>0</td>\n      <td>970</td>\n      <td>0</td>\n      <td>900</td>\n      <td>0</td>\n      <td>0</td>\n      <td>0</td>\n      <td>0</td>\n      <td>0</td>\n      <td>0</td>\n      <td>...</td>\n      <td>0</td>\n      <td>580</td>\n      <td>0</td>\n      <td>0</td>\n      <td>0</td>\n      <td>111</td>\n      <td>0</td>\n      <td>0</td>\n      <td>0</td>\n      <td>0</td>\n    </tr>\n  </tbody>\n</table>\n<p>17 rows × 45 columns</p>\n</div>"
     },
     "execution_count": 25,
     "metadata": {},
     "output_type": "execute_result"
    }
   ],
   "source": [
    "meat_hourly"
   ]
  },
  {
   "cell_type": "code",
   "execution_count": 26,
   "id": "943aae80",
   "metadata": {},
   "outputs": [
    {
     "data": {
      "text/plain": "    148  702  762  786  787\nt                          \n10  251  260  400    0    0\n11  251    0  400    0    0\n12  251    0    0    0    0\n13  246    0    0    0    0\n14    0    0    0    0    0\n15    0    0    0    0    0\n16    0    0    0    0    0\n17    0    0    0    0    0\n18    0    0    0    0    0\n19    5    0    0    0    0\n20    0    0    0  200    0",
      "text/html": "<div>\n<style scoped>\n    .dataframe tbody tr th:only-of-type {\n        vertical-align: middle;\n    }\n\n    .dataframe tbody tr th {\n        vertical-align: top;\n    }\n\n    .dataframe thead th {\n        text-align: right;\n    }\n</style>\n<table border=\"1\" class=\"dataframe\">\n  <thead>\n    <tr style=\"text-align: right;\">\n      <th></th>\n      <th>148</th>\n      <th>702</th>\n      <th>762</th>\n      <th>786</th>\n      <th>787</th>\n    </tr>\n    <tr>\n      <th>t</th>\n      <th></th>\n      <th></th>\n      <th></th>\n      <th></th>\n      <th></th>\n    </tr>\n  </thead>\n  <tbody>\n    <tr>\n      <th>10</th>\n      <td>251</td>\n      <td>260</td>\n      <td>400</td>\n      <td>0</td>\n      <td>0</td>\n    </tr>\n    <tr>\n      <th>11</th>\n      <td>251</td>\n      <td>0</td>\n      <td>400</td>\n      <td>0</td>\n      <td>0</td>\n    </tr>\n    <tr>\n      <th>12</th>\n      <td>251</td>\n      <td>0</td>\n      <td>0</td>\n      <td>0</td>\n      <td>0</td>\n    </tr>\n    <tr>\n      <th>13</th>\n      <td>246</td>\n      <td>0</td>\n      <td>0</td>\n      <td>0</td>\n      <td>0</td>\n    </tr>\n    <tr>\n      <th>14</th>\n      <td>0</td>\n      <td>0</td>\n      <td>0</td>\n      <td>0</td>\n      <td>0</td>\n    </tr>\n    <tr>\n      <th>15</th>\n      <td>0</td>\n      <td>0</td>\n      <td>0</td>\n      <td>0</td>\n      <td>0</td>\n    </tr>\n    <tr>\n      <th>16</th>\n      <td>0</td>\n      <td>0</td>\n      <td>0</td>\n      <td>0</td>\n      <td>0</td>\n    </tr>\n    <tr>\n      <th>17</th>\n      <td>0</td>\n      <td>0</td>\n      <td>0</td>\n      <td>0</td>\n      <td>0</td>\n    </tr>\n    <tr>\n      <th>18</th>\n      <td>0</td>\n      <td>0</td>\n      <td>0</td>\n      <td>0</td>\n      <td>0</td>\n    </tr>\n    <tr>\n      <th>19</th>\n      <td>5</td>\n      <td>0</td>\n      <td>0</td>\n      <td>0</td>\n      <td>0</td>\n    </tr>\n    <tr>\n      <th>20</th>\n      <td>0</td>\n      <td>0</td>\n      <td>0</td>\n      <td>200</td>\n      <td>0</td>\n    </tr>\n  </tbody>\n</table>\n</div>"
     },
     "execution_count": 26,
     "metadata": {},
     "output_type": "execute_result"
    }
   ],
   "source": [
    "# Write loop to exlude for missing meat items\n",
    "\n",
    "meat_hourly.loc[10:20, [148, 702, 762, 786, 787]]"
   ]
  },
  {
   "cell_type": "code",
   "execution_count": 27,
   "id": "d0bcee9c",
   "metadata": {},
   "outputs": [
    {
     "data": {
      "text/plain": "22"
     },
     "execution_count": 27,
     "metadata": {},
     "output_type": "execute_result"
    }
   ],
   "source": [
    "max(meat_hourly.index)"
   ]
  },
  {
   "cell_type": "code",
   "execution_count": 28,
   "id": "7a1c762c",
   "metadata": {},
   "outputs": [
    {
     "data": {
      "text/plain": "    101   103  104   111  141  144  147  148  149  303  ...  714   715  716  \\\nt                                                       ...                   \n6     6   900    0   940    0    0    0  250  150  330  ...  400   165    0   \n7     0   900    0   940    0    0    0  250  150  330  ...  400   265    0   \n8     0   900    0   940    0    0    0  250  150  330  ...  400   473    0   \n9     0   860    0   940    0    0    0  251  190  330  ...  400   700    0   \n10    0   850    0   940    0    0    0  251  300  330  ...  400   700    0   \n11    0   850    0   940    0    0    0  251  300  330  ...  400   700    0   \n12    0   850    0   940    0    0    0  251  600  330  ...    0  1100    0   \n13    0   850    0   940    0    0    0  246  600  330  ...    0  1100    0   \n14    0   900    0   487    0    0    0    0    0  330  ...    0   457   60   \n15    0   900   54  1100   40  175  110    0    0  250  ...    0  1100    0   \n16    0   850    0  1100    0  175  110    0  600  500  ...  184  1100    0   \n17    0   500    0  1100    0    0  100    0  600  330  ...  770  1100    0   \n18    0   500    0  1100   20  250    0    0    0  330  ...    0  1100    0   \n19    0   900   90  1100   60  250    0    5    0  330  ...    0  1100    0   \n20    0  1000    0  1100    0  196    0    0    0  950  ...    0  1100    0   \n21    0  1000    0  1100    0    0    0    0    0  458  ...    0  1100    0   \n22    0   970    0   900    0    0    0    0    0    0  ...    0   580    0   \n\n    719  739  760  762  775  786  787  \nt                                      \n6     0    0   28  500    0    0    0  \n7     0    0    0  400    0    0    0  \n8     0    0    0  400    0    0    0  \n9     0    0    0  400    0    0    0  \n10    0    0    0  400    0    0    0  \n11    0    0    0  400    0    0    0  \n12    0    0    0    0    0    0    0  \n13    0    0    0    0    0    0    0  \n14    0    0    0    0    0    0    0  \n15    0    0    0    0    0    0    0  \n16    0    0    0    0    0    0    0  \n17  264  120    0    0   66    0    0  \n18   96  120    0    0  600    0    0  \n19    0    0    0    0  600    0    0  \n20    0    0    0    0  126  200    0  \n21    0    0  300    0    0  260  200  \n22    0    0  111    0    0    0    0  \n\n[17 rows x 45 columns]",
      "text/html": "<div>\n<style scoped>\n    .dataframe tbody tr th:only-of-type {\n        vertical-align: middle;\n    }\n\n    .dataframe tbody tr th {\n        vertical-align: top;\n    }\n\n    .dataframe thead th {\n        text-align: right;\n    }\n</style>\n<table border=\"1\" class=\"dataframe\">\n  <thead>\n    <tr style=\"text-align: right;\">\n      <th></th>\n      <th>101</th>\n      <th>103</th>\n      <th>104</th>\n      <th>111</th>\n      <th>141</th>\n      <th>144</th>\n      <th>147</th>\n      <th>148</th>\n      <th>149</th>\n      <th>303</th>\n      <th>...</th>\n      <th>714</th>\n      <th>715</th>\n      <th>716</th>\n      <th>719</th>\n      <th>739</th>\n      <th>760</th>\n      <th>762</th>\n      <th>775</th>\n      <th>786</th>\n      <th>787</th>\n    </tr>\n    <tr>\n      <th>t</th>\n      <th></th>\n      <th></th>\n      <th></th>\n      <th></th>\n      <th></th>\n      <th></th>\n      <th></th>\n      <th></th>\n      <th></th>\n      <th></th>\n      <th></th>\n      <th></th>\n      <th></th>\n      <th></th>\n      <th></th>\n      <th></th>\n      <th></th>\n      <th></th>\n      <th></th>\n      <th></th>\n      <th></th>\n    </tr>\n  </thead>\n  <tbody>\n    <tr>\n      <th>6</th>\n      <td>6</td>\n      <td>900</td>\n      <td>0</td>\n      <td>940</td>\n      <td>0</td>\n      <td>0</td>\n      <td>0</td>\n      <td>250</td>\n      <td>150</td>\n      <td>330</td>\n      <td>...</td>\n      <td>400</td>\n      <td>165</td>\n      <td>0</td>\n      <td>0</td>\n      <td>0</td>\n      <td>28</td>\n      <td>500</td>\n      <td>0</td>\n      <td>0</td>\n      <td>0</td>\n    </tr>\n    <tr>\n      <th>7</th>\n      <td>0</td>\n      <td>900</td>\n      <td>0</td>\n      <td>940</td>\n      <td>0</td>\n      <td>0</td>\n      <td>0</td>\n      <td>250</td>\n      <td>150</td>\n      <td>330</td>\n      <td>...</td>\n      <td>400</td>\n      <td>265</td>\n      <td>0</td>\n      <td>0</td>\n      <td>0</td>\n      <td>0</td>\n      <td>400</td>\n      <td>0</td>\n      <td>0</td>\n      <td>0</td>\n    </tr>\n    <tr>\n      <th>8</th>\n      <td>0</td>\n      <td>900</td>\n      <td>0</td>\n      <td>940</td>\n      <td>0</td>\n      <td>0</td>\n      <td>0</td>\n      <td>250</td>\n      <td>150</td>\n      <td>330</td>\n      <td>...</td>\n      <td>400</td>\n      <td>473</td>\n      <td>0</td>\n      <td>0</td>\n      <td>0</td>\n      <td>0</td>\n      <td>400</td>\n      <td>0</td>\n      <td>0</td>\n      <td>0</td>\n    </tr>\n    <tr>\n      <th>9</th>\n      <td>0</td>\n      <td>860</td>\n      <td>0</td>\n      <td>940</td>\n      <td>0</td>\n      <td>0</td>\n      <td>0</td>\n      <td>251</td>\n      <td>190</td>\n      <td>330</td>\n      <td>...</td>\n      <td>400</td>\n      <td>700</td>\n      <td>0</td>\n      <td>0</td>\n      <td>0</td>\n      <td>0</td>\n      <td>400</td>\n      <td>0</td>\n      <td>0</td>\n      <td>0</td>\n    </tr>\n    <tr>\n      <th>10</th>\n      <td>0</td>\n      <td>850</td>\n      <td>0</td>\n      <td>940</td>\n      <td>0</td>\n      <td>0</td>\n      <td>0</td>\n      <td>251</td>\n      <td>300</td>\n      <td>330</td>\n      <td>...</td>\n      <td>400</td>\n      <td>700</td>\n      <td>0</td>\n      <td>0</td>\n      <td>0</td>\n      <td>0</td>\n      <td>400</td>\n      <td>0</td>\n      <td>0</td>\n      <td>0</td>\n    </tr>\n    <tr>\n      <th>11</th>\n      <td>0</td>\n      <td>850</td>\n      <td>0</td>\n      <td>940</td>\n      <td>0</td>\n      <td>0</td>\n      <td>0</td>\n      <td>251</td>\n      <td>300</td>\n      <td>330</td>\n      <td>...</td>\n      <td>400</td>\n      <td>700</td>\n      <td>0</td>\n      <td>0</td>\n      <td>0</td>\n      <td>0</td>\n      <td>400</td>\n      <td>0</td>\n      <td>0</td>\n      <td>0</td>\n    </tr>\n    <tr>\n      <th>12</th>\n      <td>0</td>\n      <td>850</td>\n      <td>0</td>\n      <td>940</td>\n      <td>0</td>\n      <td>0</td>\n      <td>0</td>\n      <td>251</td>\n      <td>600</td>\n      <td>330</td>\n      <td>...</td>\n      <td>0</td>\n      <td>1100</td>\n      <td>0</td>\n      <td>0</td>\n      <td>0</td>\n      <td>0</td>\n      <td>0</td>\n      <td>0</td>\n      <td>0</td>\n      <td>0</td>\n    </tr>\n    <tr>\n      <th>13</th>\n      <td>0</td>\n      <td>850</td>\n      <td>0</td>\n      <td>940</td>\n      <td>0</td>\n      <td>0</td>\n      <td>0</td>\n      <td>246</td>\n      <td>600</td>\n      <td>330</td>\n      <td>...</td>\n      <td>0</td>\n      <td>1100</td>\n      <td>0</td>\n      <td>0</td>\n      <td>0</td>\n      <td>0</td>\n      <td>0</td>\n      <td>0</td>\n      <td>0</td>\n      <td>0</td>\n    </tr>\n    <tr>\n      <th>14</th>\n      <td>0</td>\n      <td>900</td>\n      <td>0</td>\n      <td>487</td>\n      <td>0</td>\n      <td>0</td>\n      <td>0</td>\n      <td>0</td>\n      <td>0</td>\n      <td>330</td>\n      <td>...</td>\n      <td>0</td>\n      <td>457</td>\n      <td>60</td>\n      <td>0</td>\n      <td>0</td>\n      <td>0</td>\n      <td>0</td>\n      <td>0</td>\n      <td>0</td>\n      <td>0</td>\n    </tr>\n    <tr>\n      <th>15</th>\n      <td>0</td>\n      <td>900</td>\n      <td>54</td>\n      <td>1100</td>\n      <td>40</td>\n      <td>175</td>\n      <td>110</td>\n      <td>0</td>\n      <td>0</td>\n      <td>250</td>\n      <td>...</td>\n      <td>0</td>\n      <td>1100</td>\n      <td>0</td>\n      <td>0</td>\n      <td>0</td>\n      <td>0</td>\n      <td>0</td>\n      <td>0</td>\n      <td>0</td>\n      <td>0</td>\n    </tr>\n    <tr>\n      <th>16</th>\n      <td>0</td>\n      <td>850</td>\n      <td>0</td>\n      <td>1100</td>\n      <td>0</td>\n      <td>175</td>\n      <td>110</td>\n      <td>0</td>\n      <td>600</td>\n      <td>500</td>\n      <td>...</td>\n      <td>184</td>\n      <td>1100</td>\n      <td>0</td>\n      <td>0</td>\n      <td>0</td>\n      <td>0</td>\n      <td>0</td>\n      <td>0</td>\n      <td>0</td>\n      <td>0</td>\n    </tr>\n    <tr>\n      <th>17</th>\n      <td>0</td>\n      <td>500</td>\n      <td>0</td>\n      <td>1100</td>\n      <td>0</td>\n      <td>0</td>\n      <td>100</td>\n      <td>0</td>\n      <td>600</td>\n      <td>330</td>\n      <td>...</td>\n      <td>770</td>\n      <td>1100</td>\n      <td>0</td>\n      <td>264</td>\n      <td>120</td>\n      <td>0</td>\n      <td>0</td>\n      <td>66</td>\n      <td>0</td>\n      <td>0</td>\n    </tr>\n    <tr>\n      <th>18</th>\n      <td>0</td>\n      <td>500</td>\n      <td>0</td>\n      <td>1100</td>\n      <td>20</td>\n      <td>250</td>\n      <td>0</td>\n      <td>0</td>\n      <td>0</td>\n      <td>330</td>\n      <td>...</td>\n      <td>0</td>\n      <td>1100</td>\n      <td>0</td>\n      <td>96</td>\n      <td>120</td>\n      <td>0</td>\n      <td>0</td>\n      <td>600</td>\n      <td>0</td>\n      <td>0</td>\n    </tr>\n    <tr>\n      <th>19</th>\n      <td>0</td>\n      <td>900</td>\n      <td>90</td>\n      <td>1100</td>\n      <td>60</td>\n      <td>250</td>\n      <td>0</td>\n      <td>5</td>\n      <td>0</td>\n      <td>330</td>\n      <td>...</td>\n      <td>0</td>\n      <td>1100</td>\n      <td>0</td>\n      <td>0</td>\n      <td>0</td>\n      <td>0</td>\n      <td>0</td>\n      <td>600</td>\n      <td>0</td>\n      <td>0</td>\n    </tr>\n    <tr>\n      <th>20</th>\n      <td>0</td>\n      <td>1000</td>\n      <td>0</td>\n      <td>1100</td>\n      <td>0</td>\n      <td>196</td>\n      <td>0</td>\n      <td>0</td>\n      <td>0</td>\n      <td>950</td>\n      <td>...</td>\n      <td>0</td>\n      <td>1100</td>\n      <td>0</td>\n      <td>0</td>\n      <td>0</td>\n      <td>0</td>\n      <td>0</td>\n      <td>126</td>\n      <td>200</td>\n      <td>0</td>\n    </tr>\n    <tr>\n      <th>21</th>\n      <td>0</td>\n      <td>1000</td>\n      <td>0</td>\n      <td>1100</td>\n      <td>0</td>\n      <td>0</td>\n      <td>0</td>\n      <td>0</td>\n      <td>0</td>\n      <td>458</td>\n      <td>...</td>\n      <td>0</td>\n      <td>1100</td>\n      <td>0</td>\n      <td>0</td>\n      <td>0</td>\n      <td>300</td>\n      <td>0</td>\n      <td>0</td>\n      <td>260</td>\n      <td>200</td>\n    </tr>\n    <tr>\n      <th>22</th>\n      <td>0</td>\n      <td>970</td>\n      <td>0</td>\n      <td>900</td>\n      <td>0</td>\n      <td>0</td>\n      <td>0</td>\n      <td>0</td>\n      <td>0</td>\n      <td>0</td>\n      <td>...</td>\n      <td>0</td>\n      <td>580</td>\n      <td>0</td>\n      <td>0</td>\n      <td>0</td>\n      <td>111</td>\n      <td>0</td>\n      <td>0</td>\n      <td>0</td>\n      <td>0</td>\n    </tr>\n  </tbody>\n</table>\n<p>17 rows × 45 columns</p>\n</div>"
     },
     "execution_count": 28,
     "metadata": {},
     "output_type": "execute_result"
    }
   ],
   "source": [
    "meat_hourly = meat_hourly.loc[:,list(meat.Meat.values)]\n",
    "meat_hourly"
   ]
  },
  {
   "cell_type": "code",
   "execution_count": 29,
   "id": "c6c05162",
   "metadata": {},
   "outputs": [
    {
     "data": {
      "text/plain": "    101   103  104   111  141  144  147  148  149  303  ...  714   715  716  \\\nt                                                       ...                   \n6     6   900    0   940    0    0    0  250  150  330  ...  400   165    0   \n7     0   900    0   940    0    0    0  250  150  330  ...  400   265    0   \n8     0   900    0   940    0    0    0  250  150  330  ...  400   473    0   \n9     0   860    0   940    0    0    0  251  190  330  ...  400   700    0   \n10    0   850    0   940    0    0    0  251  300  330  ...  400   700    0   \n11    0   850    0   940    0    0    0  251  300  330  ...  400   700    0   \n12    0   850    0   940    0    0    0  251  600  330  ...    0  1100    0   \n13    0   850    0   940    0    0    0  246  600  330  ...    0  1100    0   \n14    0   900    0   487    0    0    0    0    0  330  ...    0   457   60   \n15    0   900   54  1100   40  175  110    0    0  250  ...    0  1100    0   \n16    0   850    0  1100    0  175  110    0  600  500  ...  184  1100    0   \n17    0   500    0  1100    0    0  100    0  600  330  ...  770  1100    0   \n18    0   500    0  1100   20  250    0    0    0  330  ...    0  1100    0   \n19    0   900   90  1100   60  250    0    5    0  330  ...    0  1100    0   \n20    0  1000    0  1100    0  196    0    0    0  950  ...    0  1100    0   \n21    0  1000    0  1100    0    0    0    0    0  458  ...    0  1100    0   \n22    0   970    0   900    0    0    0    0    0    0  ...    0   580    0   \n\n    719  739  760  762  775  786  787  \nt                                      \n6     0    0   28  500    0    0    0  \n7     0    0    0  400    0    0    0  \n8     0    0    0  400    0    0    0  \n9     0    0    0  400    0    0    0  \n10    0    0    0  400    0    0    0  \n11    0    0    0  400    0    0    0  \n12    0    0    0    0    0    0    0  \n13    0    0    0    0    0    0    0  \n14    0    0    0    0    0    0    0  \n15    0    0    0    0    0    0    0  \n16    0    0    0    0    0    0    0  \n17  264  120    0    0   66    0    0  \n18   96  120    0    0  600    0    0  \n19    0    0    0    0  600    0    0  \n20    0    0    0    0  126  200    0  \n21    0    0  300    0    0  260  200  \n22    0    0  111    0    0    0    0  \n\n[17 rows x 45 columns]",
      "text/html": "<div>\n<style scoped>\n    .dataframe tbody tr th:only-of-type {\n        vertical-align: middle;\n    }\n\n    .dataframe tbody tr th {\n        vertical-align: top;\n    }\n\n    .dataframe thead th {\n        text-align: right;\n    }\n</style>\n<table border=\"1\" class=\"dataframe\">\n  <thead>\n    <tr style=\"text-align: right;\">\n      <th></th>\n      <th>101</th>\n      <th>103</th>\n      <th>104</th>\n      <th>111</th>\n      <th>141</th>\n      <th>144</th>\n      <th>147</th>\n      <th>148</th>\n      <th>149</th>\n      <th>303</th>\n      <th>...</th>\n      <th>714</th>\n      <th>715</th>\n      <th>716</th>\n      <th>719</th>\n      <th>739</th>\n      <th>760</th>\n      <th>762</th>\n      <th>775</th>\n      <th>786</th>\n      <th>787</th>\n    </tr>\n    <tr>\n      <th>t</th>\n      <th></th>\n      <th></th>\n      <th></th>\n      <th></th>\n      <th></th>\n      <th></th>\n      <th></th>\n      <th></th>\n      <th></th>\n      <th></th>\n      <th></th>\n      <th></th>\n      <th></th>\n      <th></th>\n      <th></th>\n      <th></th>\n      <th></th>\n      <th></th>\n      <th></th>\n      <th></th>\n      <th></th>\n    </tr>\n  </thead>\n  <tbody>\n    <tr>\n      <th>6</th>\n      <td>6</td>\n      <td>900</td>\n      <td>0</td>\n      <td>940</td>\n      <td>0</td>\n      <td>0</td>\n      <td>0</td>\n      <td>250</td>\n      <td>150</td>\n      <td>330</td>\n      <td>...</td>\n      <td>400</td>\n      <td>165</td>\n      <td>0</td>\n      <td>0</td>\n      <td>0</td>\n      <td>28</td>\n      <td>500</td>\n      <td>0</td>\n      <td>0</td>\n      <td>0</td>\n    </tr>\n    <tr>\n      <th>7</th>\n      <td>0</td>\n      <td>900</td>\n      <td>0</td>\n      <td>940</td>\n      <td>0</td>\n      <td>0</td>\n      <td>0</td>\n      <td>250</td>\n      <td>150</td>\n      <td>330</td>\n      <td>...</td>\n      <td>400</td>\n      <td>265</td>\n      <td>0</td>\n      <td>0</td>\n      <td>0</td>\n      <td>0</td>\n      <td>400</td>\n      <td>0</td>\n      <td>0</td>\n      <td>0</td>\n    </tr>\n    <tr>\n      <th>8</th>\n      <td>0</td>\n      <td>900</td>\n      <td>0</td>\n      <td>940</td>\n      <td>0</td>\n      <td>0</td>\n      <td>0</td>\n      <td>250</td>\n      <td>150</td>\n      <td>330</td>\n      <td>...</td>\n      <td>400</td>\n      <td>473</td>\n      <td>0</td>\n      <td>0</td>\n      <td>0</td>\n      <td>0</td>\n      <td>400</td>\n      <td>0</td>\n      <td>0</td>\n      <td>0</td>\n    </tr>\n    <tr>\n      <th>9</th>\n      <td>0</td>\n      <td>860</td>\n      <td>0</td>\n      <td>940</td>\n      <td>0</td>\n      <td>0</td>\n      <td>0</td>\n      <td>251</td>\n      <td>190</td>\n      <td>330</td>\n      <td>...</td>\n      <td>400</td>\n      <td>700</td>\n      <td>0</td>\n      <td>0</td>\n      <td>0</td>\n      <td>0</td>\n      <td>400</td>\n      <td>0</td>\n      <td>0</td>\n      <td>0</td>\n    </tr>\n    <tr>\n      <th>10</th>\n      <td>0</td>\n      <td>850</td>\n      <td>0</td>\n      <td>940</td>\n      <td>0</td>\n      <td>0</td>\n      <td>0</td>\n      <td>251</td>\n      <td>300</td>\n      <td>330</td>\n      <td>...</td>\n      <td>400</td>\n      <td>700</td>\n      <td>0</td>\n      <td>0</td>\n      <td>0</td>\n      <td>0</td>\n      <td>400</td>\n      <td>0</td>\n      <td>0</td>\n      <td>0</td>\n    </tr>\n    <tr>\n      <th>11</th>\n      <td>0</td>\n      <td>850</td>\n      <td>0</td>\n      <td>940</td>\n      <td>0</td>\n      <td>0</td>\n      <td>0</td>\n      <td>251</td>\n      <td>300</td>\n      <td>330</td>\n      <td>...</td>\n      <td>400</td>\n      <td>700</td>\n      <td>0</td>\n      <td>0</td>\n      <td>0</td>\n      <td>0</td>\n      <td>400</td>\n      <td>0</td>\n      <td>0</td>\n      <td>0</td>\n    </tr>\n    <tr>\n      <th>12</th>\n      <td>0</td>\n      <td>850</td>\n      <td>0</td>\n      <td>940</td>\n      <td>0</td>\n      <td>0</td>\n      <td>0</td>\n      <td>251</td>\n      <td>600</td>\n      <td>330</td>\n      <td>...</td>\n      <td>0</td>\n      <td>1100</td>\n      <td>0</td>\n      <td>0</td>\n      <td>0</td>\n      <td>0</td>\n      <td>0</td>\n      <td>0</td>\n      <td>0</td>\n      <td>0</td>\n    </tr>\n    <tr>\n      <th>13</th>\n      <td>0</td>\n      <td>850</td>\n      <td>0</td>\n      <td>940</td>\n      <td>0</td>\n      <td>0</td>\n      <td>0</td>\n      <td>246</td>\n      <td>600</td>\n      <td>330</td>\n      <td>...</td>\n      <td>0</td>\n      <td>1100</td>\n      <td>0</td>\n      <td>0</td>\n      <td>0</td>\n      <td>0</td>\n      <td>0</td>\n      <td>0</td>\n      <td>0</td>\n      <td>0</td>\n    </tr>\n    <tr>\n      <th>14</th>\n      <td>0</td>\n      <td>900</td>\n      <td>0</td>\n      <td>487</td>\n      <td>0</td>\n      <td>0</td>\n      <td>0</td>\n      <td>0</td>\n      <td>0</td>\n      <td>330</td>\n      <td>...</td>\n      <td>0</td>\n      <td>457</td>\n      <td>60</td>\n      <td>0</td>\n      <td>0</td>\n      <td>0</td>\n      <td>0</td>\n      <td>0</td>\n      <td>0</td>\n      <td>0</td>\n    </tr>\n    <tr>\n      <th>15</th>\n      <td>0</td>\n      <td>900</td>\n      <td>54</td>\n      <td>1100</td>\n      <td>40</td>\n      <td>175</td>\n      <td>110</td>\n      <td>0</td>\n      <td>0</td>\n      <td>250</td>\n      <td>...</td>\n      <td>0</td>\n      <td>1100</td>\n      <td>0</td>\n      <td>0</td>\n      <td>0</td>\n      <td>0</td>\n      <td>0</td>\n      <td>0</td>\n      <td>0</td>\n      <td>0</td>\n    </tr>\n    <tr>\n      <th>16</th>\n      <td>0</td>\n      <td>850</td>\n      <td>0</td>\n      <td>1100</td>\n      <td>0</td>\n      <td>175</td>\n      <td>110</td>\n      <td>0</td>\n      <td>600</td>\n      <td>500</td>\n      <td>...</td>\n      <td>184</td>\n      <td>1100</td>\n      <td>0</td>\n      <td>0</td>\n      <td>0</td>\n      <td>0</td>\n      <td>0</td>\n      <td>0</td>\n      <td>0</td>\n      <td>0</td>\n    </tr>\n    <tr>\n      <th>17</th>\n      <td>0</td>\n      <td>500</td>\n      <td>0</td>\n      <td>1100</td>\n      <td>0</td>\n      <td>0</td>\n      <td>100</td>\n      <td>0</td>\n      <td>600</td>\n      <td>330</td>\n      <td>...</td>\n      <td>770</td>\n      <td>1100</td>\n      <td>0</td>\n      <td>264</td>\n      <td>120</td>\n      <td>0</td>\n      <td>0</td>\n      <td>66</td>\n      <td>0</td>\n      <td>0</td>\n    </tr>\n    <tr>\n      <th>18</th>\n      <td>0</td>\n      <td>500</td>\n      <td>0</td>\n      <td>1100</td>\n      <td>20</td>\n      <td>250</td>\n      <td>0</td>\n      <td>0</td>\n      <td>0</td>\n      <td>330</td>\n      <td>...</td>\n      <td>0</td>\n      <td>1100</td>\n      <td>0</td>\n      <td>96</td>\n      <td>120</td>\n      <td>0</td>\n      <td>0</td>\n      <td>600</td>\n      <td>0</td>\n      <td>0</td>\n    </tr>\n    <tr>\n      <th>19</th>\n      <td>0</td>\n      <td>900</td>\n      <td>90</td>\n      <td>1100</td>\n      <td>60</td>\n      <td>250</td>\n      <td>0</td>\n      <td>5</td>\n      <td>0</td>\n      <td>330</td>\n      <td>...</td>\n      <td>0</td>\n      <td>1100</td>\n      <td>0</td>\n      <td>0</td>\n      <td>0</td>\n      <td>0</td>\n      <td>0</td>\n      <td>600</td>\n      <td>0</td>\n      <td>0</td>\n    </tr>\n    <tr>\n      <th>20</th>\n      <td>0</td>\n      <td>1000</td>\n      <td>0</td>\n      <td>1100</td>\n      <td>0</td>\n      <td>196</td>\n      <td>0</td>\n      <td>0</td>\n      <td>0</td>\n      <td>950</td>\n      <td>...</td>\n      <td>0</td>\n      <td>1100</td>\n      <td>0</td>\n      <td>0</td>\n      <td>0</td>\n      <td>0</td>\n      <td>0</td>\n      <td>126</td>\n      <td>200</td>\n      <td>0</td>\n    </tr>\n    <tr>\n      <th>21</th>\n      <td>0</td>\n      <td>1000</td>\n      <td>0</td>\n      <td>1100</td>\n      <td>0</td>\n      <td>0</td>\n      <td>0</td>\n      <td>0</td>\n      <td>0</td>\n      <td>458</td>\n      <td>...</td>\n      <td>0</td>\n      <td>1100</td>\n      <td>0</td>\n      <td>0</td>\n      <td>0</td>\n      <td>300</td>\n      <td>0</td>\n      <td>0</td>\n      <td>260</td>\n      <td>200</td>\n    </tr>\n    <tr>\n      <th>22</th>\n      <td>0</td>\n      <td>970</td>\n      <td>0</td>\n      <td>900</td>\n      <td>0</td>\n      <td>0</td>\n      <td>0</td>\n      <td>0</td>\n      <td>0</td>\n      <td>0</td>\n      <td>...</td>\n      <td>0</td>\n      <td>580</td>\n      <td>0</td>\n      <td>0</td>\n      <td>0</td>\n      <td>111</td>\n      <td>0</td>\n      <td>0</td>\n      <td>0</td>\n      <td>0</td>\n    </tr>\n  </tbody>\n</table>\n<p>17 rows × 45 columns</p>\n</div>"
     },
     "execution_count": 29,
     "metadata": {},
     "output_type": "execute_result"
    }
   ],
   "source": [
    "meat_hourly"
   ]
  },
  {
   "cell_type": "code",
   "execution_count": 30,
   "id": "0d554b8b",
   "metadata": {},
   "outputs": [
    {
     "data": {
      "text/plain": "t\n6     6\n7     0\n8     0\n9     0\n10    0\n11    0\n12    0\n13    0\n14    0\n15    0\n16    0\n17    0\n18    0\n19    0\n20    0\n21    0\n22    0\nName: 101, dtype: int64"
     },
     "execution_count": 30,
     "metadata": {},
     "output_type": "execute_result"
    }
   ],
   "source": [
    "list(meat.Meat.values)\n",
    "meat_hourly.loc[:, 101]"
   ]
  },
  {
   "cell_type": "code",
   "execution_count": 31,
   "id": "8ce79626",
   "metadata": {},
   "outputs": [
    {
     "data": {
      "text/plain": "Index(['itemkey', 'itemdesc', 'PiecesInBox', 'Priority1Qty', 'Priority2Qty',\n       'Priority3Qty', 'Priority4Qty', 'FinishedGoodProductCode', 'MeatItem'],\n      dtype='object')"
     },
     "execution_count": 31,
     "metadata": {},
     "output_type": "execute_result"
    }
   ],
   "source": [
    "meat_and_req.columns"
   ]
  },
  {
   "cell_type": "code",
   "execution_count": 32,
   "id": "738a5d02",
   "metadata": {},
   "outputs": [
    {
     "data": {
      "text/plain": "   101  103  104  111  141  144  147  148  149  303  ...  714  715  716  719  \\\nt                                                    ...                       \n6    6  900    0  940    0    0    0  250  150  330  ...  400  165    0    0   \n7    0  900    0  940    0    0    0  250  150  330  ...  400  265    0    0   \n\n   739  760  762  775  786  787  \nt                                \n6    0   28  500    0    0    0  \n7    0    0  400    0    0    0  \n\n[2 rows x 45 columns]",
      "text/html": "<div>\n<style scoped>\n    .dataframe tbody tr th:only-of-type {\n        vertical-align: middle;\n    }\n\n    .dataframe tbody tr th {\n        vertical-align: top;\n    }\n\n    .dataframe thead th {\n        text-align: right;\n    }\n</style>\n<table border=\"1\" class=\"dataframe\">\n  <thead>\n    <tr style=\"text-align: right;\">\n      <th></th>\n      <th>101</th>\n      <th>103</th>\n      <th>104</th>\n      <th>111</th>\n      <th>141</th>\n      <th>144</th>\n      <th>147</th>\n      <th>148</th>\n      <th>149</th>\n      <th>303</th>\n      <th>...</th>\n      <th>714</th>\n      <th>715</th>\n      <th>716</th>\n      <th>719</th>\n      <th>739</th>\n      <th>760</th>\n      <th>762</th>\n      <th>775</th>\n      <th>786</th>\n      <th>787</th>\n    </tr>\n    <tr>\n      <th>t</th>\n      <th></th>\n      <th></th>\n      <th></th>\n      <th></th>\n      <th></th>\n      <th></th>\n      <th></th>\n      <th></th>\n      <th></th>\n      <th></th>\n      <th></th>\n      <th></th>\n      <th></th>\n      <th></th>\n      <th></th>\n      <th></th>\n      <th></th>\n      <th></th>\n      <th></th>\n      <th></th>\n      <th></th>\n    </tr>\n  </thead>\n  <tbody>\n    <tr>\n      <th>6</th>\n      <td>6</td>\n      <td>900</td>\n      <td>0</td>\n      <td>940</td>\n      <td>0</td>\n      <td>0</td>\n      <td>0</td>\n      <td>250</td>\n      <td>150</td>\n      <td>330</td>\n      <td>...</td>\n      <td>400</td>\n      <td>165</td>\n      <td>0</td>\n      <td>0</td>\n      <td>0</td>\n      <td>28</td>\n      <td>500</td>\n      <td>0</td>\n      <td>0</td>\n      <td>0</td>\n    </tr>\n    <tr>\n      <th>7</th>\n      <td>0</td>\n      <td>900</td>\n      <td>0</td>\n      <td>940</td>\n      <td>0</td>\n      <td>0</td>\n      <td>0</td>\n      <td>250</td>\n      <td>150</td>\n      <td>330</td>\n      <td>...</td>\n      <td>400</td>\n      <td>265</td>\n      <td>0</td>\n      <td>0</td>\n      <td>0</td>\n      <td>0</td>\n      <td>400</td>\n      <td>0</td>\n      <td>0</td>\n      <td>0</td>\n    </tr>\n  </tbody>\n</table>\n<p>2 rows × 45 columns</p>\n</div>"
     },
     "execution_count": 32,
     "metadata": {},
     "output_type": "execute_result"
    }
   ],
   "source": [
    "meat_hourly.head(2)"
   ]
  },
  {
   "cell_type": "markdown",
   "id": "487a4f62",
   "metadata": {},
   "source": [
    "# Feasibility Check For 4 Priority Plan\n"
   ]
  },
  {
   "cell_type": "markdown",
   "id": "c8ae2f26",
   "metadata": {},
   "source": [
    "### - Meat Feasibility Check\n"
   ]
  },
  {
   "cell_type": "code",
   "execution_count": 33,
   "id": "d03b4245",
   "metadata": {},
   "outputs": [
    {
     "data": {
      "text/plain": "17"
     },
     "execution_count": 33,
     "metadata": {},
     "output_type": "execute_result"
    }
   ],
   "source": [
    "meat_hourly.isna().value_counts().sum()"
   ]
  },
  {
   "cell_type": "code",
   "execution_count": 34,
   "id": "352bbcf9",
   "metadata": {},
   "outputs": [
    {
     "data": {
      "text/plain": "      FinishedGoodProductCode  MeatItem\n1223                    39200       515\n1224                    39211       563",
      "text/html": "<div>\n<style scoped>\n    .dataframe tbody tr th:only-of-type {\n        vertical-align: middle;\n    }\n\n    .dataframe tbody tr th {\n        vertical-align: top;\n    }\n\n    .dataframe thead th {\n        text-align: right;\n    }\n</style>\n<table border=\"1\" class=\"dataframe\">\n  <thead>\n    <tr style=\"text-align: right;\">\n      <th></th>\n      <th>FinishedGoodProductCode</th>\n      <th>MeatItem</th>\n    </tr>\n  </thead>\n  <tbody>\n    <tr>\n      <th>1223</th>\n      <td>39200</td>\n      <td>515</td>\n    </tr>\n    <tr>\n      <th>1224</th>\n      <td>39211</td>\n      <td>563</td>\n    </tr>\n  </tbody>\n</table>\n</div>"
     },
     "execution_count": 34,
     "metadata": {},
     "output_type": "execute_result"
    }
   ],
   "source": [
    "ProdMeat.tail(2)\n",
    "# req.head(2)\n",
    "# meat.head(2)"
   ]
  },
  {
   "cell_type": "code",
   "execution_count": 35,
   "id": "79bea4f7",
   "metadata": {},
   "outputs": [],
   "source": [
    "# new_req = req.merge(ProdMeat, left_on='itemkey',  \n",
    "#                     right_on='FinishedGoodProductCode', \n",
    "#                     how='left', \n",
    "#                     # validate=\"1:m\"\n",
    "#                                    )\n",
    "# new_req[['FinishedGoodProductCode', 'MeatItem']] = new_req[['FinishedGoodProductCode', 'MeatItem']]\n",
    "# # .fillna(0).astype('int64')\n",
    "# new_req.loc[new_req['MeatItem'] <= 899]"
   ]
  },
  {
   "cell_type": "markdown",
   "id": "299056bf",
   "metadata": {},
   "source": [
    "# Function Meat Piece Check\n"
   ]
  },
  {
   "cell_type": "markdown",
   "id": "c4c5e7d5",
   "metadata": {},
   "source": [
    "## Onme MEat Check Function\n"
   ]
  },
  {
   "cell_type": "code",
   "execution_count": 36,
   "id": "b69accd4",
   "metadata": {},
   "outputs": [
    {
     "data": {
      "text/plain": "   Meat  Priority 1  Priority 2  Priority 3  Priority 4\n0   101           0           0           6           0\n1   103           0        9610           0        1860",
      "text/html": "<div>\n<style scoped>\n    .dataframe tbody tr th:only-of-type {\n        vertical-align: middle;\n    }\n\n    .dataframe tbody tr th {\n        vertical-align: top;\n    }\n\n    .dataframe thead th {\n        text-align: right;\n    }\n</style>\n<table border=\"1\" class=\"dataframe\">\n  <thead>\n    <tr style=\"text-align: right;\">\n      <th></th>\n      <th>Meat</th>\n      <th>Priority 1</th>\n      <th>Priority 2</th>\n      <th>Priority 3</th>\n      <th>Priority 4</th>\n    </tr>\n  </thead>\n  <tbody>\n    <tr>\n      <th>0</th>\n      <td>101</td>\n      <td>0</td>\n      <td>0</td>\n      <td>6</td>\n      <td>0</td>\n    </tr>\n    <tr>\n      <th>1</th>\n      <td>103</td>\n      <td>0</td>\n      <td>9610</td>\n      <td>0</td>\n      <td>1860</td>\n    </tr>\n  </tbody>\n</table>\n</div>"
     },
     "execution_count": 36,
     "metadata": {},
     "output_type": "execute_result"
    }
   ],
   "source": [
    "meat.head(2)    "
   ]
  },
  {
   "cell_type": "markdown",
   "id": "49ba0242",
   "metadata": {},
   "source": [
    "### One meat checking function"
   ]
  },
  {
   "cell_type": "code",
   "execution_count": 37,
   "id": "8dc5e82b",
   "metadata": {},
   "outputs": [],
   "source": [
    "# result = []\n",
    "# meat_id_list = list(req.merge(ProdMeat, \n",
    "#                                   left_on='itemkey',  \n",
    "#                                   right_on='FinishedGoodProductCode', \n",
    "#                                   how='left',\n",
    "#                                validate = '1:m' # validates one to many connection\n",
    "#                                ).MeatItem.drop_duplicates())\n",
    "# for meat_id in meat_id_list:\n",
    "#     new_req = req.merge(ProdMeat, \n",
    "#                             left_on='itemkey',  \n",
    "#                             right_on='FinishedGoodProductCode', \n",
    "#                             how='left',\n",
    "#                             validate= \"1:m\"  # validates one to many connection\n",
    "#                             )\n",
    "\n",
    "#     new_req = new_req.loc[new_req['MeatItem']==meat_id,:]\n",
    "#     pieces_need_df = new_req.copy()\n",
    "#     priority_cols = ['Priority1Qty', 'Priority2Qty', 'Priority3Qty', 'Priority4Qty']\n",
    "#     pieces_priority_cols = []\n",
    "#     for p in range(1,4+1):\n",
    "#         pieces_need_df['pieces_p'+str(p)] = pieces_need_df['PiecesInBox']*pieces_need_df[priority_cols[p-1]]\n",
    "#         pieces_priority_cols.append('pieces_p'+str(p))\n",
    "#     pieces_need_df.drop(priority_cols, axis=1, inplace=True)\n",
    "#     pieces_need_df.drop(['FinishedGoodProductCode'], axis=1, inplace=True)\n",
    "#     #requirements\n",
    "#     p1_req = pieces_need_df.pieces_p1.sum()\n",
    "#     p2_req = pieces_need_df.pieces_p2.sum()\n",
    "#     p3_req = pieces_need_df.pieces_p3.sum()\n",
    "#     p4_req = pieces_need_df.pieces_p4.sum()\n",
    "#     # print(p2_req)\n",
    "#     avaliable=meat.loc[meat['Meat']==meat_id, :]\n",
    "#     # print(avaliable)\n",
    "#     p1_ava = avaliable.loc[:,'Priority 1'].values[0]\n",
    "#     # print(p1_ava)\n",
    "#     p2_ava = avaliable.loc[:,'Priority 2'].values[0]\n",
    "#     p3_ava = avaliable.loc[:,'Priority 3'].values[0]\n",
    "#     p4_ava = avaliable.loc[:,'Priority 4'].values[0]\n",
    "#     p1_remaining=p1_ava-p1_req   \n",
    "#     p2_remaining=(p1_remaining+p2_ava)-p2_req\n",
    "#     p3_remaining=(p2_remaining+p3_ava)-p3_req\n",
    "#     p4_remaining=(p3_remaining+p4_ava)-p4_req\n",
    "    \n",
    "#     if p1_remaining<0:\n",
    "#         dic={'meat': meat_id,'priority':'p1n'}\n",
    "#         dic['needed_pieces'] = p1_remaining*(-1)\n",
    "#         result.append(dic)\n",
    "#         # print(len(result))\n",
    "#     if p2_remaining<0:\n",
    "#         dic={'meat': meat_id,'priority':'p2'}\n",
    "#         dic['needed_pieces'] = p2_remaining*(-1)\n",
    "#         result.append(dic)\n",
    "#         # print(len(result))\n",
    "#     if p3_remaining<0:\n",
    "#         dic={'meat': meat_id,'priority':'p3'}\n",
    "#         dic['needed_pieces'] = p3_remaining*(-1)\n",
    "#         result.append(dic)\n",
    "#         # print(len(result))\n",
    "#     if p4_remaining<0:\n",
    "#         dic={'meat': meat_id,'priority':'p4'}\n",
    "#         dic['needed_pieces'] = p4_remaining*(-1)\n",
    "#         result.append(dic)\n",
    "        # print(len(result))    \n",
    "# result"
   ]
  },
  {
   "cell_type": "markdown",
   "id": "51419526",
   "metadata": {},
   "source": [
    "### check Function #2 actvity time check"
   ]
  },
  {
   "cell_type": "code",
   "execution_count": 38,
   "id": "184c1943",
   "metadata": {},
   "outputs": [],
   "source": [
    "# req_transpose=req.loc[:,[\"itemkey\",\n",
    "#                              \"Priority1Qty\",\n",
    "#                              \"Priority2Qty\",\n",
    "#                              \"Priority3Qty\",\n",
    "#                              \"Priority4Qty\"]]\n",
    "# req_transpose=req_transpose.set_index('itemkey')\n",
    "# req_transpose = req_transpose.stack(0).rename_axis(\n",
    "#         ('itemkey','priority')).reset_index()\n",
    "# req_transpose\n",
    "# new_seq = seq.merge(req_transpose, left_on='BomKey',  right_on='itemkey', how='right')\n",
    "# new_seq\n"
   ]
  },
  {
   "cell_type": "code",
   "execution_count": 39,
   "id": "07e5d6d3",
   "metadata": {},
   "outputs": [],
   "source": [
    "\n",
    "\n",
    "# meat_id_list = list(req.merge(ProdMeat, \n",
    "#                               left_on='itemkey',  \n",
    "#                                 right_on='FinishedGoodProductCode', \n",
    "#                                 how='left').MeatItem.drop_duplicates()#.fillna(0).astype('int64')\n",
    "# )\n",
    "# meat_id_list['FinishedGoodProductCode']\n",
    "# .MeatItem.drop_duplicates()\n",
    "# meat_id_list.astype(\"int64\")\n",
    "# meat_id_list = meat_id_list.fillna(0, inplace = True)\n",
    "# meat_id_list = meat_id_list.fillna(0).astype('int64')\n",
    "# \n",
    "# meat_id_list"
   ]
  },
  {
   "cell_type": "code",
   "execution_count": 40,
   "id": "7091b90a",
   "metadata": {},
   "outputs": [],
   "source": [
    "# new_req = req.merge(ProdMeat, left_on='itemkey',  right_on='FinishedGoodProductCode', how='left')\n",
    "# new_req = new_req['FinishedGoodProductCode', 'MeatItem'].astype('int64')"
   ]
  },
  {
   "cell_type": "code",
   "execution_count": 41,
   "id": "894c7bee",
   "metadata": {},
   "outputs": [],
   "source": [
    "# www = req.merge(ProdMeat, \n",
    "#                                   left_on='itemkey',  \n",
    "#                                   right_on='FinishedGoodProductCode', \n",
    "#                                   how='left',\n",
    "#                                validate = '1:m'\n",
    "#                                )\n",
    "# www\n",
    "# www.loc[www['MeatItem']==meat_id,:]\n"
   ]
  },
  {
   "cell_type": "markdown",
   "id": "4c75ae33",
   "metadata": {},
   "source": []
  },
  {
   "cell_type": "code",
   "execution_count": 42,
   "id": "d2374951",
   "metadata": {},
   "outputs": [],
   "source": [
    "# from GenerateHourlyPlan import *\n",
    "# meat_pieces_check(ProdMeat,req, meat)"
   ]
  },
  {
   "cell_type": "code",
   "execution_count": 43,
   "id": "490e5983",
   "metadata": {},
   "outputs": [],
   "source": [
    "\n",
    "# meat_id_list = list(req.merge(ProdMeat, \n",
    "#                               left_on='itemkey',  \n",
    "#                               right_on='FinishedGoodProductCode', \n",
    "#                               how='left',\n",
    "#                              validate=\"1:m\"\n",
    "#                                ).MeatItem.drop_duplicates()#.fillna(0).astype('int64')\n",
    "#                     )\n",
    "# for meat_id in meat_id_list:\n",
    "#     #if meat_id not in [412,803,901,902,413]:\n",
    "#     result = one_meat_checking(meat_id=meat_id,\n",
    "#                                result=result,\n",
    "#                                ProdMeat=ProdMeat, \n",
    "#                                meat=meat,\n",
    "#                                req=req\n",
    "#                                )\n",
    "# print(meat_id)"
   ]
  },
  {
   "cell_type": "code",
   "execution_count": 44,
   "id": "0cdba52b",
   "metadata": {},
   "outputs": [],
   "source": [
    "# result = []\n",
    "# meat_id_list = list(req.merge(ProdMeat, \n",
    "#                               left_on='itemkey',  \n",
    "#                               right_on='FinishedGoodProductCode', \n",
    "#                               how='left',\n",
    "#                               validate='1:m',\n",
    "#                               ).MeatItem.drop_duplicates()#.fillna(0).astype('int64')\n",
    "#                     )\n",
    "# for meat_id in meat_id_list:\n",
    "#     #if meat_id not in [412,803,901,902,413]:\n",
    "#     result = one_meat_checking(meat_id=meat_id,\n",
    "#                                result=result,\n",
    "#                                ProdMeat=ProdMeat, \n",
    "#                                meat=meat,\n",
    "#                                req=req)\n",
    "# print(len(result))"
   ]
  },
  {
   "cell_type": "code",
   "execution_count": 45,
   "id": "f447a1cb",
   "metadata": {},
   "outputs": [],
   "source": [
    "# avaliable=meat.loc[meat['Meat']==meat_id, :]\n",
    "# avaliable.loc[:,'Priority 1'].values[0]\n"
   ]
  },
  {
   "cell_type": "code",
   "execution_count": 46,
   "id": "35acda7f",
   "metadata": {},
   "outputs": [],
   "source": [
    "\n",
    "# avaliable=meat.loc[meat['Meat']==meat_id, :]\n",
    "\n",
    "# avaliable"
   ]
  },
  {
   "cell_type": "code",
   "execution_count": 47,
   "id": "b5725c35",
   "metadata": {
    "scrolled": true
   },
   "outputs": [],
   "source": [
    "# meat_pieces_check(ProdMeat,req, meat)\n"
   ]
  },
  {
   "cell_type": "markdown",
   "id": "e268628e",
   "metadata": {},
   "source": [
    "### - Activity Time Checking-accumulated\n"
   ]
  },
  {
   "cell_type": "code",
   "execution_count": 48,
   "id": "733824ac",
   "metadata": {},
   "outputs": [
    {
     "name": "stdout",
     "output_type": "stream",
     "text": [
      "Infeasible\n"
     ]
    },
    {
     "data": {
      "text/plain": "   Activity priority  needed_time\n0    6711.0       p2      30702.0\n1    6711.0       p3      38313.0\n2    6711.0       p4      54567.0\n3    6741.0       p3         38.0\n4    6741.0       p4       1748.0\n5    6746.0       p3       2700.0\n6    6746.0       p4       2700.0",
      "text/html": "<div>\n<style scoped>\n    .dataframe tbody tr th:only-of-type {\n        vertical-align: middle;\n    }\n\n    .dataframe tbody tr th {\n        vertical-align: top;\n    }\n\n    .dataframe thead th {\n        text-align: right;\n    }\n</style>\n<table border=\"1\" class=\"dataframe\">\n  <thead>\n    <tr style=\"text-align: right;\">\n      <th></th>\n      <th>Activity</th>\n      <th>priority</th>\n      <th>needed_time</th>\n    </tr>\n  </thead>\n  <tbody>\n    <tr>\n      <th>0</th>\n      <td>6711.0</td>\n      <td>p2</td>\n      <td>30702.0</td>\n    </tr>\n    <tr>\n      <th>1</th>\n      <td>6711.0</td>\n      <td>p3</td>\n      <td>38313.0</td>\n    </tr>\n    <tr>\n      <th>2</th>\n      <td>6711.0</td>\n      <td>p4</td>\n      <td>54567.0</td>\n    </tr>\n    <tr>\n      <th>3</th>\n      <td>6741.0</td>\n      <td>p3</td>\n      <td>38.0</td>\n    </tr>\n    <tr>\n      <th>4</th>\n      <td>6741.0</td>\n      <td>p4</td>\n      <td>1748.0</td>\n    </tr>\n    <tr>\n      <th>5</th>\n      <td>6746.0</td>\n      <td>p3</td>\n      <td>2700.0</td>\n    </tr>\n    <tr>\n      <th>6</th>\n      <td>6746.0</td>\n      <td>p4</td>\n      <td>2700.0</td>\n    </tr>\n  </tbody>\n</table>\n</div>"
     },
     "execution_count": 48,
     "metadata": {},
     "output_type": "execute_result"
    }
   ],
   "source": [
    "activity_time_check(req,hour_priority,cap,seq)"
   ]
  },
  {
   "cell_type": "code",
   "execution_count": 49,
   "id": "7482d75d",
   "metadata": {},
   "outputs": [
    {
     "data": {
      "text/plain": "dict_keys([6701, 6703, 6705, 6714, 6715, 6716, 6717, 6718, 6720, 6721, 6722, 6724, 6726, 6729, 6741, 6746, 6753, 6756, 6758, 6759, 6760, 6762, 6763, 6770, 6711, 6719, 6730, 6740, 6755])"
     },
     "execution_count": 49,
     "metadata": {},
     "output_type": "execute_result"
    }
   ],
   "source": [
    "acticity_skus = {}\n",
    "for activity_id in cap['Activity_Num'].values:\n",
    "    acticity_skus[activity_id] = list(set(seq.loc[seq['ActivityFunctionKey']==activity_id,'BomKey']))\n",
    "acticity_skus.keys()\n"
   ]
  },
  {
   "cell_type": "markdown",
   "id": "cd5eca71",
   "metadata": {},
   "source": []
  },
  {
   "cell_type": "markdown",
   "id": "8fe11917",
   "metadata": {},
   "source": []
  },
  {
   "cell_type": "markdown",
   "id": "3fba6e55",
   "metadata": {},
   "source": [
    "# Plan Break Down and Get the best Hourly Plan\n"
   ]
  },
  {
   "cell_type": "markdown",
   "id": "a236f1d1",
   "metadata": {},
   "source": [
    "### After meat feasibility check and activity time check-accumulated for 4 priority plan, plan break down function can be conducted.\n"
   ]
  },
  {
   "cell_type": "code",
   "execution_count": 50,
   "id": "dac014e4",
   "metadata": {},
   "outputs": [],
   "source": [
    "# meat_and_req\n",
    "# meat_hourly\n",
    "# hour_priority\n",
    "# cap\n",
    "# seq\n",
    "# req.loc[req['itemkey'] < 30000]\n",
    "\n",
    "# method1_adjusting_rate_list\n",
    "# method2_combo_ratio_list\n",
    "# method2_adjusting_rate_lis"
   ]
  },
  {
   "cell_type": "code",
   "execution_count": 51,
   "id": "8abd1e2c",
   "metadata": {},
   "outputs": [
    {
     "data": {
      "text/plain": "0"
     },
     "execution_count": 51,
     "metadata": {},
     "output_type": "execute_result"
    }
   ],
   "source": [
    "len([])"
   ]
  },
  {
   "cell_type": "code",
   "execution_count": 52,
   "id": "70b8b646",
   "metadata": {},
   "outputs": [
    {
     "name": "stdout",
     "output_type": "stream",
     "text": [
      "    Meat  Priority 1  Priority 2  Priority 3  Priority 4\n",
      "26   553           0        2700        1800         900\n",
      "   Meat  Priority 1  Priority 2  Priority 3  Priority 4\n",
      "3   111           0        6225        2350        8032\n",
      "    Meat  Priority 1  Priority 2  Priority 3  Priority 4\n",
      "36   715           0        5130         290        8520\n",
      "    Meat  Priority 1  Priority 2  Priority 3  Priority 4\n",
      "39   739           0           0         240           0\n",
      "    Meat  Priority 1  Priority 2  Priority 3  Priority 4\n",
      "32   706           0           0        1040         756\n",
      "    Meat  Priority 1  Priority 2  Priority 3  Priority 4\n",
      "11   313           0         225         282        2135\n",
      "    Meat  Priority 1  Priority 2  Priority 3  Priority 4\n",
      "40   760          28           0           0         411\n",
      "    Meat  Priority 1  Priority 2  Priority 3  Priority 4\n",
      "30   703           0           0         241         856\n",
      "   Meat  Priority 1  Priority 2  Priority 3  Priority 4\n",
      "5   144           0           0         600          96\n",
      "    Meat  Priority 1  Priority 2  Priority 3  Priority 4\n",
      "31   705           0        2535         864         219\n",
      "    Meat  Priority 1  Priority 2  Priority 3  Priority 4\n",
      "27   583           0        1260           0         360\n",
      "    Meat  Priority 1  Priority 2  Priority 3  Priority 4\n",
      "38   719           0           0         360           0\n",
      "   Meat  Priority 1  Priority 2  Priority 3  Priority 4\n",
      "8   149           0        3040           0           0\n",
      "   Meat  Priority 1  Priority 2  Priority 3  Priority 4\n",
      "1   103           0        9610           0        1860\n",
      "    Meat  Priority 1  Priority 2  Priority 3  Priority 4\n",
      "19   501           0        6284         272        1716\n",
      "    Meat  Priority 1  Priority 2  Priority 3  Priority 4\n",
      "12   324           0           0          27         270\n",
      "   Meat  Priority 1  Priority 2  Priority 3  Priority 4\n",
      "9   303           0        1758        1372        2747\n",
      "    Meat  Priority 1  Priority 2  Priority 3  Priority 4\n",
      "25   545           0           0        1500         150\n",
      "    Meat  Priority 1  Priority 2  Priority 3  Priority 4\n",
      "35   714           0           0         154        3200\n",
      "    Meat  Priority 1  Priority 2  Priority 3  Priority 4\n",
      "33   710           0           0         790         170\n",
      "    Meat  Priority 1  Priority 2  Priority 3  Priority 4\n",
      "37   716           0           0          60           0\n",
      "    Meat  Priority 1  Priority 2  Priority 3  Priority 4\n",
      "42   775           0           0         584         808\n",
      "    Meat  Priority 1  Priority 2  Priority 3  Priority 4\n",
      "13   341           0           0           0        1760\n",
      "    Meat  Priority 1  Priority 2  Priority 3  Priority 4\n",
      "34   712           0           0         450        2946\n",
      "    Meat  Priority 1  Priority 2  Priority 3  Priority 4\n",
      "23   511           0           0         120           0\n",
      "    Meat  Priority 1  Priority 2  Priority 3  Priority 4\n",
      "10   309           0           0           0        4320\n",
      "    Meat  Priority 1  Priority 2  Priority 3  Priority 4\n",
      "24   518           0           0           0          60\n",
      "   Meat  Priority 1  Priority 2  Priority 3  Priority 4\n",
      "7   148        2000           0           0           5\n",
      "    Meat  Priority 1  Priority 2  Priority 3  Priority 4\n",
      "28   701           0           0           0          12\n",
      "   Meat  Priority 1  Priority 2  Priority 3  Priority 4\n",
      "2   104           0           0          54          36\n",
      "   Meat  Priority 1  Priority 2  Priority 3  Priority 4\n",
      "4   141           0           0          40          80\n",
      "    Meat  Priority 1  Priority 2  Priority 3  Priority 4\n",
      "22   510           0           0           0          32\n",
      "    Meat  Priority 1  Priority 2  Priority 3  Priority 4\n",
      "29   702        1000           0           0           0\n",
      "    Meat  Priority 1  Priority 2  Priority 3  Priority 4\n",
      "43   786           0           0           0         460\n",
      "    Meat  Priority 1  Priority 2  Priority 3  Priority 4\n",
      "44   787           0           0           0         200\n",
      "   Meat  Priority 1  Priority 2  Priority 3  Priority 4\n",
      "6   147           0           0           0         320\n",
      "    Meat  Priority 1  Priority 2  Priority 3  Priority 4\n",
      "14   348        1940           0           0           0\n",
      "    Meat  Priority 1  Priority 2  Priority 3  Priority 4\n",
      "41   762        2500           0           0           0\n",
      "   Meat  Priority 1  Priority 2  Priority 3  Priority 4\n",
      "0   101           0           0           6           0\n",
      "    Meat  Priority 1  Priority 2  Priority 3  Priority 4\n",
      "21   506           0           0           0          60\n",
      "    Meat  Priority 1  Priority 2  Priority 3  Priority 4\n",
      "20   502           0           0          18           0\n"
     ]
    },
    {
     "data": {
      "text/plain": "'Feasible'"
     },
     "execution_count": 52,
     "metadata": {},
     "output_type": "execute_result"
    }
   ],
   "source": [
    "meat_pieces_check(ProdMeat, req, meat)"
   ]
  },
  {
   "cell_type": "code",
   "execution_count": 53,
   "id": "4aa50018",
   "metadata": {},
   "outputs": [],
   "source": [
    "# plan_break_down(meat_and_req, meat_hourly, hour_priority)"
   ]
  },
  {
   "cell_type": "code",
   "execution_count": 54,
   "id": "7e46333c",
   "metadata": {},
   "outputs": [
    {
     "name": "stdout",
     "output_type": "stream",
     "text": [
      "method1 - 0.01\n",
      "time_comparison      hour  Activity_Num  time_required  hourly_available_seconds  \\\n",
      "3       6          6715        62442.0                     46800   \n",
      "8       6          6721        44808.0                     25200   \n",
      "17      7          6705         7340.0                      7200   \n",
      "19      7          6715        58220.0                     46800   \n",
      "24      7          6721        43485.0                     25200   \n",
      "35      8          6715        50401.0                     46800   \n",
      "40      8          6721        35186.0                     25200   \n",
      "187    17          6726        19648.0                     18000   \n",
      "\n",
      "     time_still_need  \n",
      "3            15642.0  \n",
      "8            19608.0  \n",
      "17             140.0  \n",
      "19           11420.0  \n",
      "24           18285.0  \n",
      "35            3601.0  \n",
      "40            9986.0  \n",
      "187           1648.0  \n",
      "     hour  Activity_Num  time_required  hourly_available_seconds  \\\n",
      "3       6          6715        62442.0                     46800   \n",
      "8       6          6721        44808.0                     25200   \n",
      "17      7          6705         7340.0                      7200   \n",
      "19      7          6715        58220.0                     46800   \n",
      "24      7          6721        43485.0                     25200   \n",
      "35      8          6715        50401.0                     46800   \n",
      "40      8          6721        35186.0                     25200   \n",
      "187    17          6726        19648.0                     18000   \n",
      "\n",
      "     time_still_need  \n",
      "3            15642.0  \n",
      "8            19608.0  \n",
      "17             140.0  \n",
      "19           11420.0  \n",
      "24           18285.0  \n",
      "35            3601.0  \n",
      "40            9986.0  \n",
      "187           1648.0  \n",
      "current plan is infeasible\n"
     ]
    },
    {
     "ename": "KeyError",
     "evalue": "'p2_cum'",
     "output_type": "error",
     "traceback": [
      "\u001B[1;31m---------------------------------------------------------------------------\u001B[0m",
      "\u001B[1;31mKeyError\u001B[0m                                  Traceback (most recent call last)",
      "File \u001B[1;32m~\\OneDrive - Conestoga Meat Packers Ltd\\Documents\\Courses\\Python\\pythonProject2\\venv\\lib\\site-packages\\pandas\\core\\indexes\\base.py:3802\u001B[0m, in \u001B[0;36mIndex.get_loc\u001B[1;34m(self, key, method, tolerance)\u001B[0m\n\u001B[0;32m   3801\u001B[0m \u001B[38;5;28;01mtry\u001B[39;00m:\n\u001B[1;32m-> 3802\u001B[0m     \u001B[38;5;28;01mreturn\u001B[39;00m \u001B[38;5;28;43mself\u001B[39;49m\u001B[38;5;241;43m.\u001B[39;49m\u001B[43m_engine\u001B[49m\u001B[38;5;241;43m.\u001B[39;49m\u001B[43mget_loc\u001B[49m\u001B[43m(\u001B[49m\u001B[43mcasted_key\u001B[49m\u001B[43m)\u001B[49m\n\u001B[0;32m   3803\u001B[0m \u001B[38;5;28;01mexcept\u001B[39;00m \u001B[38;5;167;01mKeyError\u001B[39;00m \u001B[38;5;28;01mas\u001B[39;00m err:\n",
      "File \u001B[1;32m~\\OneDrive - Conestoga Meat Packers Ltd\\Documents\\Courses\\Python\\pythonProject2\\venv\\lib\\site-packages\\pandas\\_libs\\index.pyx:138\u001B[0m, in \u001B[0;36mpandas._libs.index.IndexEngine.get_loc\u001B[1;34m()\u001B[0m\n",
      "File \u001B[1;32m~\\OneDrive - Conestoga Meat Packers Ltd\\Documents\\Courses\\Python\\pythonProject2\\venv\\lib\\site-packages\\pandas\\_libs\\index.pyx:165\u001B[0m, in \u001B[0;36mpandas._libs.index.IndexEngine.get_loc\u001B[1;34m()\u001B[0m\n",
      "File \u001B[1;32mpandas\\_libs\\hashtable_class_helper.pxi:5745\u001B[0m, in \u001B[0;36mpandas._libs.hashtable.PyObjectHashTable.get_item\u001B[1;34m()\u001B[0m\n",
      "File \u001B[1;32mpandas\\_libs\\hashtable_class_helper.pxi:5753\u001B[0m, in \u001B[0;36mpandas._libs.hashtable.PyObjectHashTable.get_item\u001B[1;34m()\u001B[0m\n",
      "\u001B[1;31mKeyError\u001B[0m: 'p2_cum'",
      "\nThe above exception was the direct cause of the following exception:\n",
      "\u001B[1;31mKeyError\u001B[0m                                  Traceback (most recent call last)",
      "File \u001B[1;32m<timed exec>:4\u001B[0m\n",
      "File \u001B[1;32m~\\OneDrive - Conestoga Meat Packers Ltd\\Documents\\Courses\\Python\\pythonProject2\\Pacakging_prime.py:891\u001B[0m, in \u001B[0;36mget_best_plan\u001B[1;34m(meat_and_req, meat_hourly, hour_priority, cap, seq, req, method1_adjusting_rate_list, method2_combo_ratio_list, method2_adjusting_rate_list, requirements_not_complete_method1)\u001B[0m\n\u001B[0;32m    889\u001B[0m \u001B[38;5;28;01mif\u001B[39;00m \u001B[38;5;28mlen\u001B[39m(infeasible_hourly_plans) \u001B[38;5;241m>\u001B[39m \u001B[38;5;241m0\u001B[39m:\n\u001B[0;32m    890\u001B[0m     \u001B[38;5;28mprint\u001B[39m(\u001B[38;5;124m'\u001B[39m\u001B[38;5;124mcurrent plan is infeasible\u001B[39m\u001B[38;5;124m'\u001B[39m)\n\u001B[1;32m--> 891\u001B[0m     new_plan, new_infeasible_table \u001B[38;5;241m=\u001B[39m \u001B[43madjust_infeasible_plan\u001B[49m\u001B[43m(\u001B[49m\u001B[43mhourly_req\u001B[49m\u001B[43m,\u001B[49m\n\u001B[0;32m    892\u001B[0m \u001B[43m                                                            \u001B[49m\u001B[43mreq\u001B[49m\u001B[43m,\u001B[49m\n\u001B[0;32m    893\u001B[0m \u001B[43m                                                            \u001B[49m\u001B[43mcap\u001B[49m\u001B[43m,\u001B[49m\n\u001B[0;32m    894\u001B[0m \u001B[43m                                                            \u001B[49m\u001B[43mseq\u001B[49m\u001B[43m,\u001B[49m\n\u001B[0;32m    895\u001B[0m \u001B[43m                                                            \u001B[49m\u001B[43mhour_priority\u001B[49m\u001B[43m,\u001B[49m\n\u001B[0;32m    896\u001B[0m \u001B[43m                                                            \u001B[49m\u001B[43madjusting_rate\u001B[49m\u001B[38;5;241;43m=\u001B[39;49m\u001B[43madjusting_rate\u001B[49m\u001B[43m)\u001B[49m\n\u001B[0;32m    897\u001B[0m \u001B[38;5;28;01melif\u001B[39;00m \u001B[38;5;28mlen\u001B[39m(infeasible_hourly_plans) \u001B[38;5;241m==\u001B[39m \u001B[38;5;241m0\u001B[39m:\n\u001B[0;32m    898\u001B[0m     new_plan, new_infeasible_table \u001B[38;5;241m=\u001B[39m hourly_req, _\n",
      "File \u001B[1;32m~\\OneDrive - Conestoga Meat Packers Ltd\\Documents\\Courses\\Python\\pythonProject2\\Pacakging_prime.py:779\u001B[0m, in \u001B[0;36madjust_infeasible_plan\u001B[1;34m(original_plan, req, cap, seq, hour_priority, adjusting_rate)\u001B[0m\n\u001B[0;32m    777\u001B[0m req_cum \u001B[38;5;241m=\u001B[39m req\u001B[38;5;241m.\u001B[39mcopy()\n\u001B[0;32m    778\u001B[0m req_cum\u001B[38;5;241m.\u001B[39minsert(\u001B[38;5;241m7\u001B[39m, \u001B[38;5;124m\"\u001B[39m\u001B[38;5;124mp1_cum\u001B[39m\u001B[38;5;124m\"\u001B[39m, req_cum[\u001B[38;5;124m'\u001B[39m\u001B[38;5;124mPriority1Qty\u001B[39m\u001B[38;5;124m'\u001B[39m])\n\u001B[1;32m--> 779\u001B[0m req_cum\u001B[38;5;241m.\u001B[39minsert(\u001B[38;5;241m9\u001B[39m, \u001B[38;5;124m\"\u001B[39m\u001B[38;5;124mplNum\u001B[39m\u001B[38;5;124m\"\u001B[39m, \u001B[43mreq_cum\u001B[49m\u001B[43m[\u001B[49m\u001B[38;5;124;43m'\u001B[39;49m\u001B[38;5;124;43mp2_cum\u001B[39;49m\u001B[38;5;124;43m'\u001B[39;49m\u001B[43m]\u001B[49m \u001B[38;5;241m+\u001B[39m req_cum[\u001B[38;5;124m'\u001B[39m\u001B[38;5;124mPriority3Qty\u001B[39m\u001B[38;5;124m'\u001B[39m])\n\u001B[0;32m    780\u001B[0m req_cum\u001B[38;5;241m.\u001B[39minsert(\u001B[38;5;241m8\u001B[39m, \u001B[38;5;124m\"\u001B[39m\u001B[38;5;124mp2_cum\u001B[39m\u001B[38;5;124m\"\u001B[39m, req_cum[\u001B[38;5;124m'\u001B[39m\u001B[38;5;124mp1_cum\u001B[39m\u001B[38;5;124m'\u001B[39m] \u001B[38;5;241m+\u001B[39m req_cum[\u001B[38;5;124m'\u001B[39m\u001B[38;5;124mPriority2Qty\u001B[39m\u001B[38;5;124m'\u001B[39m])\n\u001B[0;32m    781\u001B[0m req_cum\u001B[38;5;241m.\u001B[39minsert(\u001B[38;5;241m10\u001B[39m, \u001B[38;5;124m\"\u001B[39m\u001B[38;5;124mp4_cum\u001B[39m\u001B[38;5;124m\"\u001B[39m, req_cum[\u001B[38;5;124m'\u001B[39m\u001B[38;5;124mp3_cum\u001B[39m\u001B[38;5;124m'\u001B[39m] \u001B[38;5;241m+\u001B[39m req_cum[\u001B[38;5;124m'\u001B[39m\u001B[38;5;124mPriority4Qty\u001B[39m\u001B[38;5;124m'\u001B[39m])\n",
      "File \u001B[1;32m~\\OneDrive - Conestoga Meat Packers Ltd\\Documents\\Courses\\Python\\pythonProject2\\venv\\lib\\site-packages\\pandas\\core\\frame.py:3807\u001B[0m, in \u001B[0;36mDataFrame.__getitem__\u001B[1;34m(self, key)\u001B[0m\n\u001B[0;32m   3805\u001B[0m \u001B[38;5;28;01mif\u001B[39;00m \u001B[38;5;28mself\u001B[39m\u001B[38;5;241m.\u001B[39mcolumns\u001B[38;5;241m.\u001B[39mnlevels \u001B[38;5;241m>\u001B[39m \u001B[38;5;241m1\u001B[39m:\n\u001B[0;32m   3806\u001B[0m     \u001B[38;5;28;01mreturn\u001B[39;00m \u001B[38;5;28mself\u001B[39m\u001B[38;5;241m.\u001B[39m_getitem_multilevel(key)\n\u001B[1;32m-> 3807\u001B[0m indexer \u001B[38;5;241m=\u001B[39m \u001B[38;5;28;43mself\u001B[39;49m\u001B[38;5;241;43m.\u001B[39;49m\u001B[43mcolumns\u001B[49m\u001B[38;5;241;43m.\u001B[39;49m\u001B[43mget_loc\u001B[49m\u001B[43m(\u001B[49m\u001B[43mkey\u001B[49m\u001B[43m)\u001B[49m\n\u001B[0;32m   3808\u001B[0m \u001B[38;5;28;01mif\u001B[39;00m is_integer(indexer):\n\u001B[0;32m   3809\u001B[0m     indexer \u001B[38;5;241m=\u001B[39m [indexer]\n",
      "File \u001B[1;32m~\\OneDrive - Conestoga Meat Packers Ltd\\Documents\\Courses\\Python\\pythonProject2\\venv\\lib\\site-packages\\pandas\\core\\indexes\\base.py:3804\u001B[0m, in \u001B[0;36mIndex.get_loc\u001B[1;34m(self, key, method, tolerance)\u001B[0m\n\u001B[0;32m   3802\u001B[0m     \u001B[38;5;28;01mreturn\u001B[39;00m \u001B[38;5;28mself\u001B[39m\u001B[38;5;241m.\u001B[39m_engine\u001B[38;5;241m.\u001B[39mget_loc(casted_key)\n\u001B[0;32m   3803\u001B[0m \u001B[38;5;28;01mexcept\u001B[39;00m \u001B[38;5;167;01mKeyError\u001B[39;00m \u001B[38;5;28;01mas\u001B[39;00m err:\n\u001B[1;32m-> 3804\u001B[0m     \u001B[38;5;28;01mraise\u001B[39;00m \u001B[38;5;167;01mKeyError\u001B[39;00m(key) \u001B[38;5;28;01mfrom\u001B[39;00m \u001B[38;5;21;01merr\u001B[39;00m\n\u001B[0;32m   3805\u001B[0m \u001B[38;5;28;01mexcept\u001B[39;00m \u001B[38;5;167;01mTypeError\u001B[39;00m:\n\u001B[0;32m   3806\u001B[0m     \u001B[38;5;66;03m# If we have a listlike key, _check_indexing_error will raise\u001B[39;00m\n\u001B[0;32m   3807\u001B[0m     \u001B[38;5;66;03m#  InvalidIndexError. Otherwise we fall through and re-raise\u001B[39;00m\n\u001B[0;32m   3808\u001B[0m     \u001B[38;5;66;03m#  the TypeError.\u001B[39;00m\n\u001B[0;32m   3809\u001B[0m     \u001B[38;5;28mself\u001B[39m\u001B[38;5;241m.\u001B[39m_check_indexing_error(key)\n",
      "\u001B[1;31mKeyError\u001B[0m: 'p2_cum'"
     ]
    }
   ],
   "source": [
    "%%time\n",
    "method1_adjusting_rate_list=[0.01,0.03]\n",
    "method2_combo_ratio_list=[0.3,0.7]\n",
    "method2_adjusting_rate_list=[0.01]\n",
    "result, best_plan=get_best_plan(meat_and_req,\n",
    "                                meat_hourly,\n",
    "                                hour_priority,\n",
    "                                cap,\n",
    "                                seq,\n",
    "                                req,\n",
    "                                method1_adjusting_rate_list,\n",
    "                                method2_combo_ratio_list,\n",
    "                                method2_adjusting_rate_list)"
   ]
  },
  {
   "cell_type": "code",
   "execution_count": 55,
   "id": "9936c56f",
   "metadata": {},
   "outputs": [],
   "source": [
    "# infeasible_table2[:1].Activity_Num.values[0]"
   ]
  },
  {
   "cell_type": "code",
   "execution_count": 56,
   "id": "e4045814",
   "metadata": {},
   "outputs": [
    {
     "ename": "NameError",
     "evalue": "name 'new_plan' is not defined",
     "output_type": "error",
     "traceback": [
      "\u001B[1;31m---------------------------------------------------------------------------\u001B[0m",
      "\u001B[1;31mNameError\u001B[0m                                 Traceback (most recent call last)",
      "Cell \u001B[1;32mIn[56], line 1\u001B[0m\n\u001B[1;32m----> 1\u001B[0m hourly_activity_time_check(\u001B[43mnew_plan\u001B[49m,cap,hour_priority,seq)\n",
      "\u001B[1;31mNameError\u001B[0m: name 'new_plan' is not defined"
     ]
    }
   ],
   "source": [
    "hourly_activity_time_check(new_plan,cap,hour_priority,seq)"
   ]
  },
  {
   "cell_type": "markdown",
   "id": "3da51817",
   "metadata": {},
   "source": [
    "## meat_split_combo_pkg"
   ]
  },
  {
   "cell_type": "code",
   "execution_count": null,
   "id": "7085e2c1",
   "metadata": {},
   "outputs": [],
   "source": [
    "hourly_req_melt=pd.melt(hourly_req,id_vars='itemkey',value_vars=hour_priority.keys())\n",
    "\n",
    "hourly_req_melt.columns = ['itemkey','hour','sku_num']\n",
    "\n",
    "type(hourly_req_melt.hour.values)\n",
    "\n",
    "# infeasible_table[:1].hour.values[0]"
   ]
  },
  {
   "cell_type": "markdown",
   "id": "828a629f",
   "metadata": {},
   "source": [
    "## Function #5"
   ]
  },
  {
   "cell_type": "code",
   "execution_count": null,
   "id": "fb34f4ed",
   "metadata": {},
   "outputs": [],
   "source": [
    "# hourly_req, _ = plan_break_down(meat_and_req=meat_and_req, \n",
    "#                                             meat_hourly=meat_hourly, \n",
    "#                                             hour_priority=hour_priority)\n"
   ]
  },
  {
   "cell_type": "markdown",
   "id": "e70f0728",
   "metadata": {},
   "source": [
    "## Hourly Activity Time Check"
   ]
  },
  {
   "cell_type": "code",
   "execution_count": null,
   "id": "cf7800b3",
   "metadata": {},
   "outputs": [],
   "source": []
  },
  {
   "cell_type": "markdown",
   "id": "6ba4cab2",
   "metadata": {},
   "source": [
    "# Show the Hourly Total Position Num for the Best Plan\n"
   ]
  },
  {
   "cell_type": "code",
   "execution_count": null,
   "id": "9bebb4b0",
   "metadata": {},
   "outputs": [],
   "source": [
    "hourly_total_position_stdev(best_plan,cap,hour_priority,seq,plot=True)"
   ]
  },
  {
   "cell_type": "markdown",
   "id": "72b45bd0",
   "metadata": {},
   "source": [
    "# Show OEE Table for the Best Plan\n"
   ]
  },
  {
   "cell_type": "code",
   "execution_count": null,
   "id": "dea21578",
   "metadata": {},
   "outputs": [],
   "source": [
    "OEE, OEE_table=EEO_caculation(best_plan,cap,hour_priority,seq)\n",
    "OEE_table"
   ]
  },
  {
   "cell_type": "markdown",
   "id": "82979654",
   "metadata": {},
   "source": [
    "# Estimated Position Num for Each Activity (Best Plan)\n"
   ]
  },
  {
   "cell_type": "code",
   "execution_count": null,
   "id": "f1759cf6",
   "metadata": {},
   "outputs": [],
   "source": [
    "visualize_estimated_position_num(best_plan,cap,hour_priority,seq)"
   ]
  },
  {
   "cell_type": "code",
   "execution_count": null,
   "id": "10ee4a1a",
   "metadata": {},
   "outputs": [],
   "source": [
    "best_plan.to_excel(\"best_plan.xlsx\")"
   ]
  },
  {
   "cell_type": "markdown",
   "id": "22c725df",
   "metadata": {},
   "source": [
    "# More Detailed Analysis\n"
   ]
  },
  {
   "cell_type": "markdown",
   "id": "132ed11c",
   "metadata": {},
   "source": [
    "### To see how adjustment helps improve the overall efficiency.\n"
   ]
  },
  {
   "cell_type": "markdown",
   "id": "6a88e06b",
   "metadata": {},
   "source": [
    "##### Use Method 1 get an hourly plan\n",
    "\n",
    "Method 1 calculate ratios based on pieces required by each sku.\n"
   ]
  },
  {
   "cell_type": "code",
   "execution_count": null,
   "id": "610a3d2c",
   "metadata": {},
   "outputs": [],
   "source": [
    "hourly_packaging_plan_method1, requirements_not_complete_method1 = plan_break_down(meat_and_req, meat_hourly, hour_priority)\n",
    "hourly_packaging_plan_method1"
   ]
  },
  {
   "cell_type": "markdown",
   "id": "4a73742c",
   "metadata": {},
   "source": [
    "#### Adjust hourly plan with given learning rate\n"
   ]
  },
  {
   "cell_type": "code",
   "execution_count": null,
   "id": "03a004d2",
   "metadata": {},
   "outputs": [],
   "source": [
    "new_plan,new_infeasible_table = adjust_infeasible_plan(hourly_packaging_plan_method1,req,cap,seq,hour_priority,adjusting_rate=0.01)"
   ]
  },
  {
   "cell_type": "markdown",
   "id": "766dc5b2",
   "metadata": {},
   "source": [
    "#### Hourly Total Position Num Before Adjustment\n"
   ]
  },
  {
   "cell_type": "code",
   "execution_count": null,
   "id": "6b69caaa",
   "metadata": {},
   "outputs": [],
   "source": [
    "hourly_total_position_stdev(hourly_packaging_plan_method1,cap,hour_priority,seq,plot=True)"
   ]
  },
  {
   "cell_type": "markdown",
   "id": "a19f560e",
   "metadata": {},
   "source": [
    "#### Hourly Total Position Num after Adjustment\n"
   ]
  },
  {
   "cell_type": "code",
   "execution_count": null,
   "id": "f96ef9ec",
   "metadata": {},
   "outputs": [],
   "source": [
    "hourly_total_position_stdev(new_plan,cap,hour_priority,seq,plot=True)"
   ]
  },
  {
   "cell_type": "code",
   "execution_count": null,
   "id": "27e85f9b",
   "metadata": {},
   "outputs": [],
   "source": []
  }
 ],
 "metadata": {
  "kernelspec": {
   "display_name": "Python 3",
   "language": "python",
   "name": "python3"
  },
  "language_info": {
   "codemirror_mode": {
    "name": "ipython",
    "version": 3
   },
   "file_extension": ".py",
   "mimetype": "text/x-python",
   "name": "python",
   "nbconvert_exporter": "python",
   "pygments_lexer": "ipython3",
   "version": "3.10.1"
  },
  "vscode": {
   "interpreter": {
    "hash": "5a375f7fabcbafe59dbbeab6fed567b5e594bbe67bff83c6ba3516056a7048ff"
   }
  }
 },
 "nbformat": 4,
 "nbformat_minor": 5
}
