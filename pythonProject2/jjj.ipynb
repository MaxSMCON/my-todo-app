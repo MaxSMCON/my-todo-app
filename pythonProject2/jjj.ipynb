{
 "cells": [
  {
   "cell_type": "code",
   "execution_count": null,
   "metadata": {
    "collapsed": true,
    "pycharm": {
     "is_executing": true
    }
   },
   "outputs": [],
   "source": [
    "2 + 2\n"
   ]
  },
  {
   "cell_type": "code",
   "execution_count": 2,
   "outputs": [
    {
     "data": {
      "text/plain": "Index(['MovementDate', 'MovementDateFloat', 'ItemKey', 'MovementType',\n       'PostingType', 'CostCenterKey1', 'NLotNo1', 'LotDate1',\n       'CostCenterKey2', 'UserKey', 'TransactDateTime', 'OrderKey',\n       'AddressKey', 'SSCC', 'CaseQty', 'Kgs', 'PalletNumber', 'TimeOfDay',\n       'ReferenceNumber', 'Scale', 'Creation Date', 'SHIFT', 'backdated'],\n      dtype='object')"
     },
     "execution_count": 2,
     "metadata": {},
     "output_type": "execute_result"
    }
   ],
   "source": [
    "\n",
    "import pandas as pd\n",
    "\n",
    "filepath = \"Q:\\Operations\\Reports\\Inventory Movement Analysis v4.xlsm\"\n",
    "df = pd.read_excel(filepath, skiprows=9)\n",
    "\n",
    "sheet_name = 'Sheet 1'\n",
    "\n",
    "column_name = 'Kgs'\n",
    "\n",
    "# print(df.columns)\n",
    "\n",
    "# Find duplicates\n",
    "duplicates = df[df.duplicated(subset=column_name, keep=False)]\n",
    "\n",
    "# Print the duplicate rows\n",
    "duplicates.columns"
   ],
   "metadata": {
    "collapsed": false
   }
  },
  {
   "cell_type": "code",
   "execution_count": 4,
   "outputs": [
    {
     "data": {
      "text/plain": "     ItemKey     Kgs\n0        604   947.0\n1        309  1037.2\n2        309  1066.8\n3        103   441.6\n4        103   252.0\n..       ...     ...\n747      407   924.5\n758      811   140.4\n760      501   919.5\n778      407   831.4\n788      147  1005.5\n\n[374 rows x 2 columns]",
      "text/html": "<div>\n<style scoped>\n    .dataframe tbody tr th:only-of-type {\n        vertical-align: middle;\n    }\n\n    .dataframe tbody tr th {\n        vertical-align: top;\n    }\n\n    .dataframe thead th {\n        text-align: right;\n    }\n</style>\n<table border=\"1\" class=\"dataframe\">\n  <thead>\n    <tr style=\"text-align: right;\">\n      <th></th>\n      <th>ItemKey</th>\n      <th>Kgs</th>\n    </tr>\n  </thead>\n  <tbody>\n    <tr>\n      <th>0</th>\n      <td>604</td>\n      <td>947.0</td>\n    </tr>\n    <tr>\n      <th>1</th>\n      <td>309</td>\n      <td>1037.2</td>\n    </tr>\n    <tr>\n      <th>2</th>\n      <td>309</td>\n      <td>1066.8</td>\n    </tr>\n    <tr>\n      <th>3</th>\n      <td>103</td>\n      <td>441.6</td>\n    </tr>\n    <tr>\n      <th>4</th>\n      <td>103</td>\n      <td>252.0</td>\n    </tr>\n    <tr>\n      <th>...</th>\n      <td>...</td>\n      <td>...</td>\n    </tr>\n    <tr>\n      <th>747</th>\n      <td>407</td>\n      <td>924.5</td>\n    </tr>\n    <tr>\n      <th>758</th>\n      <td>811</td>\n      <td>140.4</td>\n    </tr>\n    <tr>\n      <th>760</th>\n      <td>501</td>\n      <td>919.5</td>\n    </tr>\n    <tr>\n      <th>778</th>\n      <td>407</td>\n      <td>831.4</td>\n    </tr>\n    <tr>\n      <th>788</th>\n      <td>147</td>\n      <td>1005.5</td>\n    </tr>\n  </tbody>\n</table>\n<p>374 rows × 2 columns</p>\n</div>"
     },
     "execution_count": 4,
     "metadata": {},
     "output_type": "execute_result"
    }
   ],
   "source": [
    "duplicates[[duplicates = df[df.duplicated(subset=column_name, keep=False)][column_name]\n",
    "]]"
   ],
   "metadata": {
    "collapsed": false
   }
  },
  {
   "cell_type": "code",
   "execution_count": 5,
   "outputs": [
    {
     "data": {
      "text/plain": "0       947.0\n1      1037.2\n2      1066.8\n3       441.6\n4       252.0\n        ...  \n747     924.5\n758     140.4\n760     919.5\n778     831.4\n788    1005.5\nName: Kgs, Length: 374, dtype: float64"
     },
     "execution_count": 5,
     "metadata": {},
     "output_type": "execute_result"
    }
   ],
   "source": [
    "duplicates = df[df.duplicated(subset=column_name, keep=False)][column_name]\n",
    "duplicates"
   ],
   "metadata": {
    "collapsed": false
   }
  }
 ],
 "metadata": {
  "kernelspec": {
   "display_name": "Python 3",
   "language": "python",
   "name": "python3"
  },
  "language_info": {
   "codemirror_mode": {
    "name": "ipython",
    "version": 2
   },
   "file_extension": ".py",
   "mimetype": "text/x-python",
   "name": "python",
   "nbconvert_exporter": "python",
   "pygments_lexer": "ipython2",
   "version": "2.7.6"
  }
 },
 "nbformat": 4,
 "nbformat_minor": 0
}
